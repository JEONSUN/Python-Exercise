{
 "cells": [
  {
   "cell_type": "markdown",
   "metadata": {},
   "source": [
    "## 스타크래프트 유닛 생성하기"
   ]
  },
  {
   "cell_type": "code",
   "execution_count": 5,
   "metadata": {},
   "outputs": [
    {
     "name": "stdout",
     "output_type": "stream",
     "text": [
      "마린 유닛이 생성되었습니다.\n",
      "체력 40, 공격력 5\n",
      "\n",
      "탱크 유닛이 생성되었습니다.\n",
      "체력 150, 공격력 35\n",
      "\n",
      "탱크 유닛이 생성되었습니다.\n",
      "체력 150, 공격력 35\n",
      "\n"
     ]
    }
   ],
   "source": [
    "name = '마린'\n",
    "hp = 40\n",
    "damage = 5\n",
    "\n",
    "print(\"{0} 유닛이 생성되었습니다.\".format(name))\n",
    "print(\"체력 {0}, 공격력 {1}\\n\".format(hp, damage))\n",
    "\n",
    "tank_name = '탱크'\n",
    "tank_hp = 150\n",
    "tank_damage = 35\n",
    "\n",
    "print(\"{0} 유닛이 생성되었습니다.\".format(tank_name))\n",
    "print(\"체력 {0}, 공격력 {1}\\n\".format(tank_hp, tank_damage))\n",
    "\n",
    "\n",
    "tank2_name = '탱크'\n",
    "tank2_hp = 150\n",
    "tank2_damage = 35\n",
    "\n",
    "print(\"{0} 유닛이 생성되었습니다.\".format(tank2_name))\n",
    "print(\"체력 {0}, 공격력 {1}\\n\".format(tank2_hp, tank2_damage))"
   ]
  },
  {
   "cell_type": "code",
   "execution_count": 3,
   "metadata": {},
   "outputs": [],
   "source": [
    "def attack(name, location, damage) :\n",
    "    print(\"{0} : {1} 방향으로 적군을 공격 합니다. [공격력 {2}]\".format(\\\n",
    "                                                       name, location, damage))"
   ]
  },
  {
   "cell_type": "code",
   "execution_count": 6,
   "metadata": {},
   "outputs": [
    {
     "name": "stdout",
     "output_type": "stream",
     "text": [
      "마린 : 1시 방향으로 적군을 공격 합니다. [공격력 5]\n",
      "탱크 : 1시 방향으로 적군을 공격 합니다. [공격력 35]\n",
      "탱크 : 1시 방향으로 적군을 공격 합니다. [공격력 35]\n"
     ]
    }
   ],
   "source": [
    "attack(name, \"1시\", damage)\n",
    "attack(tank_name, \"1시\", tank_damage)\n",
    "attack(tank2_name, \"1시\", tank2_damage)"
   ]
  },
  {
   "cell_type": "markdown",
   "metadata": {},
   "source": [
    "하나하나 입력하기엔 너무 많아지고 오래걸린다"
   ]
  },
  {
   "cell_type": "markdown",
   "metadata": {},
   "source": [
    "## Class를 사용하여 유닛 생성"
   ]
  },
  {
   "cell_type": "code",
   "execution_count": 11,
   "metadata": {},
   "outputs": [],
   "source": [
    "class Unit :\n",
    "    def __init__(self, name, hp, damage) : \n",
    "        self.name = name\n",
    "        self.hp = hp\n",
    "        self.damage = damage\n",
    "        print(\"{0} 유닛이 생성 되었습니다.\".format(self.name))\n",
    "        print(\"체력 {0}, 공격력{1}\".format(self.hp, self.damage))"
   ]
  },
  {
   "cell_type": "markdown",
   "metadata": {},
   "source": [
    "### __init__\n",
    "#### 객체를 만들때 사용하는 생성자 \n",
    "- 객체: 클래스로부터 만들어지는 것들\n",
    "\n",
    "\n",
    "### 멤버변수\n",
    "#### self.name, self.hp등이 해당\n",
    "#### 클래스 외부에서도 사용이 가능하다"
   ]
  },
  {
   "cell_type": "code",
   "execution_count": 12,
   "metadata": {},
   "outputs": [
    {
     "name": "stdout",
     "output_type": "stream",
     "text": [
      "마린 유닛이 생성 되었습니다.\n",
      "체력 40, 공격력5\n",
      "마린 유닛이 생성 되었습니다.\n",
      "체력 40, 공격력5\n",
      "탱크 유닛이 생성 되었습니다.\n",
      "체력 150, 공격력35\n"
     ]
    }
   ],
   "source": [
    "## self를 제외한 입력값들을 입력해줘야함\n",
    "marine1 = Unit(\"마린\", 40, 5)\n",
    "marine2 = Unit(\"마린\", 40, 5)\n",
    "tank = Unit(\"탱크\", 150, 35)"
   ]
  },
  {
   "cell_type": "code",
   "execution_count": 15,
   "metadata": {},
   "outputs": [
    {
     "name": "stdout",
     "output_type": "stream",
     "text": [
      "레이스 유닛이 생성 되었습니다.\n",
      "체력 80, 공격력5\n",
      "유닛 이름 : 레이스, 공격력 : 5\n"
     ]
    }
   ],
   "source": [
    "wraith1 = Unit(\"레이스\", 80, 5)\n",
    "\n",
    "## 멤버변수는 클래스 외부에서도 사용이 가능하다\n",
    "print(\"유닛 이름 : {0}, 공격력 : {1}\".format(wraith1.name, wraith1.damage))"
   ]
  },
  {
   "cell_type": "code",
   "execution_count": 35,
   "metadata": {},
   "outputs": [],
   "source": [
    "class AttackUnit :\n",
    "    def __init__(self, name, hp, damage) : # self는 항시 써줘야함\n",
    "        self.name = name\n",
    "        self.hp = hp\n",
    "        self.damage = damage\n",
    "    def attack(self, location) : # sel.은 class에서 멤버변수로 받은 값을, 그냥 location은 전달받은 location을 사용하겠다는 의미\n",
    "        print(\"{0} : {1} 방향으로 적군을 공격 합니다. [공격력 {2}]\".format(self.name, location, self.damage))\n",
    "        \n",
    "    def damaged(self, damage) :\n",
    "        print(\"{0} : {1} 데미지를 입었습니다.\".format(self.name, damage))\n",
    "        self.hp -= damage\n",
    "        print(\"{0} : 현재 체력은 {1}입니다.\".format(self.name, self.hp))\n",
    "        if self.hp <= 0 :\n",
    "            print(\"{0} : 파괴되었습니다.\".format(self.name))"
   ]
  },
  {
   "cell_type": "code",
   "execution_count": 46,
   "metadata": {},
   "outputs": [
    {
     "name": "stdout",
     "output_type": "stream",
     "text": [
      "파이어뱃 : 5시 방향으로 적군을 공격 합니다. [공격력 16]\n"
     ]
    }
   ],
   "source": [
    "firebat1 = AttackUnit(\"파이어뱃\",50,16)\n",
    "firebat1.attack(\"5시\")"
   ]
  },
  {
   "cell_type": "code",
   "execution_count": 47,
   "metadata": {},
   "outputs": [
    {
     "name": "stdout",
     "output_type": "stream",
     "text": [
      "파이어뱃 : 25 데미지를 입었습니다.\n",
      "파이어뱃 : 현재 체력은 25입니다.\n",
      "파이어뱃 : 25 데미지를 입었습니다.\n",
      "파이어뱃 : 현재 체력은 0입니다.\n",
      "파이어뱃 : 파괴되었습니다.\n"
     ]
    }
   ],
   "source": [
    "# 생성한 damaged로 \n",
    "firebat1.damaged(25)\n",
    "firebat1.damaged(25)"
   ]
  },
  {
   "cell_type": "markdown",
   "metadata": {},
   "source": [
    "## 상속\n",
    "\n",
    "### Unit에서의 name, hp가 AttackUnit의 name, hp가 겹침\n",
    "\n",
    "- Class에서는 **상속**이 가능하다!\n",
    "\n",
    "#### 지금까지의 Class"
   ]
  },
  {
   "cell_type": "code",
   "execution_count": 68,
   "metadata": {},
   "outputs": [],
   "source": [
    "class Unit :\n",
    "    def __init__(self, name, hp, speed) : \n",
    "        self.name = name\n",
    "        self.hp = hp\n",
    "        self.speed = speed\n",
    "        print(\"{0} 유닛이 생성되었습니다.\".format(name))\n",
    "    # 지상유닛 이동\n",
    "    def move(self, location) :\n",
    "        print(\"[지상 유닛 이동]\")\n",
    "        print(\"{0} : {1} 방향으로 이동합니다 [속도 {2}]\".format(self.name, location, self.speed))\n",
    "        \n",
    "# 상속을 하기위해 Class에 상속 받고자하는 클래스를 정의한다        \n",
    "class AttackUnit(Unit) :\n",
    "    def __init__(self, name, hp, speed, damage) : \n",
    "         # self.name = name 상속받으므로 해당 구문이 필요가 없음 \n",
    "        Unit.__init__(self, name, hp, speed) # Unit의 name과 hp를 상속받음\n",
    "        self.damage = damage # unit에 데미지는 없었으므로 입력값 그대로 맏음\n",
    "    def attack(self, location) : \n",
    "        print(\"{0} : {1} 방향으로 적군을 공격 합니다. [공격력 {2}]\".format(self.name, location, self.damage))\n",
    "        \n",
    "    def damaged(self, damage) :\n",
    "        print(\"{0} : {1} 데미지를 입었습니다.\".format(self.name, damage))\n",
    "        self.hp -= damage\n",
    "        print(\"{0} : 현재 체력은 {1}입니다.\".format(self.name, self.hp))\n",
    "        if self.hp <= 0 :\n",
    "            print(\"{0} : 파괴되었습니다.\".format(self.name))\n",
    "\n",
    "## 날 수 있는 기능을 가진 클래스            \n",
    "class Flyable :\n",
    "    def __init__(self, flying_speed) :\n",
    "        self.flying_speed = flying_speed # 날아가는 속도\n",
    "    # 공중유닛 이동    \n",
    "    def fly(self, name, location) :\n",
    "        print(\"{0} : {1} 방향으로 날아갑니다. [속도 {2}]\".format(name, location, self.flying_speed))\n",
    "\n",
    "## 공중 공격 유닛 클래스(다중 상속 사용)\n",
    "class FlyableAttackUnit(AttackUnit, Flyable) :\n",
    "    def __init__(self, name, hp, damage, flying_speed) :\n",
    "        AttackUnit.__init__(self, name, hp,0, damage)\n",
    "        Flyable.__init__(self,flying_speed)\n",
    "    ## 클래스 오버라이딩\n",
    "    def move(self,location) :\n",
    "        print(\"[공중 유닛 이동]\")\n",
    "        self.fly(self.name, location)\n",
    "\n",
    "## 건물 짓기\n",
    "class BuildingUnit(Unit) :\n",
    "    def __init__(self, name, hp, location) :\n",
    "        #Unit.__init__(self, name, hp, 0)\n",
    "        super().__init__(name,hp,0) # Unit을 통해서 상속하는것과 같은 표현, 대신 super는 self를 생략해야한다.\n",
    "        self.location = location\n",
    "\n"
   ]
  },
  {
   "cell_type": "code",
   "execution_count": 49,
   "metadata": {},
   "outputs": [
    {
     "name": "stdout",
     "output_type": "stream",
     "text": [
      "파이어뱃 : 5시 방향으로 적군을 공격 합니다. [공격력 16]\n",
      "파이어뱃 : 25 데미지를 입었습니다.\n",
      "파이어뱃 : 현재 체력은 25입니다.\n",
      "파이어뱃 : 25 데미지를 입었습니다.\n",
      "파이어뱃 : 현재 체력은 0입니다.\n",
      "파이어뱃 : 파괴되었습니다.\n"
     ]
    }
   ],
   "source": [
    "# 파이어뱃 생성\n",
    "firebat1 = AttackUnit(\"파이어뱃\",50,16)\n",
    "firebat1.attack(\"5시\")\n",
    "\n",
    "# 생성한 damaged로 \n",
    "firebat1.damaged(25)\n",
    "firebat1.damaged(25)"
   ]
  },
  {
   "cell_type": "code",
   "execution_count": 55,
   "metadata": {},
   "outputs": [
    {
     "name": "stdout",
     "output_type": "stream",
     "text": [
      "발키리 : 3시 방향으로 날아갑니다. [속도 5]\n"
     ]
    }
   ],
   "source": [
    "# 발키리 생성\n",
    "valkyrie = FlyableAttackUnit(\"발키리\",200,6,5)\n",
    "valkyrie.fly(valkyrie.name, \"3시\")"
   ]
  },
  {
   "cell_type": "code",
   "execution_count": 66,
   "metadata": {},
   "outputs": [],
   "source": [
    "# 벌쳐 생성\n",
    "vulture = AttackUnit(\"벌쳐\", 80, 10, 20)\n",
    "# 배틀크루저 생성\n",
    "battlecruiser = FlyableAttackUnit(\"배틀크루저\", 500,25, 3)"
   ]
  },
  {
   "cell_type": "code",
   "execution_count": 67,
   "metadata": {},
   "outputs": [
    {
     "name": "stdout",
     "output_type": "stream",
     "text": [
      "[지상 유닛 이동]\n",
      "벌쳐 : 11시 방향으로 이동합니다 [속도 10]\n",
      "[공중 유닛 이동]\n",
      "배틀크루저 : 9시 방향으로 날아갑니다. [속도 3]\n"
     ]
    }
   ],
   "source": [
    "# 유닛 이동\n",
    "vulture.move(\"11시\")\n",
    "# battlecruiser.fly(battlecruiser.name,\"9시\")\n",
    "# 오버라이딩 사용으로 같은 move여도 \"날아갑니다\" 출력\n",
    "battlecruiser.move('9시')"
   ]
  }
 ],
 "metadata": {
  "kernelspec": {
   "display_name": "Python 3 (ipykernel)",
   "language": "python",
   "name": "python3"
  },
  "language_info": {
   "codemirror_mode": {
    "name": "ipython",
    "version": 3
   },
   "file_extension": ".py",
   "mimetype": "text/x-python",
   "name": "python",
   "nbconvert_exporter": "python",
   "pygments_lexer": "ipython3",
   "version": "3.8.5"
  }
 },
 "nbformat": 4,
 "nbformat_minor": 4
}
