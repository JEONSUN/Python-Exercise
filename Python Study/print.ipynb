{
 "cells": [
  {
   "cell_type": "code",
   "execution_count": 5,
   "metadata": {},
   "outputs": [],
   "source": [
    "from random import *"
   ]
  },
  {
   "cell_type": "code",
   "execution_count": 7,
   "metadata": {},
   "outputs": [
    {
     "name": "stdout",
     "output_type": "stream",
     "text": [
      "0.903459556466489\n",
      "5.202151712508226\n",
      "9\n",
      "3\n",
      "3\n"
     ]
    }
   ],
   "source": [
    "print(random())\n",
    "print(random() * 10)\n",
    "print(int(random() * 10))\n",
    "print(int(random() * 10))\n",
    "print(int(random() * 10))"
   ]
  },
  {
   "cell_type": "code",
   "execution_count": 13,
   "metadata": {},
   "outputs": [
    {
     "name": "stdout",
     "output_type": "stream",
     "text": [
      "34\n"
     ]
    }
   ],
   "source": [
    "print(randrange(1,46))"
   ]
  },
  {
   "cell_type": "code",
   "execution_count": 14,
   "metadata": {},
   "outputs": [
    {
     "name": "stdout",
     "output_type": "stream",
     "text": [
      "6\n",
      "35\n",
      "11\n",
      "15\n",
      "18\n",
      "37\n"
     ]
    }
   ],
   "source": [
    "print(randint(1,45))\n",
    "print(randint(1,45))\n",
    "print(randint(1,45))\n",
    "print(randint(1,45))\n",
    "print(randint(1,45))\n",
    "print(randint(1,45))"
   ]
  },
  {
   "cell_type": "code",
   "execution_count": 19,
   "metadata": {},
   "outputs": [
    {
     "name": "stdout",
     "output_type": "stream",
     "text": [
      "오프라인 스터디 모임 날짜는 매월 24일로 선정되었습니다.\n"
     ]
    }
   ],
   "source": [
    "print(\"오프라인 스터디 모임 날짜는 매월 {}일로 선정되었습니다.\".format(randrange(4,29)))"
   ]
  },
  {
   "cell_type": "code",
   "execution_count": 20,
   "metadata": {},
   "outputs": [
    {
     "name": "stdout",
     "output_type": "stream",
     "text": [
      "python is amazing\n",
      "PYTHON IS AMAZING\n",
      "True\n",
      "17\n",
      "Java is Amazing\n"
     ]
    }
   ],
   "source": [
    "python = \"Python is Amazing\"\n",
    "print(python.lower())\n",
    "print(python.upper())\n",
    "print(python[10].isupper())\n",
    "print(len(python))\n",
    "print(python.replace(\"Python\",'Java'))"
   ]
  },
  {
   "cell_type": "code",
   "execution_count": 26,
   "metadata": {},
   "outputs": [
    {
     "name": "stdout",
     "output_type": "stream",
     "text": [
      "5\n",
      "15\n",
      "-1\n"
     ]
    }
   ],
   "source": [
    "idx = python.index('n')\n",
    "print(idx)\n",
    "idx = python.index('n',idx + 1)\n",
    "print(idx)\n",
    "print(python.find('Java'))"
   ]
  },
  {
   "cell_type": "code",
   "execution_count": 30,
   "metadata": {},
   "outputs": [
    {
     "name": "stdout",
     "output_type": "stream",
     "text": [
      "나는 20살입니다.\n",
      "나는 파이썬을 좋아해요.\n",
      "Apple은 A로 시작해요.\n",
      "나는 파란색과 빨간색을 좋아해요.\n"
     ]
    }
   ],
   "source": [
    "print(\"나는 %d살입니다.\" %20)\n",
    "print(\"나는 %s을 좋아해요.\" %\"파이썬\")\n",
    "print(\"Apple은 %c로 시작해요.\" %\"A\")\n",
    "print(\"나는 %s색과 %s색을 좋아해요.\" %(\"파란\", \"빨간\"))"
   ]
  },
  {
   "cell_type": "code",
   "execution_count": 36,
   "metadata": {},
   "outputs": [
    {
     "name": "stdout",
     "output_type": "stream",
     "text": [
      "백문이 불여일견 \n",
      "백견이 불여일타\n",
      "저는'나도코딩'입니다.\n",
      "저는 \"나도코딩\"입니다.\n"
     ]
    }
   ],
   "source": [
    "print(\"백문이 불여일견 \\n백견이 불여일타\")\n",
    "print(\"저는'나도코딩'입니다.\")\n",
    "print(\"저는 \\\"나도코딩\\\"입니다.\")"
   ]
  },
  {
   "cell_type": "code",
   "execution_count": 47,
   "metadata": {},
   "outputs": [
    {
     "name": "stdout",
     "output_type": "stream",
     "text": [
      "생성된 비밀번호 : nav51!\n"
     ]
    }
   ],
   "source": [
    "site = \"http://naver.com\"\n",
    "password = site[7:]\n",
    "password = password[:-4]\n",
    "print(\"생성된 비밀번호 :\", password[:3] + str(len(password)) + '1' + '!')"
   ]
  },
  {
   "cell_type": "code",
   "execution_count": 54,
   "metadata": {},
   "outputs": [
    {
     "name": "stdout",
     "output_type": "stream",
     "text": [
      "nav51!\n"
     ]
    }
   ],
   "source": [
    "my_str = site[7:]\n",
    "my_str = my_str[:my_str.index(\".\")]\n",
    "password = my_str[:3] + str(len(my_str)) + str(my_str.count('e')) + '!'\n",
    "print(password)"
   ]
  },
  {
   "cell_type": "code",
   "execution_count": 55,
   "metadata": {},
   "outputs": [],
   "source": [
    "cabinet = {3:'유재석',5:\"김태호\"}"
   ]
  },
  {
   "cell_type": "code",
   "execution_count": 59,
   "metadata": {},
   "outputs": [
    {
     "name": "stdout",
     "output_type": "stream",
     "text": [
      "김태호\n",
      "유재석\n",
      "유재석\n"
     ]
    }
   ],
   "source": [
    "print(cabinet[5])\n",
    "print(cabinet.get(3))\n",
    "print(cabinet[3])"
   ]
  },
  {
   "cell_type": "code",
   "execution_count": 72,
   "metadata": {},
   "outputs": [
    {
     "name": "stdout",
     "output_type": "stream",
     "text": [
      "[] 1번째 손님 (소요시간 : 33분)\n",
      "[O] 2번째 손님 (소요시간 : 11분)\n",
      "[] 3번째 손님 (소요시간 : 18분)\n",
      "[] 4번째 손님 (소요시간 : 21분)\n",
      "[] 5번째 손님 (소요시간 : 27분)\n",
      "[O] 6번째 손님 (소요시간 : 11분)\n",
      "[] 7번째 손님 (소요시간 : 40분)\n",
      "[] 8번째 손님 (소요시간 : 47분)\n",
      "[O] 9번째 손님 (소요시간 : 9분)\n",
      "[] 10번째 손님 (소요시간 : 47분)\n",
      "[O] 11번째 손님 (소요시간 : 14분)\n",
      "[O] 12번째 손님 (소요시간 : 15분)\n",
      "[O] 13번째 손님 (소요시간 : 13분)\n",
      "[] 14번째 손님 (소요시간 : 28분)\n",
      "[] 15번째 손님 (소요시간 : 17분)\n",
      "[] 16번째 손님 (소요시간 : 35분)\n",
      "[] 17번째 손님 (소요시간 : 43분)\n",
      "[] 18번째 손님 (소요시간 : 45분)\n",
      "[] 19번째 손님 (소요시간 : 19분)\n",
      "[] 20번째 손님 (소요시간 : 49분)\n",
      "[] 21번째 손님 (소요시간 : 29분)\n",
      "[] 22번째 손님 (소요시간 : 49분)\n",
      "[O] 23번째 손님 (소요시간 : 10분)\n",
      "[] 24번째 손님 (소요시간 : 16분)\n",
      "[O] 25번째 손님 (소요시간 : 12분)\n",
      "[] 26번째 손님 (소요시간 : 43분)\n",
      "[] 27번째 손님 (소요시간 : 46분)\n",
      "[] 28번째 손님 (소요시간 : 28분)\n",
      "[O] 29번째 손님 (소요시간 : 14분)\n",
      "[] 30번째 손님 (소요시간 : 34분)\n",
      "[O] 31번째 손님 (소요시간 : 12분)\n",
      "[] 32번째 손님 (소요시간 : 32분)\n",
      "[] 33번째 손님 (소요시간 : 16분)\n",
      "[] 34번째 손님 (소요시간 : 31분)\n",
      "[] 35번째 손님 (소요시간 : 38분)\n",
      "[] 36번째 손님 (소요시간 : 17분)\n",
      "[] 37번째 손님 (소요시간 : 17분)\n",
      "[O] 38번째 손님 (소요시간 : 7분)\n",
      "[] 39번째 손님 (소요시간 : 23분)\n",
      "[] 40번째 손님 (소요시간 : 45분)\n",
      "[] 41번째 손님 (소요시간 : 17분)\n",
      "[] 42번째 손님 (소요시간 : 36분)\n",
      "[] 43번째 손님 (소요시간 : 21분)\n",
      "[] 44번째 손님 (소요시간 : 43분)\n",
      "[] 45번째 손님 (소요시간 : 44분)\n",
      "[] 46번째 손님 (소요시간 : 35분)\n",
      "[] 47번째 손님 (소요시간 : 25분)\n",
      "[O] 48번째 손님 (소요시간 : 10분)\n",
      "[] 49번째 손님 (소요시간 : 32분)\n",
      "----------------------------------------\n",
      "총 탑승 승객 : 12\n"
     ]
    }
   ],
   "source": [
    "cnt = 0\n",
    "for i in range(1,50) :\n",
    "    pass_time = randrange(5,50)\n",
    "    if 5<= pass_time <=15 :\n",
    "        match_yes = 'O'\n",
    "        cnt += 1\n",
    "    else :\n",
    "        match_yes = ''\n",
    "    print('[{0}] {1}번째 손님 (소요시간 : {2}분)'.format(match_yes,i,pass_time))\n",
    "print('----------------------------------------')\n",
    "print('총 탑승 승객 :', cnt )"
   ]
  },
  {
   "cell_type": "code",
   "execution_count": 75,
   "metadata": {},
   "outputs": [
    {
     "name": "stdout",
     "output_type": "stream",
     "text": [
      "Python Java\n"
     ]
    },
    {
     "name": "stderr",
     "output_type": "stream",
     "text": [
      "Python Java\n"
     ]
    }
   ],
   "source": [
    "import sys\n",
    "\n",
    "print('Python', 'Java', file = sys.stdout)\n",
    "print('Python','Java', file = sys.stderr)\n"
   ]
  },
  {
   "cell_type": "code",
   "execution_count": 84,
   "metadata": {},
   "outputs": [
    {
     "name": "stdout",
     "output_type": "stream",
     "text": [
      "수학      :  00\n",
      "영어      :  50\n",
      "코딩      : 100\n"
     ]
    }
   ],
   "source": [
    "scores = {'수학':0, \"영어\":50, \"코딩\" : 100}\n",
    "for subject, score in scores.items() :\n",
    "    print(subject.ljust(8),str(score).zfill(2).rjust(4), sep = \":\") # subject는 왼쪽 정렬, score는 우측 정렬, # zfill : 2자리까지 0 채우기"
   ]
  },
  {
   "cell_type": "code",
   "execution_count": 96,
   "metadata": {},
   "outputs": [
    {
     "name": "stdout",
     "output_type": "stream",
     "text": [
      "      +500\n",
      "      -500\n",
      "500_______\n",
      "1,000,000,000\n",
      "+1,000,000,000\n",
      "-1,000,000,000\n",
      "+100,000,000^^^^^^^^^^^^^^^^^^\n",
      "1.67\n"
     ]
    }
   ],
   "source": [
    "# 빈 자리는 빈공간으로 두고, 오른쪽 정렬을 하되 10자리의 공간 확보\n",
    "print(\"{0: >+10}\".format(500)) # 양수는 +로\n",
    "print(\"{0: >+10}\".format(-500)) # 음수는 -로 표시\n",
    "\n",
    "# 왼쪽 정렬하고, 빈칸으로 _를 채움\n",
    "print(\"{0:_<10}\".format(500))\n",
    "# 3자리마다 콤마를 찍어주기\n",
    "print(\"{0:,}\".format(1000000000))\n",
    "print(\"{0:+,}\".format(1000000000)) # 부호 붙이기\n",
    "print(\"{0:+,}\".format(-1000000000)) # -부호 붙이기\n",
    "# 돈이 많으면 행복하니까 빈 자리는 ^로 채워주기\n",
    "print(\"{0:^<+30,}\".format(100000000))\n",
    "\n",
    "# 소수점 출력(소수점 3째 자리까지 반올림)\n",
    "print(\"{0:.2f}\".format(5/3))"
   ]
  }
 ],
 "metadata": {
  "kernelspec": {
   "display_name": "Python 3 (ipykernel)",
   "language": "python",
   "name": "python3"
  },
  "language_info": {
   "codemirror_mode": {
    "name": "ipython",
    "version": 3
   },
   "file_extension": ".py",
   "mimetype": "text/x-python",
   "name": "python",
   "nbconvert_exporter": "python",
   "pygments_lexer": "ipython3",
   "version": "3.8.5"
  }
 },
 "nbformat": 4,
 "nbformat_minor": 4
}
