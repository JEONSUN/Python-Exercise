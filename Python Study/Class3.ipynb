{
 "cells": [
  {
   "cell_type": "markdown",
   "metadata": {},
   "source": [
    "주어진 코드를 활용하여 부동산 프로그램을 작성하시오\n",
    "\n",
    "~~~python\n",
    "(출력 예제)\n",
    "총 3대의 매물이 있습니다.\n",
    "\n",
    "강남 아파트 매매 10억 2010년\n",
    "마포 오피스텔 전세 5억 2007년\n",
    "송파 빌라 월세 500/50 2000년\n",
    "~~~"
   ]
  },
  {
   "cell_type": "code",
   "execution_count": 7,
   "metadata": {},
   "outputs": [],
   "source": [
    "class House :\n",
    "    # 매물 초기화\n",
    "    def __init__(self, location, house_type, deal_type, price, completion_year) :\n",
    "        self.location = location\n",
    "        self.house_type = house_type\n",
    "        self.deal_type = deal_type\n",
    "        self.price = price\n",
    "        self.completion_year = completion_year\n",
    "        \n",
    "    def show_detail(self) :\n",
    "        print(self.location,self.house_type,self.deal_type,self.price,self.completion_year)"
   ]
  },
  {
   "cell_type": "code",
   "execution_count": 8,
   "metadata": {},
   "outputs": [],
   "source": [
    "houses = []\n",
    "house1 = House(\"강남\",\"아파트\",\"매매\",\"10억\",\"2010년\")\n",
    "house2 = House(\"마포\",\"오피스텔\",\"전세\",\"5억\",\"2007년\")\n",
    "house3 = House(\"송파\",\"빌라\",\"월세\",\"500/50\",\"2000년\")\n",
    "houses.append(house1)\n",
    "houses.append(house2)\n",
    "houses.append(house3)"
   ]
  },
  {
   "cell_type": "code",
   "execution_count": 9,
   "metadata": {
    "scrolled": true
   },
   "outputs": [
    {
     "name": "stdout",
     "output_type": "stream",
     "text": [
      "총 3대의 매물이 있습니다.\n",
      "강남 아파트 매매 10억 2010년\n",
      "마포 오피스텔 전세 5억 2007년\n",
      "송파 빌라 월세 500/50 2000년\n"
     ]
    }
   ],
   "source": [
    "print(\"총 {}대의 매물이 있습니다.\".format(len(houses)))\n",
    "\n",
    "for house in houses :\n",
    "    house.show_detail()"
   ]
  },
  {
   "cell_type": "markdown",
   "metadata": {},
   "source": [
    "## 예외처리"
   ]
  },
  {
   "cell_type": "code",
   "execution_count": 14,
   "metadata": {},
   "outputs": [
    {
     "name": "stdout",
     "output_type": "stream",
     "text": [
      "나누기 전용 계산기입니다.\n",
      "첫 번째 숫자를 입력하세요 : .1\n",
      "에러! 잘못된 값을 입력하였습니다.\n"
     ]
    }
   ],
   "source": [
    "try :\n",
    "    print(\"나누기 전용 계산기입니다.\")\n",
    "    nums = []\n",
    "    nums.append(int(input(\"첫 번째 숫자를 입력하세요 : \")))\n",
    "    nums.append(int(input(\"두 번째 숫자를 입력하세요 : \")))\n",
    "    print(\"{0}/{1} = {2}\".format(nums[0],nums[1],nums[0]/nums[1]))\n",
    "except ValueError : # 정수가 아닌 다른 수를 입력 할 경우 \n",
    "    print(\"에러! 잘못된 값을 입력하였습니다.\")\n",
    "except ZeroDivisionError as err : # 분모에 0을 입력할 경우\n",
    "    print(err)\n",
    "    \n",
    "# 알 수 없는 에러가 나올 경우\n",
    "except Exception as err :\n",
    "    print(\"알 수 없는 에러가 발생하였습니다.\")\n",
    "    print(err)"
   ]
  },
  {
   "cell_type": "markdown",
   "metadata": {},
   "source": [
    "### 의도적으로 에러 발생시키기"
   ]
  },
  {
   "cell_type": "code",
   "execution_count": 25,
   "metadata": {},
   "outputs": [
    {
     "name": "stdout",
     "output_type": "stream",
     "text": [
      "한 자리 숫자 나누기 전용 계산기입니다.\n",
      "첫 번째 숫자를 입력하세요 : 10\n",
      "두 번째 숫자를 입력하세요 : 5\n",
      "잘못된 값을 입력하였습니다. 한 자리 숫자만 입력하세요.\n"
     ]
    }
   ],
   "source": [
    "try :\n",
    "    print(\"한 자리 숫자 나누기 전용 계산기입니다.\")\n",
    "    num1 = int(input(\"첫 번째 숫자를 입력하세요 : \"))\n",
    "    num2 = int(input(\"두 번째 숫자를 입력하세요 : \"))\n",
    "    \n",
    "    # 의도적으로 에러를 발생 시키면 해당 에러를 처리하는 구문으로 이동함\n",
    "    if num1 >= 10 or num2 >= 10 :\n",
    "        raise ValueError \n",
    "    print(\"{0} / {1} = {2}\".format(num1, num2, int(num1/ num2)))\n",
    "    \n",
    "except ValueError :\n",
    "    print(\"잘못된 값을 입력하였습니다. 한 자리 숫자만 입력하세요.\")"
   ]
  },
  {
   "cell_type": "code",
   "execution_count": 27,
   "metadata": {},
   "outputs": [
    {
     "name": "stdout",
     "output_type": "stream",
     "text": [
      "한 자리 숫자 나누기 전용 계산기입니다.\n",
      "첫 번째 숫자를 입력하세요 : 10\n",
      "두 번째 숫자를 입력하세요 : 5\n",
      "에러가 발생하였습니다. 한 자리 숫자만 입력하세요\n"
     ]
    }
   ],
   "source": [
    "class BigNumberError(Exception) :\n",
    "    pass \n",
    "try :\n",
    "    print(\"한 자리 숫자 나누기 전용 계산기입니다.\")\n",
    "    num1 = int(input(\"첫 번째 숫자를 입력하세요 : \"))\n",
    "    num2 = int(input(\"두 번째 숫자를 입력하세요 : \"))\n",
    "    \n",
    "    # 의도적으로 에러를 발생 시키면 해당 에러를 처리하는 구문으로 이동함\n",
    "    if num1 >= 10 or num2 >= 10 :\n",
    "        raise BigNumberError # BignumberError 구문의 print 메세지 출력\n",
    "    print(\"{0} / {1} = {2}\".format(num1, num2, int(num1/ num2)))\n",
    "    \n",
    "except ValueError :\n",
    "    print(\"잘못된 값을 입력하였습니다. 한 자리 숫자만 입력하세요.\")\n",
    "except BigNumberError :\n",
    "    print(\"에러가 발생하였습니다. 한 자리 숫자만 입력하세요\")"
   ]
  },
  {
   "cell_type": "code",
   "execution_count": 28,
   "metadata": {},
   "outputs": [
    {
     "name": "stdout",
     "output_type": "stream",
     "text": [
      "한 자리 숫자 나누기 전용 계산기입니다.\n",
      "첫 번째 숫자를 입력하세요 : 105\n",
      "두 번째 숫자를 입력하세요 : 5\n",
      "에러가 발생하였습니다. 한 자리 숫자만 입력하세요\n",
      "입력값 : 105, 5\n"
     ]
    }
   ],
   "source": [
    "class BigNumberError(Exception) :\n",
    "    def __init__(self, msg) : # 사용자가 정의한 에러에서 어떤 메세지를 출력할지 지정\n",
    "        self.msg = msg\n",
    "    \n",
    "    def __str__(self) :\n",
    "        return self.msg \n",
    "    \n",
    "try :\n",
    "    print(\"한 자리 숫자 나누기 전용 계산기입니다.\")\n",
    "    num1 = int(input(\"첫 번째 숫자를 입력하세요 : \"))\n",
    "    num2 = int(input(\"두 번째 숫자를 입력하세요 : \"))\n",
    "    \n",
    "    # 의도적으로 에러를 발생 시키면 해당 에러를 처리하는 구문으로 이동함\n",
    "    if num1 >= 10 or num2 >= 10 :\n",
    "        raise BigNumberError(\"입력값 : {0}, {1}\".format(num1,num2))\n",
    "    print(\"{0} / {1} = {2}\".format(num1, num2, int(num1/ num2))) # 어떤 입력값이 에러인지 출력\n",
    "    \n",
    "except ValueError :\n",
    "    print(\"잘못된 값을 입력하였습니다. 한 자리 숫자만 입력하세요.\")\n",
    "except BigNumberError as err :\n",
    "    print(\"에러가 발생하였습니다. 한 자리 숫자만 입력하세요\")\n",
    "    print(err)"
   ]
  },
  {
   "cell_type": "code",
   "execution_count": 30,
   "metadata": {},
   "outputs": [
    {
     "name": "stdout",
     "output_type": "stream",
     "text": [
      "한 자리 숫자 나누기 전용 계산기입니다.\n",
      "첫 번째 숫자를 입력하세요 : 10\n",
      "두 번째 숫자를 입력하세요 : 5\n",
      "에러가 발생하였습니다. 한 자리 숫자만 입력하세요\n",
      "입력값 : 10, 5\n",
      "계산기를 이용해 주셔서 감사합니다.\n"
     ]
    }
   ],
   "source": [
    "class BigNumberError(Exception) :\n",
    "    def __init__(self, msg) : # 사용자가 정의한 에러에서 어떤 메세지를 출력할지 지정\n",
    "        self.msg = msg\n",
    "    \n",
    "    def __str__(self) :\n",
    "        return self.msg \n",
    "    \n",
    "try :\n",
    "    print(\"한 자리 숫자 나누기 전용 계산기입니다.\")\n",
    "    num1 = int(input(\"첫 번째 숫자를 입력하세요 : \"))\n",
    "    num2 = int(input(\"두 번째 숫자를 입력하세요 : \"))\n",
    "    \n",
    "    # 의도적으로 에러를 발생 시키면 해당 에러를 처리하는 구문으로 이동함\n",
    "    if num1 >= 10 or num2 >= 10 :\n",
    "        raise BigNumberError(\"입력값 : {0}, {1}\".format(num1,num2))\n",
    "    print(\"{0} / {1} = {2}\".format(num1, num2, int(num1/ num2))) # 어떤 입력값이 에러인지 출력\n",
    "    \n",
    "except ValueError :\n",
    "    print(\"잘못된 값을 입력하였습니다. 한 자리 숫자만 입력하세요.\")\n",
    "except BigNumberError as err :\n",
    "    print(\"에러가 발생하였습니다. 한 자리 숫자만 입력하세요\")\n",
    "    print(err)\n",
    "    \n",
    "finally : # 어떤 결과가 나오던 무조건 출력시킴.\n",
    "    print(\"계산기를 이용해 주셔서 감사합니다.\")"
   ]
  }
 ],
 "metadata": {
  "kernelspec": {
   "display_name": "Python 3 (ipykernel)",
   "language": "python",
   "name": "python3"
  },
  "language_info": {
   "codemirror_mode": {
    "name": "ipython",
    "version": 3
   },
   "file_extension": ".py",
   "mimetype": "text/x-python",
   "name": "python",
   "nbconvert_exporter": "python",
   "pygments_lexer": "ipython3",
   "version": "3.8.5"
  }
 },
 "nbformat": 4,
 "nbformat_minor": 4
}
