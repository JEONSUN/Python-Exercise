{
 "cells": [
  {
   "cell_type": "markdown",
   "metadata": {},
   "source": [
    "## 이진분류"
   ]
  },
  {
   "cell_type": "markdown",
   "metadata": {},
   "source": [
    "|**실제 질병 보유 여부**|예측한 결과가 양성인 경우<br>(True)|예측한 결과가 음성인 경우<br>(False)|\n",
    "|--|-----|------|\n",
    "|실제로 양성인 경우<br>(Positive)|TP|FP|\n",
    "|실제로 음성인 경우<br>(Negative)|FN|TN|"
   ]
  },
  {
   "cell_type": "markdown",
   "metadata": {},
   "source": [
    "### 분류 성능 평가 지표\n",
    "\n",
    "예측한 결과가 양성이면서 실제로 양성인 경우(민감도,RECALL) = $TP \\over\\ TP+FN$<BR><BR>\n",
    "예측한 결과가 음성이면서 실제로 음성인 경우(특이도) = $TN \\over\\ FP+TN$<BR><BR>\n",
    "정확도(ACC) = $TP+TN \\over\\ TP+FP+FN+TN$<BR><BR>\n",
    "실제로 양성인데 예측한 결과 역시 양성인 경우(정밀도,PRECISION,TPR) = $TP \\over\\ TP+FP$<BR><BR>\n",
    "실제로 음성인데 예측한 결과 역시 음성인 경우(TNR) = $TN \\over\\ FN+TN$<BR><BR>    \n",
    "정밀도와 민감도(RECALL)의 조화 평균(F1 SCORE) = $2*{PRECISION * RECALL \\over\\ PRECISION+RECALL}$<BR><BR>\n",
    "**ROC CURVE** : Y축을 TPR, X축을 FPR로 구성된 그래프, 1에 가까울수록 분류기가 완벽한 성능임을 의미한다.<BR><BR>\n",
    "**AUC** : ROC CURVE가 그려지고 아래의 면적"
   ]
  },
  {
   "cell_type": "markdown",
   "metadata": {},
   "source": [
    "## 다-부류 분류"
   ]
  },
  {
   "cell_type": "markdown",
   "metadata": {},
   "source": [
    "ex) 어떤 환자가 류머티스성 질환으로 진단받을 시, 의사에게 k개의 분류기가 주어진다면 k개의 열과 행으로 분할표를 활용할 수 있다."
   ]
  }
 ],
 "metadata": {
  "kernelspec": {
   "display_name": "Python 3",
   "language": "python",
   "name": "python3"
  },
  "language_info": {
   "codemirror_mode": {
    "name": "ipython",
    "version": 3
   },
   "file_extension": ".py",
   "mimetype": "text/x-python",
   "name": "python",
   "nbconvert_exporter": "python",
   "pygments_lexer": "ipython3",
   "version": "3.7.3"
  }
 },
 "nbformat": 4,
 "nbformat_minor": 2
}
