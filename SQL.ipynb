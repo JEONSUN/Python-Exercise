{
 "cells": [
  {
   "cell_type": "markdown",
   "metadata": {},
   "source": [
    "## 데이터베이스"
   ]
  },
  {
   "cell_type": "markdown",
   "metadata": {},
   "source": [
    "**데이터**란 컴퓨터 안에 기록되어 있는 숫자를 의미하며, 이러한 데이터의 집합을 **데이터베이스**라고 함."
   ]
  },
  {
   "cell_type": "markdown",
   "metadata": {},
   "source": [
    "### DB\n",
    "\n",
    "- 데이터베이스는 일반적으로 DB로 통용, 저장장치 내에 정리되어 저장된 데이터의 집합이고 효율적으로 관리하는 소프트웨어를 **데이터베이스 관리 시스템**(DBMS)라고 부름."
   ]
  },
  {
   "cell_type": "markdown",
   "metadata": {},
   "source": [
    "DBMS는 데이터베이스를 관리하는 소프트웨어이며 간접적으로 데이터베이스를 참조할 수 있고, 데이터를 추가하거나 삭제, 갱신할 수도 있다.\n",
    "\n",
    "이와 같이 DBMS를 활용하기 위해서 필요한 것이 **SQL**이다.\n",
    "\n",
    "SQL은 관계형 데이터베이스 조작용 언어를 기반으로 만들어졌다."
   ]
  },
  {
   "cell_type": "markdown",
   "metadata": {},
   "source": [
    "### SQL 명령의 종류\n",
    "\n",
    "> **DML(Data Manipulation Language)** : 데이터베이스에 새롭게 데이터를 추가하거나 삭제하거나 내용을 갱신하는 등, 데이터를 조작할 때 사용함,조작\n",
    "\n",
    "> **DDL(Data Definition Language)** : 데이터 베이스 객체를 만들거나 삭제하는 명령어,정의\n",
    "\n",
    "> **DCL(Data Control Language)** : 데이터를 제어하는 명령어"
   ]
  },
  {
   "cell_type": "markdown",
   "metadata": {},
   "source": [
    "### 데이터베이스 종류\n",
    "\n",
    "-계층형 데이터"
   ]
  },
  {
   "cell_type": "markdown",
   "metadata": {},
   "source": []
  },
  {
   "cell_type": "markdown",
   "metadata": {},
   "source": []
  },
  {
   "cell_type": "markdown",
   "metadata": {},
   "source": []
  },
  {
   "cell_type": "markdown",
   "metadata": {},
   "source": []
  },
  {
   "cell_type": "markdown",
   "metadata": {},
   "source": []
  },
  {
   "cell_type": "markdown",
   "metadata": {},
   "source": []
  },
  {
   "cell_type": "markdown",
   "metadata": {},
   "source": []
  },
  {
   "cell_type": "markdown",
   "metadata": {},
   "source": []
  }
 ],
 "metadata": {
  "kernelspec": {
   "display_name": "Python 3",
   "language": "python",
   "name": "python3"
  },
  "language_info": {
   "codemirror_mode": {
    "name": "ipython",
    "version": 3
   },
   "file_extension": ".py",
   "mimetype": "text/x-python",
   "name": "python",
   "nbconvert_exporter": "python",
   "pygments_lexer": "ipython3",
   "version": "3.7.3"
  }
 },
 "nbformat": 4,
 "nbformat_minor": 4
}
