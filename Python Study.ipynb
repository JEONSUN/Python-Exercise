{
 "cells": [
  {
   "cell_type": "markdown",
   "metadata": {},
   "source": [
    "# list 인덱싱\n",
    "\n",
    "- 빈 리스트 생성 후 append method를 이용하여 데이터 추가\n",
    "- 파이썬 리스트에는 콜론(:)을 이용한 ***슬라이싱*** 기능이 있음, 슬라이싱을 이용하면 범위를 지정해 부분 리스트를 얻을 수 있음.\n"
   ]
  },
  {
   "cell_type": "code",
   "execution_count": 1,
   "metadata": {},
   "outputs": [],
   "source": [
    "a=[1,2,3,4,5,6]\n",
    "\n",
    "c=a[3:5]\n",
    "print(c)\n",
    "\n",
    "# 기존 인덱싱은 [0,1,2,3,4]\n",
    "\n",
    "b=a[-3:-1]\n",
    "print(b)\n",
    "\n",
    "# - 인덱싱은 [-5,-4,-3,-2,-1]"
   ]
  },
  {
   "cell_type": "code",
   "execution_count": 2,
   "metadata": {},
   "outputs": [],
   "source": [
    "aa=[1,2,3,4,5,6,7,8,9,10]\n",
    "\n",
    "ab=aa[::2]\n",
    "ab\n",
    "ac=aa[1::2]\n",
    "ac"
   ]
  },
  {
   "cell_type": "markdown",
   "metadata": {},
   "source": [
    "# Tuple\n",
    "\n",
    "- 리스트는 [] 둘러싸며 튜플은 ()로 둘러쌈.\n",
    "- 리스트 내의 원소를 변경할 수 있지만 튜플은 불가함"
   ]
  },
  {
   "cell_type": "code",
   "execution_count": 3,
   "metadata": {},
   "outputs": [],
   "source": [
    "# 문자열 분리 a.split[',']"
   ]
  },
  {
   "cell_type": "code",
   "execution_count": 4,
   "metadata": {},
   "outputs": [],
   "source": [
    "print(\"John's House\")"
   ]
  },
  {
   "cell_type": "code",
   "execution_count": 5,
   "metadata": {},
   "outputs": [],
   "source": [
    "print('Hello,\\nBasic\\t\\tLecture')\n",
    "\n",
    "# \\n은 엔터키 대체\n",
    "# \\t는 tab 키 대체"
   ]
  },
  {
   "cell_type": "code",
   "execution_count": 6,
   "metadata": {},
   "outputs": [],
   "source": [
    "license_plate = \"24가 2210\"\n",
    "\n",
    "license_plate[4:9]"
   ]
  },
  {
   "cell_type": "code",
   "execution_count": 7,
   "metadata": {},
   "outputs": [],
   "source": [
    "string=\"홀짝홀짝홀짝\" \n",
    "                            \n",
    "string[::2]"
   ]
  },
  {
   "cell_type": "code",
   "execution_count": 8,
   "metadata": {},
   "outputs": [],
   "source": [
    "list_A=[1,2,3,4,5]"
   ]
  },
  {
   "cell_type": "code",
   "execution_count": 9,
   "metadata": {},
   "outputs": [],
   "source": [
    "lenA = len(list_A)\n",
    "print (lenA)"
   ]
  },
  {
   "cell_type": "code",
   "execution_count": 10,
   "metadata": {},
   "outputs": [],
   "source": [
    "list_B = [1,2,3]"
   ]
  },
  {
   "cell_type": "code",
   "execution_count": 11,
   "metadata": {},
   "outputs": [
    {
     "name": "stdout",
     "output_type": "stream",
     "text": [
      "3\n"
     ]
    }
   ],
   "source": [
    "lenB = len(list_B)\n",
    "print (lenB)\n",
    "\n",
    "# len = len(list_A)로 지정시 len(list_B)은 오류가 뜸.\n",
    "# overwriting을 해버리는데, 즉 변수 길이를 확인하는 len함수를 위에서 5로 지정해버림"
   ]
  },
  {
   "cell_type": "code",
   "execution_count": 12,
   "metadata": {},
   "outputs": [],
   "source": [
    "string = \"Hello/Machine/Deep/Learning\""
   ]
  },
  {
   "cell_type": "code",
   "execution_count": 13,
   "metadata": {},
   "outputs": [
    {
     "data": {
      "text/plain": [
       "('Hello', 'Machine', 'Deep', 'Learning')"
      ]
     },
     "execution_count": 13,
     "metadata": {},
     "output_type": "execute_result"
    }
   ],
   "source": [
    "List_A=(string[0:5],string[6:13],string[14:18],string[19:27])\n",
    "List_A"
   ]
  },
  {
   "cell_type": "code",
   "execution_count": 14,
   "metadata": {},
   "outputs": [
    {
     "data": {
      "text/plain": [
       "['Hello']"
      ]
     },
     "execution_count": 14,
     "metadata": {},
     "output_type": "execute_result"
    }
   ],
   "source": [
    "list_B=[]\n",
    "list_B.append(string[0:5])\n",
    "list_B"
   ]
  },
  {
   "cell_type": "code",
   "execution_count": 15,
   "metadata": {},
   "outputs": [
    {
     "data": {
      "text/plain": [
       "[['Hello', 'Machine', 'Deep', 'Learning']]"
      ]
     },
     "execution_count": 15,
     "metadata": {},
     "output_type": "execute_result"
    }
   ],
   "source": [
    "list_C=[string.split(\"/\")]\n",
    "list_C"
   ]
  },
  {
   "cell_type": "code",
   "execution_count": 16,
   "metadata": {},
   "outputs": [
    {
     "data": {
      "text/plain": [
       "'hiworld'"
      ]
     },
     "execution_count": 16,
     "metadata": {},
     "output_type": "execute_result"
    }
   ],
   "source": [
    "A=\"hello world\"\n",
    "aa =(A[:1]+\"i\"+ A[6:11])\n",
    "aa"
   ]
  },
  {
   "cell_type": "code",
   "execution_count": 17,
   "metadata": {},
   "outputs": [
    {
     "data": {
      "text/plain": [
       "type"
      ]
     },
     "execution_count": 17,
     "metadata": {},
     "output_type": "execute_result"
    }
   ],
   "source": [
    "str1 = \"AB,CDE:FG,WX,Y\".split(',')\n",
    "\n",
    "str1\n",
    "\n",
    "str1[-2]\n",
    "\n",
    "str1[0][:-1]\n",
    "\n",
    "str1[2:]\n",
    "\n",
    "str1[:][:]\n",
    "\n",
    "type(str)\n",
    "\n",
    "# split 사용시 리스트가 됨."
   ]
  },
  {
   "cell_type": "code",
   "execution_count": 18,
   "metadata": {},
   "outputs": [
    {
     "data": {
      "text/plain": [
       "['AB', 'CDE:FG', 'WX', 'Y']"
      ]
     },
     "execution_count": 18,
     "metadata": {},
     "output_type": "execute_result"
    }
   ],
   "source": [
    "str1 # str1 자체 프린트"
   ]
  },
  {
   "cell_type": "code",
   "execution_count": 19,
   "metadata": {},
   "outputs": [
    {
     "data": {
      "text/plain": [
       "'WX'"
      ]
     },
     "execution_count": 19,
     "metadata": {},
     "output_type": "execute_result"
    }
   ],
   "source": [
    "str1[-2]  # -2 이므로 리스트 WX전체 인덱스 "
   ]
  },
  {
   "cell_type": "code",
   "execution_count": 20,
   "metadata": {},
   "outputs": [
    {
     "data": {
      "text/plain": [
       "'A'"
      ]
     },
     "execution_count": 20,
     "metadata": {},
     "output_type": "execute_result"
    }
   ],
   "source": [
    "str1[0][:-1] # 리스트 AB 중 -2인 문자열 A 인덱스"
   ]
  },
  {
   "cell_type": "code",
   "execution_count": 21,
   "metadata": {},
   "outputs": [
    {
     "data": {
      "text/plain": [
       "['WX', 'Y']"
      ]
     },
     "execution_count": 21,
     "metadata": {},
     "output_type": "execute_result"
    }
   ],
   "source": [
    "str1[2:]   # 3번째 있는 WX부터 전체 인덱스"
   ]
  },
  {
   "cell_type": "code",
   "execution_count": 22,
   "metadata": {},
   "outputs": [
    {
     "data": {
      "text/plain": [
       "['AB', 'CDE:FG', 'WX', 'Y']"
      ]
     },
     "execution_count": 22,
     "metadata": {},
     "output_type": "execute_result"
    }
   ],
   "source": [
    "str1[:][:]  # 전체 리스트에 있는 전체 문자열 인덱스"
   ]
  },
  {
   "cell_type": "markdown",
   "metadata": {},
   "source": [
    "# 조건문 if\n",
    "\n",
    "- 파이썬은 코딩블럭을 표시하기 위해 들여쓰기를 사용함, 즉 java, c등과 같이 코딩블럭을 {}로 나타내지 않음.\n",
    "- 조건문에는 if라는 키워드를 사용한다.\n",
    "- if 다음에는 '조건'이 존재하는데 이 조건이 참(True)이면 들여쓰기한 문장이 실행된다. \n",
    "- if 문의 끝에는 콜론(:)을 입력한다.\n",
    "- if 문의 조건이 참(True)일 때 실행되는 문장은 들여쓰기해야 한다. "
   ]
  },
  {
   "cell_type": "code",
   "execution_count": 23,
   "metadata": {},
   "outputs": [
    {
     "name": "stdout",
     "output_type": "stream",
     "text": [
      "a== 1\n",
      "positive number\n"
     ]
    }
   ],
   "source": [
    "# elif : 실행해야 할 경우의 수가 2개 이상인 경우, ~ 그렇지 않고 ~ 이면 이라는 의미로 사용.\n",
    "\n",
    "a = 1\n",
    "if a>0 :\n",
    "    print(\"a==\",a)\n",
    "    print(\"positive number\")\n",
    "elif a==0:  \n",
    "    print(\"a==\",a)\n",
    "    print(\"zero\")\n",
    "else:\n",
    "    print(\"a==\",a)\n",
    "    print(\"negative number\")"
   ]
  },
  {
   "cell_type": "code",
   "execution_count": 24,
   "metadata": {},
   "outputs": [
    {
     "name": "stdout",
     "output_type": "stream",
     "text": [
      "45 is nat in list_data\n",
      "dic_data\n"
     ]
    }
   ],
   "source": [
    "# **in** : 데이터 안에 조건에 해당하는게 있으면 true 없으면 false\n",
    "\n",
    "list_data = [10,20,30,40,50]\n",
    "dict_data = {'key1':1, 'key2':2}\n",
    "\n",
    "if 45 in list_data : \n",
    "    print(\"45 is in list_data\")\n",
    "else : \n",
    "    print(\"45 is nat in list_data\")\n",
    "    \n",
    "if \"key1\" in dict_data :\n",
    "    print(\"dic_data\")\n",
    "else :\n",
    "    print(\"not dic_data\")"
   ]
  },
  {
   "cell_type": "markdown",
   "metadata": {},
   "source": [
    "# 반복문 for 문\n",
    "\n",
    "- range() 함수 : 시작 값 ~ 마지막 값 -1"
   ]
  },
  {
   "cell_type": "code",
   "execution_count": 25,
   "metadata": {},
   "outputs": [
    {
     "name": "stdout",
     "output_type": "stream",
     "text": [
      "0 1 2 3 4 5 6 7 8 9 "
     ]
    }
   ],
   "source": [
    "for data in range(10) : \n",
    "    print(data,\"\",end=\"\")  \n",
    "    \n",
    "# end : 사용안할시 줄바꿈되어 나옴."
   ]
  },
  {
   "cell_type": "code",
   "execution_count": 26,
   "metadata": {},
   "outputs": [
    {
     "name": "stdout",
     "output_type": "stream",
     "text": [
      "Samsung: Buy 10\n",
      "SK: Buy 10\n",
      "LG: Buy 10\n"
     ]
    }
   ],
   "source": [
    "company = [\"Samsung\",\"SK\",\"LG\"]\n",
    "for ex in company:\n",
    "    print(\"%s: Buy 10\" % ex)"
   ]
  },
  {
   "cell_type": "code",
   "execution_count": 27,
   "metadata": {},
   "outputs": [
    {
     "name": "stdout",
     "output_type": "stream",
     "text": [
      "Samsung 10%\n",
      "SK 10%\n",
      "LG 10%\n"
     ]
    }
   ],
   "source": [
    "for ex in company:\n",
    "    print(ex +\" \"+\"10%\")"
   ]
  },
  {
   "cell_type": "markdown",
   "metadata": {},
   "source": [
    "# While 문\n",
    "\n",
    "- for 문과 같은 반복문\n",
    "- while 문은 반복해야 할 횟수가 특별히 정해지지 않고 어떤 조건을 충족하는 동안만 실행될 때 주로 사용"
   ]
  },
  {
   "cell_type": "code",
   "execution_count": 28,
   "metadata": {},
   "outputs": [
    {
     "name": "stdout",
     "output_type": "stream",
     "text": [
      "0 1 2 3 4 5 6 7 8 9 10 "
     ]
    }
   ],
   "source": [
    "i = 0\n",
    "while i<=10:\n",
    "    print(i,end=\" \")\n",
    "    i= i+1"
   ]
  },
  {
   "cell_type": "markdown",
   "metadata": {},
   "source": [
    "# list comprehension\n",
    "\n",
    "- 리스트의 괄호 안에 for 루프를 사용하여 반복적으로 표현식을 실행하여 리스트 요소들을 정의하는 방법."
   ]
  },
  {
   "cell_type": "code",
   "execution_count": 29,
   "metadata": {},
   "outputs": [
    {
     "data": {
      "text/plain": [
       "[0, 1, 4, 9, 16]"
      ]
     },
     "execution_count": 29,
     "metadata": {},
     "output_type": "execute_result"
    }
   ],
   "source": [
    "list_data=[x**2 for x in range(5)]\n",
    "list_data"
   ]
  },
  {
   "cell_type": "code",
   "execution_count": 30,
   "metadata": {},
   "outputs": [
    {
     "name": "stdout",
     "output_type": "stream",
     "text": [
      "[[1, 10], [2, 15], [3, 30], [4, 55]]\n",
      "[1, 2, 3, 4]\n",
      "[10, 15, 30, 55]\n"
     ]
    }
   ],
   "source": [
    "raw_data=[[1,10],[2,15],[3,30],[4,55]]\n",
    "\n",
    "all_data = [x for x in raw_data]\n",
    "x_data = [x[0] for x in raw_data]\n",
    "y_data = [x[1] for x in raw_data]\n",
    "\n",
    "print(all_data)\n",
    "print(x_data)\n",
    "print(y_data)"
   ]
  },
  {
   "cell_type": "code",
   "execution_count": 31,
   "metadata": {},
   "outputs": [
    {
     "name": "stdout",
     "output_type": "stream",
     "text": [
      "101호 배달 미납\n",
      "102호 배달 완료\n",
      "103호 배달 완료\n",
      "104호 배달 완료\n",
      "201호 배달 완료\n",
      "202호 배달 완료\n",
      "203호 배달 미납\n",
      "204호 배달 완료\n",
      "301호 배달 미납\n",
      "302호 배달 완료\n",
      "303호 배달 완료\n",
      "304호 배달 완료\n",
      "401호 배달 완료\n",
      "402호 배달 완료\n",
      "403호 배달 완료\n",
      "404호 배달 미납\n"
     ]
    }
   ],
   "source": [
    "apart=[[101,102,103,104],[201,202,203,204],[301,302,303,304],[401,402,403,404]]\n",
    "arrears=[101,203,301,404]\n",
    "\n",
    "for apt in apart:\n",
    "    for apt1 in apt:\n",
    "        if apt1 in arrears :\n",
    "            print(str(apt1)+\"호 배달 미납\")\n",
    "        else:\n",
    "            print(str(apt1)+\"호 배달 완료\")\n",
    "\n"
   ]
  },
  {
   "cell_type": "markdown",
   "metadata": {},
   "source": [
    "#  연습문제"
   ]
  },
  {
   "cell_type": "code",
   "execution_count": 32,
   "metadata": {},
   "outputs": [
    {
     "name": "stdout",
     "output_type": "stream",
     "text": [
      "[0, 2, 4, 6, 8]\n"
     ]
    }
   ],
   "source": [
    "# 짝수 출력하는 다음 코드를 List Comprehension으로 구분하시오.\n",
    "\n",
    "even_number = []\n",
    "for data in range(10):\n",
    "    if data % 2 == 0:\n",
    "        even_number.append(data)\n",
    "\n",
    "print(even_number)"
   ]
  },
  {
   "cell_type": "code",
   "execution_count": 33,
   "metadata": {},
   "outputs": [
    {
     "name": "stdout",
     "output_type": "stream",
     "text": [
      "['A', 'A']\n"
     ]
    }
   ],
   "source": [
    "# my_list =[\"A\",\"B\",\"C\",\"D\"] 에서 파이썬 for 문과 슬라이싱을 이용하여 첫번째 데이터를 제외하고 나머지 데이터를 출력하시오.\n",
    "\n",
    "my_list=[\"A\",\"B\",\"C\",\"D\"]\n",
    "mlist= [my_list for my_list[1:4] in my_list]\n",
    "   \n",
    "print(my_list)\n",
    "\n",
    "#틀림.\n",
    "\n"
   ]
  },
  {
   "cell_type": "code",
   "execution_count": 34,
   "metadata": {},
   "outputs": [
    {
     "name": "stdout",
     "output_type": "stream",
     "text": [
      "B\n",
      "C\n",
      "D\n"
     ]
    }
   ],
   "source": [
    "mylist=[\"A\",\"B\",\"C\",\"D\"]\n",
    "for m1list in mylist:\n",
    "    for m2list in m1list:\n",
    "        for m3list in m2list:\n",
    "            if m3list in mylist[1:]:\n",
    "                print(m3list)"
   ]
  },
  {
   "cell_type": "markdown",
   "metadata": {},
   "source": [
    "# 파이썬 class\n",
    "\n",
    "- 파이썬 클래스는 class 키워드를 사용하여 자신만의 데이터 타입을 만들수있음.\n",
    "- def __init__(self,x,y)\n",
    "- #매개변수 생성\n",
    "\n",
    "\n",
    "\n",
    "### 예외처리(Exception)하는 경우\n",
    "\n",
    "- 1) I/O\n",
    "- 2) 네트워크\n",
    "\n",
    "- raise : 강제로 오류 내는 함수\n",
    "- except : 오류를 받아 except문으로 구현하는 함수\n",
    "- finally : 오류가 떠도 출력시키는 함수\n",
    "\n"
   ]
  },
  {
   "cell_type": "code",
   "execution_count": 35,
   "metadata": {},
   "outputs": [],
   "source": [
    "class mytest:\n",
    "    def hello(self) :  # self를 꼭 써줘야함.\n",
    "        print(\"mytest hello method\")"
   ]
  },
  {
   "cell_type": "code",
   "execution_count": 36,
   "metadata": {},
   "outputs": [
    {
     "name": "stdout",
     "output_type": "stream",
     "text": [
      "mytest hello method\n"
     ]
    }
   ],
   "source": [
    "obj=mytest()\n",
    "obj.hello()"
   ]
  },
  {
   "cell_type": "code",
   "execution_count": 37,
   "metadata": {},
   "outputs": [],
   "source": [
    "class point:\n",
    "    def __Init__(self,x,y):\n",
    "        self.x= x\n",
    "        self.y= y\n",
    "    def setx(self,new_x):\n",
    "        self.x=new_x\n",
    "    def sety(self,new_y):\n",
    "        self.y=new_y\n"
   ]
  },
  {
   "cell_type": "code",
   "execution_count": 38,
   "metadata": {},
   "outputs": [],
   "source": [
    "class MyCalc:\n",
    "    def __init__(self,a,b):\n",
    "        self.a=a\n",
    "        self.b=b\n",
    "    def summation(self):\n",
    "        return self.a+self.b\n",
    "    def subtract(self):\n",
    "        return self.a-self.b\n",
    "    def multiply(self):\n",
    "        return self.a*self.b\n",
    "    def divide(self):\n",
    "        return self.a/self.b"
   ]
  },
  {
   "cell_type": "code",
   "execution_count": 39,
   "metadata": {},
   "outputs": [
    {
     "name": "stdout",
     "output_type": "stream",
     "text": [
      "3\n"
     ]
    }
   ],
   "source": [
    "ab=MyCalc(1,2)\n",
    "print (ab.summation())"
   ]
  },
  {
   "cell_type": "code",
   "execution_count": 40,
   "metadata": {},
   "outputs": [
    {
     "data": {
      "text/plain": [
       "-1"
      ]
     },
     "execution_count": 40,
     "metadata": {},
     "output_type": "execute_result"
    }
   ],
   "source": [
    "ab.subtract()"
   ]
  },
  {
   "cell_type": "code",
   "execution_count": 41,
   "metadata": {},
   "outputs": [
    {
     "data": {
      "text/plain": [
       "2"
      ]
     },
     "execution_count": 41,
     "metadata": {},
     "output_type": "execute_result"
    }
   ],
   "source": [
    "ab.multiply()"
   ]
  },
  {
   "cell_type": "code",
   "execution_count": 42,
   "metadata": {},
   "outputs": [
    {
     "data": {
      "text/plain": [
       "0.5"
      ]
     },
     "execution_count": 42,
     "metadata": {},
     "output_type": "execute_result"
    }
   ],
   "source": [
    "ab.divide()  # mycalc(5,0)일 경우 5/0은 불가하므로 오류가 생김 따라서 예외처리를 해줘야함."
   ]
  },
  {
   "cell_type": "code",
   "execution_count": 43,
   "metadata": {},
   "outputs": [],
   "source": [
    "class MyCalc:\n",
    "    def __init__(self,a,b):\n",
    "        self.a=a\n",
    "        self.b=b\n",
    "        if(self.b==0):\n",
    "            print(\"Division By Zero warring! y=0\")\n",
    "    def summation(self):\n",
    "        return self.a+self.b\n",
    "    def subtract(self):\n",
    "        return self.a-self.b\n",
    "    def multiply(self):\n",
    "        return self.a*self.b\n",
    "    def divide(self):\n",
    "        if(self.b ==0):\n",
    "            raise Exception(\"Error : Division By Zero\")\n",
    "        return self.a/self.b"
   ]
  },
  {
   "cell_type": "code",
   "execution_count": 44,
   "metadata": {},
   "outputs": [],
   "source": [
    "try:                     # 예외처리를 사용시 프로그래밍 오류인지 수치 오류인지 파악하기 용이함.\n",
    "    ab.divide()\n",
    "except Exception as err:\n",
    "    print(err)"
   ]
  },
  {
   "cell_type": "markdown",
   "metadata": {},
   "source": [
    "# numpy\n",
    "\n",
    "- vector/matrix 생성\n",
    "- 행렬 곱\n",
    "- broadcast -차원이 작은 쪽이 큰 쪽의 행 단위로 반복적으로 크기를 맞춘 후에 계산\n",
    "- index/slice/iterator"
   ]
  },
  {
   "cell_type": "code",
   "execution_count": 45,
   "metadata": {},
   "outputs": [
    {
     "name": "stdout",
     "output_type": "stream",
     "text": [
      "[1 2]\n"
     ]
    }
   ],
   "source": [
    "import numpy as np\n",
    "\n",
    "A= np.array([1,2])\n",
    "print(A)"
   ]
  },
  {
   "cell_type": "code",
   "execution_count": 46,
   "metadata": {},
   "outputs": [
    {
     "name": "stdout",
     "output_type": "stream",
     "text": [
      "2.718281828459045\n"
     ]
    }
   ],
   "source": [
    "from numpy import exp\n",
    "\n",
    "result =exp(1)\n",
    "print(result)"
   ]
  },
  {
   "cell_type": "code",
   "execution_count": 47,
   "metadata": {},
   "outputs": [
    {
     "data": {
      "text/plain": [
       "array([[1, 1],\n",
       "       [1, 1]])"
      ]
     },
     "execution_count": 47,
     "metadata": {},
     "output_type": "execute_result"
    }
   ],
   "source": [
    "# ([]) 는 벡터로 ([[]])는 행렬로 나옴.\n",
    "\n",
    "A=np.array([[1,0],[0,1]])\n",
    "B=np.array([[0,1],[1,0]])\n",
    "\n",
    "A+B"
   ]
  },
  {
   "cell_type": "code",
   "execution_count": 48,
   "metadata": {},
   "outputs": [
    {
     "name": "stdout",
     "output_type": "stream",
     "text": [
      "(2, 3)\n",
      "[[1]\n",
      " [2]\n",
      " [3]\n",
      " [4]\n",
      " [5]\n",
      " [6]]\n",
      "[[1 2 3]\n",
      " [4 5 6]]\n"
     ]
    }
   ],
   "source": [
    "# shape - 행렬 형식 파악\n",
    "# reshape - 행변환\n",
    "\n",
    "C=np.array([[1,2,3],[4,5,6]])\n",
    "\n",
    "print(C.shape)\n",
    "\n",
    "D=C.reshape(6,1)\n",
    "print(D)\n",
    "\n",
    "F=C.reshape(-1,3)\n",
    "print(F)"
   ]
  },
  {
   "cell_type": "code",
   "execution_count": 49,
   "metadata": {},
   "outputs": [
    {
     "name": "stdout",
     "output_type": "stream",
     "text": [
      "[1 2]\n",
      "[3 4]\n",
      "[5 6]\n",
      "[ 0 -2]\n",
      "[  0 -12]\n"
     ]
    }
   ],
   "source": [
    "A=np.array([1,2])\n",
    "B=np.array([3,4])\n",
    "T=np.array([5,6])\n",
    "\n",
    "print(A)\n",
    "print(B)\n",
    "print(T)\n",
    "\n",
    "print((1-A)*A)\n",
    "print(T*(1-A)*A)"
   ]
  },
  {
   "cell_type": "code",
   "execution_count": 50,
   "metadata": {},
   "outputs": [
    {
     "name": "stdout",
     "output_type": "stream",
     "text": [
      "2\n",
      "[[2]\n",
      " [3]]\n",
      "[[4]\n",
      " [5]]\n",
      "[[7]\n",
      " [8]]\n",
      "[[2]\n",
      " [3]]\n",
      "[[-2]\n",
      " [-6]]\n",
      "[[-20 -24]\n",
      " [-50 -60]]\n"
     ]
    }
   ],
   "source": [
    "C=np.array([[2],[3]])\n",
    "D=np.array([[4],[5]])\n",
    "P=np.array([[7],[8]])\n",
    "\n",
    "E=np.array([2,3]).reshape(2,1)\n",
    "print(E.ndim)\n",
    "print(C)\n",
    "print(D)\n",
    "print(P)\n",
    "print(E)\n",
    "\n",
    "\n",
    "print((1-C)*C)\n",
    "print(T*(1-C)*D)"
   ]
  },
  {
   "cell_type": "code",
   "execution_count": 51,
   "metadata": {},
   "outputs": [],
   "source": [
    "# 행렬곱 : np.dot(a,b)"
   ]
  },
  {
   "cell_type": "code",
   "execution_count": null,
   "metadata": {},
   "outputs": [],
   "source": [
    " "
   ]
  }
 ],
 "metadata": {
  "kernelspec": {
   "display_name": "Python 3",
   "language": "python",
   "name": "python3"
  },
  "language_info": {
   "codemirror_mode": {
    "name": "ipython",
    "version": 3
   },
   "file_extension": ".py",
   "mimetype": "text/x-python",
   "name": "python",
   "nbconvert_exporter": "python",
   "pygments_lexer": "ipython3",
   "version": "3.7.3"
  }
 },
 "nbformat": 4,
 "nbformat_minor": 2
}
