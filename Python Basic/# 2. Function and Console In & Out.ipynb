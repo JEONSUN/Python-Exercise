{
 "cells": [
  {
   "cell_type": "markdown",
   "metadata": {},
   "source": [
    "# Function \n",
    "\n",
    "- 어떤 일을 수행하는 코드의 덩어리"
   ]
  },
  {
   "cell_type": "code",
   "execution_count": 2,
   "metadata": {},
   "outputs": [],
   "source": [
    "# 사각형의 넓이를 구하는 함수\n",
    "def calculate_rectangle_area(x , y) : \n",
    "    return x * y # 가로, 세로를 곱해서 반환"
   ]
  },
  {
   "cell_type": "markdown",
   "metadata": {},
   "source": [
    "- 반복적인 수행을 1회만 작성 후 호출\n",
    "\n",
    "- 코드를 논리적인 단위로 분리"
   ]
  },
  {
   "cell_type": "code",
   "execution_count": 3,
   "metadata": {},
   "outputs": [
    {
     "name": "stdout",
     "output_type": "stream",
     "text": [
      "사각형 x의 길이 : 10\n",
      "사각형 y의 길이 : 10\n",
      "사각형의 넓이 : 100\n"
     ]
    }
   ],
   "source": [
    "rectangle_x = 10\n",
    "rectangle_y = 10\n",
    "print('사각형 x의 길이 :', rectangle_x)\n",
    "print('사각형 y의 길이 :', rectangle_y)\n",
    "\n",
    "print('사각형의 넓이 :', calculate_rectangle_area(rectangle_x,rectangle_y))"
   ]
  },
  {
   "cell_type": "code",
   "execution_count": 10,
   "metadata": {},
   "outputs": [
    {
     "name": "stdout",
     "output_type": "stream",
     "text": [
      "151\n"
     ]
    }
   ],
   "source": [
    "def f(x) :\n",
    "    return 2*x + 7\n",
    "\n",
    "def g(x) :\n",
    "    return x**2\n",
    "\n",
    "x = 2\n",
    "print(f(x) + g(x) + f(g(x)) + g(f(x)))"
   ]
  },
  {
   "cell_type": "markdown",
   "metadata": {},
   "source": [
    "### parameter \n",
    "- 함수의 입력 값 인터페이스\n",
    "\n",
    "### argument\n",
    "- 실제 Parameter에 대입된 값"
   ]
  },
  {
   "cell_type": "code",
   "execution_count": 11,
   "metadata": {},
   "outputs": [
    {
     "name": "stdout",
     "output_type": "stream",
     "text": [
      "11\n"
     ]
    }
   ],
   "source": [
    "def f(x) :\n",
    "    return 2*x + 7\n",
    "\n",
    "print(f(2))"
   ]
  },
  {
   "cell_type": "markdown",
   "metadata": {},
   "source": [
    "- parameter 유무, 반환 값(return value)유무에 따라 함수의 형태가 다르다.\n",
    "\n",
    "***\n",
    "#### # Return이 없음\n"
   ]
  },
  {
   "cell_type": "code",
   "execution_count": 12,
   "metadata": {},
   "outputs": [],
   "source": [
    "def f(x) :\n",
    "    print(x + 10)"
   ]
  },
  {
   "cell_type": "code",
   "execution_count": 13,
   "metadata": {
    "scrolled": true
   },
   "outputs": [
    {
     "name": "stdout",
     "output_type": "stream",
     "text": [
      "20\n"
     ]
    }
   ],
   "source": [
    "f(10)"
   ]
  },
  {
   "cell_type": "code",
   "execution_count": 18,
   "metadata": {},
   "outputs": [
    {
     "name": "stdout",
     "output_type": "stream",
     "text": [
      "None\n"
     ]
    }
   ],
   "source": [
    "# 아무런 값이 없는 None이 나옴\n",
    "# print로 출력만 했을 뿐이지 return이 없으므로 반환값이 없다\n",
    "print(c)"
   ]
  },
  {
   "cell_type": "code",
   "execution_count": 20,
   "metadata": {},
   "outputs": [
    {
     "name": "stdout",
     "output_type": "stream",
     "text": [
      "20\n"
     ]
    }
   ],
   "source": [
    "# return이 있으면 반환값이 나옴\n",
    "def f(x) :\n",
    "    return x + 10\n",
    "c = f(10)\n",
    "print(c)"
   ]
  },
  {
   "cell_type": "markdown",
   "metadata": {},
   "source": [
    "***"
   ]
  },
  {
   "cell_type": "code",
   "execution_count": 21,
   "metadata": {},
   "outputs": [],
   "source": [
    "# 리스트에서도 마찬가지\n",
    "list_ex = [5,4,3,2,1]"
   ]
  },
  {
   "cell_type": "code",
   "execution_count": 23,
   "metadata": {},
   "outputs": [
    {
     "name": "stdout",
     "output_type": "stream",
     "text": [
      "[1, 2, 3, 4, 5]\n",
      "[5, 4, 3, 2, 1]\n"
     ]
    }
   ],
   "source": [
    "# sorted를 사용할 경우 return이 존재하지않기에 반환값이 변화가 없음\n",
    "print(sorted(list_ex))\n",
    "print(list_ex)"
   ]
  },
  {
   "cell_type": "code",
   "execution_count": 25,
   "metadata": {},
   "outputs": [
    {
     "name": "stdout",
     "output_type": "stream",
     "text": [
      "[1, 2, 3, 4, 5]\n"
     ]
    }
   ],
   "source": [
    "# sort에서는 바뀜\n",
    "list_ex.sort()\n",
    "print(list_ex)"
   ]
  },
  {
   "cell_type": "markdown",
   "metadata": {},
   "source": [
    "***\n",
    "\n",
    "#### # parameter가 없음"
   ]
  },
  {
   "cell_type": "code",
   "execution_count": 29,
   "metadata": {},
   "outputs": [],
   "source": [
    "# 아무것도 없기에 5*2 return만 가능\n",
    "def f() :\n",
    "    return 5 * 2"
   ]
  },
  {
   "cell_type": "code",
   "execution_count": 31,
   "metadata": {},
   "outputs": [
    {
     "data": {
      "text/plain": [
       "10"
      ]
     },
     "execution_count": 31,
     "metadata": {},
     "output_type": "execute_result"
    }
   ],
   "source": [
    "f()"
   ]
  },
  {
   "cell_type": "code",
   "execution_count": 32,
   "metadata": {},
   "outputs": [],
   "source": [
    "# 파라메터를 줄 경우\n",
    "def f(x) :\n",
    "    return x * 2"
   ]
  },
  {
   "cell_type": "code",
   "execution_count": 33,
   "metadata": {},
   "outputs": [
    {
     "data": {
      "text/plain": [
       "20"
      ]
     },
     "execution_count": 33,
     "metadata": {},
     "output_type": "execute_result"
    }
   ],
   "source": [
    "f(10)"
   ]
  },
  {
   "cell_type": "markdown",
   "metadata": {},
   "source": [
    "# Colsole In/Out"
   ]
  },
  {
   "cell_type": "markdown",
   "metadata": {},
   "source": [
    "#### input() 함수는 콘솔창에서 문자열을 입력 받는 함수"
   ]
  },
  {
   "cell_type": "code",
   "execution_count": 34,
   "metadata": {},
   "outputs": [
    {
     "name": "stdout",
     "output_type": "stream",
     "text": [
      "Enter your name\n",
      "SUN\n",
      "Hi SUN\n"
     ]
    }
   ],
   "source": [
    "print('Enter your name')\n",
    "somebody = input()\n",
    "print('Hi', somebody)"
   ]
  },
  {
   "cell_type": "markdown",
   "metadata": {},
   "source": [
    "#### # 숫자 입력 받기"
   ]
  },
  {
   "cell_type": "code",
   "execution_count": 35,
   "metadata": {},
   "outputs": [
    {
     "name": "stdout",
     "output_type": "stream",
     "text": [
      "온도를 입력하세요 : 150\n",
      "150.0\n"
     ]
    }
   ],
   "source": [
    "temperature = float(input(\"온도를 입력하세요 : \"))\n",
    "print(temperature)"
   ]
  },
  {
   "cell_type": "markdown",
   "metadata": {},
   "source": [
    "# Formatting\n",
    "\n",
    "- print문은 기본적인 출력 외에 출력의 양식 형식을 지정 가능"
   ]
  },
  {
   "cell_type": "markdown",
   "metadata": {},
   "source": [
    "#### # 일반적으로 %-format과 str.format() 함수를 사용한다."
   ]
  },
  {
   "cell_type": "code",
   "execution_count": 40,
   "metadata": {},
   "outputs": [
    {
     "name": "stdout",
     "output_type": "stream",
     "text": [
      "one two\n",
      "one two\n",
      "1 2\n",
      "1 2\n"
     ]
    }
   ],
   "source": [
    "print('%s %s' %('one','two'))\n",
    "print('{} {}' .format('one','two'))\n",
    "print('%d %d' % (1,2))\n",
    "print('{} {}'.format(1,2))"
   ]
  },
  {
   "cell_type": "code",
   "execution_count": 41,
   "metadata": {},
   "outputs": [
    {
     "name": "stdout",
     "output_type": "stream",
     "text": [
      "I eat 3 apples.\n",
      "I eat five apples.\n",
      "I ate 3 apples. I was sick for three days.\n"
     ]
    }
   ],
   "source": [
    "print('I eat %d apples.' % 3)\n",
    "print('I eat %s apples.' % 'five')\n",
    "number = 3; day = 'three'\n",
    "\n",
    "print('I ate %d apples. I was sick for %s days.' % (number, day))"
   ]
  },
  {
   "cell_type": "markdown",
   "metadata": {},
   "source": [
    "### %-format\n",
    "\n",
    "|type|설명|\n",
    "|---|---|\n",
    "|%s|문자열(string)|\n",
    "|%c|문자 1개|\n",
    "|%d|정수|\n",
    "|%f|부동소수|\n",
    "|%o|8진수|\n",
    "|%x|16진수|\n",
    "|%%|Literal %(문자 % 자체)|"
   ]
  },
  {
   "cell_type": "code",
   "execution_count": 42,
   "metadata": {},
   "outputs": [
    {
     "name": "stdout",
     "output_type": "stream",
     "text": [
      "Product: Apple, Price per unit: 5.243000.\n"
     ]
    }
   ],
   "source": [
    "number = 3\n",
    "\n",
    "print(\"Product: %s, Price per unit: %f.\" % ('Apple', 5.243))"
   ]
  },
  {
   "cell_type": "code",
   "execution_count": 43,
   "metadata": {},
   "outputs": [
    {
     "name": "stdout",
     "output_type": "stream",
     "text": [
      "Product:      Apple, Price per unit:        5.2\n"
     ]
    }
   ],
   "source": [
    "# 10칸 띄고 소수 1자리만 나오게해라\n",
    "print(\"Product: %10s, Price per unit: %10.1f\" % ('Apple', 5.243))"
   ]
  },
  {
   "cell_type": "markdown",
   "metadata": {},
   "source": [
    "### format.format"
   ]
  },
  {
   "cell_type": "code",
   "execution_count": 49,
   "metadata": {},
   "outputs": [
    {
     "name": "stdout",
     "output_type": "stream",
     "text": [
      "Product: Apple, Price per unit: 5.243.\n",
      "Product: Apple, Price per unit: 5.243.\n",
      "Product: Apple, Price per unit:      5.243.\n"
     ]
    }
   ],
   "source": [
    "number = 3\n",
    "\n",
    "print(\"Product: {}, Price per unit: {}.\".format('Apple', 5.243))\n",
    "print(\"Product: {0}, Price per unit: {1:.3f}.\".format('Apple', 5.243)) # 처음은 1번째 요소를 2번째는 소수 3번째 자리까지만\n",
    "print(\"Product: {0}, Price per unit: {1:10.3f}.\".format('Apple', 5.243)) # 10칸을 비우고 소수 3번째 자리까지만"
   ]
  },
  {
   "cell_type": "markdown",
   "metadata": {},
   "source": [
    "## padding\n",
    "- 여유 공간을 지정하여 글자배열 + 소수점 자릿수를 맞추기"
   ]
  },
  {
   "cell_type": "code",
   "execution_count": 50,
   "metadata": {},
   "outputs": [
    {
     "name": "stdout",
     "output_type": "stream",
     "text": [
      "Product: Apple     , Price per unit:      5.243.\n"
     ]
    }
   ],
   "source": [
    "print(\"Product: {0:<10s}, Price per unit: {1:>10.3f}.\".format('Apple', 5.243)) # 왼쪽으로, 우측으로 정렬"
   ]
  },
  {
   "cell_type": "markdown",
   "metadata": {},
   "source": [
    "## naming\n",
    "\n",
    "- 해당 표시할 내용을 변수로 표시하여 입력"
   ]
  },
  {
   "cell_type": "code",
   "execution_count": 2,
   "metadata": {},
   "outputs": [
    {
     "name": "stdout",
     "output_type": "stream",
     "text": [
      "Product :      apple, Price unit:    5.24300.\n"
     ]
    }
   ],
   "source": [
    "print('Product : %(name)10s, Price unit: %(price)10.5f.' % \n",
    "      {\"name\" : \"apple\",\"price\" : 5.243})"
   ]
  },
  {
   "cell_type": "markdown",
   "metadata": {},
   "source": [
    "## f-string\n",
    "\n",
    "- python 3.6 이후, PEP498에 근거한 formatting 기법"
   ]
  },
  {
   "cell_type": "code",
   "execution_count": 13,
   "metadata": {},
   "outputs": [
    {
     "name": "stdout",
     "output_type": "stream",
     "text": [
      "Hello,Jeon. yor are 26.\n",
      "Hello,                Jeon\n",
      "Hello,****************Jeon\n",
      "Hello,        Jeon        \n"
     ]
    }
   ],
   "source": [
    "name = 'Jeon'\n",
    "age = 26\n",
    "\n",
    "print(f'Hello,{name}. yor are {age}.')\n",
    "print(f'Hello,{name:>20}') # 20칸 왼쪽 정렬로 비워두기\n",
    "print(f'Hello,{name:*>20}')\n",
    "print(f'Hello,{name:^20}')"
   ]
  },
  {
   "cell_type": "markdown",
   "metadata": {},
   "source": [
    "#### # 아래와 같이 출력되는 프로그램을 만드시오.\n",
    "\n",
    "~~~ python\n",
    "본 프로그램은 섭씨를 화씨로 변환해주는 프로그램입니다.\n",
    "변환하고 싶은 섭씨 온도를 입력해 주세요 : \n",
    "32.2\n",
    "섭씨온도 : 32.2\n",
    "화씨온도 : 89.96\n",
    "~~~"
   ]
  },
  {
   "cell_type": "code",
   "execution_count": 31,
   "metadata": {},
   "outputs": [],
   "source": [
    "def change_temp () :\n",
    "    print('본 프로그램은 섭씨를 화씨로 변환해주는 프로그램입니다.')\n",
    "    temp = input('변환하고 싶은 섭씨 온도를 입력해 주세요 : \\n')\n",
    "    print(f\"섭씨온도 : {float(temp)}\")\n",
    "    print(f\"화씨온도 : {round(9/5*float(temp)+32,2)}\")"
   ]
  },
  {
   "cell_type": "code",
   "execution_count": 32,
   "metadata": {},
   "outputs": [
    {
     "name": "stdout",
     "output_type": "stream",
     "text": [
      "본 프로그램은 섭씨를 화씨로 변환해주는 프로그램입니다.\n",
      "변환하고 싶은 섭씨 온도를 입력해 주세요 : \n",
      "32.2\n",
      "섭씨온도 : 32.2\n",
      "화씨온도 : 89.96\n"
     ]
    }
   ],
   "source": [
    "change_temp()"
   ]
  }
 ],
 "metadata": {
  "kernelspec": {
   "display_name": "Python 3 (ipykernel)",
   "language": "python",
   "name": "python3"
  },
  "language_info": {
   "codemirror_mode": {
    "name": "ipython",
    "version": 3
   },
   "file_extension": ".py",
   "mimetype": "text/x-python",
   "name": "python",
   "nbconvert_exporter": "python",
   "pygments_lexer": "ipython3",
   "version": "3.8.5"
  }
 },
 "nbformat": 4,
 "nbformat_minor": 4
}
