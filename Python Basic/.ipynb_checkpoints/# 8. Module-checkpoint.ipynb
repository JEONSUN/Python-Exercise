{
 "cells": [
  {
   "cell_type": "markdown",
   "metadata": {},
   "source": [
    "# Module\n",
    "\n",
    "- module == py 파일을 의미\n",
    "- **같은 폴더에 Module에 해당하는 .py파일을 저장한 후** import문을 사용하여 호출\n",
    "- **같은 디렉토리에 있어야 불러오기 가능**\n",
    "\n",
    "***\n",
    "\n",
    "make_module.py라는 새로운 모듈을 생성\n",
    "~~~ python\n",
    "def make_module_example(x) :\n",
    "    print(\"간단한 module 만들기\")\n",
    "    print((x - 10) ** 2)\n",
    "~~~"
   ]
  },
  {
   "cell_type": "code",
   "execution_count": 3,
   "metadata": {},
   "outputs": [],
   "source": [
    "import make_module as mm"
   ]
  },
  {
   "cell_type": "code",
   "execution_count": 4,
   "metadata": {},
   "outputs": [
    {
     "name": "stdout",
     "output_type": "stream",
     "text": [
      "간단한 모듈만들기\n",
      "81\n"
     ]
    }
   ],
   "source": [
    "mm.make_module_example(1)"
   ]
  },
  {
   "cell_type": "markdown",
   "metadata": {},
   "source": [
    "## Alias(별칭) 설정하기 - 모듈명을 별칭으로 써서\n",
    "\n",
    "~~~ python\n",
    "import fah_converter as fah # fah라는 이름으로\n",
    "print(fah_convert_c_to_f(41.6) # 그안에 convert_c_to_f 함수를 쓴다\n",
    "~~~\n",
    "\n",
    "## 모듈에서 특정 함수 또는 클래스만 호출하기\n",
    "~~~ python\n",
    "from fah_converter import covert_c_to_f # 모듈에서 covert_c_to_f 호출 \n",
    "print(fah_convert_c_to_f(41.6) # print(covert_c_to_f(41.6)) 함수만 호출됨\n",
    "~~~\n",
    "\n",
    "## 모듈에서 모든 함수 또는 클래스를 호출하기\n",
    "~~~ python\n",
    "from fah_converter import * # 전체호출\n",
    "print(fah_convert_c_to_f(41.6)\n",
    "~~~\n"
   ]
  },
  {
   "cell_type": "markdown",
   "metadata": {},
   "source": [
    "# Package\n",
    "\n",
    "- 모듈을 모아놓은 단위, 하나의 프로그램\n",
    "\n",
    "- 다양한 모듈들의 합, 폴더로 연결됨\n",
    "\n",
    "- \\__init__\\, \\__main__등 키워드 파일명이 사용됨"
   ]
  },
  {
   "cell_type": "code",
   "execution_count": 7,
   "metadata": {},
   "outputs": [
    {
     "data": {
      "text/plain": [
       "'Hello Echo'"
      ]
     },
     "execution_count": 7,
     "metadata": {},
     "output_type": "execute_result"
    }
   ],
   "source": [
    "from sound import echo\n",
    "echo.echo_play()"
   ]
  },
  {
   "cell_type": "markdown",
   "metadata": {},
   "source": [
    "## 폴더별로 __init__.py 구성하기\n",
    "\n",
    "- 현재 폴더가 패키지임을 알리는 초기화 스크립트\n",
    "\n",
    "- 하위 폴더와 py 파일(모듈)을 모두 포함함"
   ]
  },
  {
   "cell_type": "markdown",
   "metadata": {},
   "source": [
    "# 가상환경 설정하기"
   ]
  },
  {
   "cell_type": "markdown",
   "metadata": {},
   "source": [
    "- 대표적인 도구 **virtualenv**와 **conda**가 있음"
   ]
  }
 ],
 "metadata": {
  "kernelspec": {
   "display_name": "Python 3 (ipykernel)",
   "language": "python",
   "name": "python3"
  },
  "language_info": {
   "codemirror_mode": {
    "name": "ipython",
    "version": 3
   },
   "file_extension": ".py",
   "mimetype": "text/x-python",
   "name": "python",
   "nbconvert_exporter": "python",
   "pygments_lexer": "ipython3",
   "version": "3.8.5"
  }
 },
 "nbformat": 4,
 "nbformat_minor": 4
}
