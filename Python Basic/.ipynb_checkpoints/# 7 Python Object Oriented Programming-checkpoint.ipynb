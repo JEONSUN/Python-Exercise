{
 "cells": [
  {
   "cell_type": "markdown",
   "metadata": {},
   "source": [
    "# 객체지향 프로그래밍\n",
    "\n",
    "###  Object - Oriented Programming, OOP\n",
    "\n",
    "- **객체 : 실생활에서 일종의 물건**, **속성(Attribute)와 행동(action)**을 가짐\n",
    "\n",
    "- **OOP는 이러한 객체 개념을 프로그램으로 표현**, **속성은 변수(Variable)**, **행동은 함수(method)로 표현됨**\n",
    "\n",
    "- 파이썬 역시 객체지향형 언어"
   ]
  },
  {
   "cell_type": "markdown",
   "metadata": {},
   "source": [
    "- OOP는 **설계도에 해당하는 클래스(class)**와 **실제 구현체인 인스턴스(instance)**로 나눔"
   ]
  },
  {
   "cell_type": "markdown",
   "metadata": {},
   "source": [
    "## Objects in Python"
   ]
  },
  {
   "cell_type": "markdown",
   "metadata": {},
   "source": [
    "- 축구 선수 정보를 Class로 구현하기"
   ]
  },
  {
   "cell_type": "markdown",
   "metadata": {},
   "source": [
    "#### # Class 이름 짓기\n",
    "\n",
    "- class 예약어/class 이름/상속받는 객체명\n",
    "\n",
    "~~~python\n",
    "class SoccerPlayer(object) :\n",
    "\n",
    "# 클래스를 통해 생성된 객체 \n",
    "son = SoccerPlayer()\n",
    "ddd = SoccerPlayer()\n",
    "~~~\n",
    "\n",
    "#### # Attribute 추가하기\n",
    "~~~ python\n",
    "# class의 초기 속성값 생성\n",
    "def __init__(self, name, position, back_number) :\n",
    "        self.name = name\n",
    "        self.position = position\n",
    "        self.back_number = back_number\n",
    "~~~\n",
    "\n",
    "\n",
    "- **attribute추가는 \\__init__\\, self를 사용한다.**\n",
    "- **\\__init__은 객체 초기화 함수!**\n",
    "\n",
    "- __는 특수한 예약 함수나 변수 그리고 함수명 변경(맨글링)으로 사용\n",
    "> **맨글링 : 기존의 함수를 약간 변형하여 사용하는 것**\n",
    "\n",
    "\n",
    "#### # method 구현하기\n",
    "\n",
    "- method(Action) 추가는 기초 함수와 같으나, 반드시 self를 추가해야만 class 함수로 인정됨\n",
    "\n",
    "#### # self\n",
    "- **생성된 인스턴스**\n",
    "- 아래 코드에선 son과 같음\n",
    "\n",
    "~~~python\n",
    "class SoccerPlayer(object) :\n",
    "\n",
    "# 클래스를 통해 생성된 객체 \n",
    "son = SoccerPlayer()\n",
    "~~~"
   ]
  },
  {
   "cell_type": "code",
   "execution_count": 30,
   "metadata": {},
   "outputs": [],
   "source": [
    "class SoccerPlayer(object) : # class의 초기 속성값 생성\n",
    "    def __init__(self, name : str, position : str, back_number : int) : # 무슨 자료형이 들어가는지 hint 입력도 가능\n",
    "        self.name = name # self라는 것에 소속된다는 의미! parameter로 입력받은 값 -> self.으로\n",
    "        self.position = position\n",
    "        self.back_number = back_number\n",
    "    \n",
    "    def __str__(self) : # 맨글링 예시\n",
    "        return f\"Hello. My name is {self.name}. My back number is {self.back_number}\"\n",
    "    \n",
    "    def __add__(self, other) : # 2개를 더해 줌\n",
    "        return self.name + other.name\n",
    "    \n",
    "    def change_back_number(self, new_number) : # 새로운 new_number parameter 입력\n",
    "        print(f'선수의 등번호를 변경합니다 : from {self.back_number} to {new_number}')\n",
    "            \n",
    "        self.back_number = new_number\n",
    "                "
   ]
  },
  {
   "cell_type": "code",
   "execution_count": 31,
   "metadata": {},
   "outputs": [],
   "source": [
    "# 클래스를 통해 생성된 객체\n",
    "# 객체명(생성된 인스턴스 이며 클래스내의 self와 같음) = class명(__init__함수, 초기값)\n",
    "son = SoccerPlayer('son','FW',7)\n",
    "ddd = SoccerPlayer('park','MF',13)"
   ]
  },
  {
   "cell_type": "code",
   "execution_count": 32,
   "metadata": {},
   "outputs": [
    {
     "name": "stdout",
     "output_type": "stream",
     "text": [
      "Hello. My name is son. My back number is 7\n",
      "sonpark\n"
     ]
    }
   ],
   "source": [
    "print(son)\n",
    "print(son + ddd)"
   ]
  },
  {
   "cell_type": "code",
   "execution_count": 35,
   "metadata": {},
   "outputs": [
    {
     "name": "stdout",
     "output_type": "stream",
     "text": [
      "선수의 등번호를 변경합니다 : from 7 to 13\n",
      "Hello. My name is son. My back number is 13\n"
     ]
    }
   ],
   "source": [
    "son.change_back_number(13)\n",
    "print(son)\n",
    "\n",
    "## self의 속성을 직접 수정도 가능하다.\n",
    "son.back_number = 20\n",
    "print(son)"
   ]
  },
  {
   "cell_type": "markdown",
   "metadata": {},
   "source": [
    "# 구현 가능한 OOP 만들기 - 노트북"
   ]
  },
  {
   "cell_type": "markdown",
   "metadata": {},
   "source": [
    "- Note를 정리하는 프로그램\n",
    "- 사용자는 Note에 뭔가를 적을 수 있다.\n",
    "- Note에는 Content가 있고, 내용을 제거할 수 있다.\n",
    "- 두 개의 노트북을 합쳐 하나로 만들 수 있다.\n",
    "- Note는 Notebook에 삽입된다.\n",
    "- Notebook은 Note가 삽입 될 떄까지 페이지를 생성하며, 최고 300페이지까지 저장 가능하다\n",
    "- 300페이지가 넘으면 더 이상 노트를 삽입하지 못한다."
   ]
  },
  {
   "cell_type": "code",
   "execution_count": 57,
   "metadata": {},
   "outputs": [],
   "source": [
    "# 입력할 Note에 해당하는 클래스\n",
    "class Note(object) :\n",
    "    def __init__(self, content = None) : # 초기값, 입력할 content (공백으로 남길 수 있으니 None처리)\n",
    "        self.content = content\n",
    "    \n",
    "    def write_content(self, content) : # 노트에 입력할 content\n",
    "        self.content = content\n",
    "    \n",
    "    def remove_all(self) : # 노트 내용 지우기\n",
    "        self.content = \"\"\n",
    "    \n",
    "    def __add__(self, other) : # 다른 노트와 합치기\n",
    "        return self.content + other.content\n",
    "    \n",
    "    def __str__(self) : \n",
    "        return f\"노트에 적힌 내용입니다 : {self.content}\""
   ]
  },
  {
   "cell_type": "code",
   "execution_count": 54,
   "metadata": {},
   "outputs": [],
   "source": [
    "# Notebook에 해당하는 클래스\n",
    "class NoteBook(object) :\n",
    "    def __init__(self, title) : # 초기값 입력, parameter는 타이틀\n",
    "        self.title = title\n",
    "        self.page_number = 1\n",
    "        self.notes = {}\n",
    "\n",
    "        \n",
    "    def add_note(self, note, page = 0) : # 노트에 추가\n",
    "        if self.page_number < 300 :\n",
    "            if page == 0 : # page의 값이 0일때는 그냥 페이지 계속 추가\n",
    "                self.notes[self.page_number] = note\n",
    "                self.page_number += 1\n",
    "            else :\n",
    "                self.notes = {page : note} # 입력된 page에 값을 추가\n",
    "                self.page_number += 1\n",
    "        \n",
    "        else :\n",
    "            print(\"Page가 모두 채워졌습니다.\")\n",
    "            \n",
    "    def remove_note(self, page_number) : # 특정 페이지 노트 제거\n",
    "        if page_number in self.notes.keys() : # 지정한 페이지가 노트에 존재하는 경우 제거\n",
    "            return self.notes.pop(page_number)\n",
    "        \n",
    "        else :\n",
    "            print(\"해당페이지는 존재하지 않습니다.\")\n",
    "    \n",
    "    def get_number_of_pages(self) : # 채운 페이지수 확인\n",
    "        return len(self.notes.keys())\n",
    "        \n",
    "            "
   ]
  },
  {
   "cell_type": "code",
   "execution_count": 55,
   "metadata": {
    "scrolled": true
   },
   "outputs": [
    {
     "data": {
      "text/plain": [
       "<__main__.NoteBook at 0x2197e7d9880>"
      ]
     },
     "execution_count": 55,
     "metadata": {},
     "output_type": "execute_result"
    }
   ],
   "source": [
    "# '오늘의 강의 노트'라는 타이틀을 가진 새로운 노트북 객체 생성\n",
    "my_notebook = NoteBook(\"오늘의 강의 노트\")\n",
    "my_notebook"
   ]
  },
  {
   "cell_type": "code",
   "execution_count": 59,
   "metadata": {},
   "outputs": [
    {
     "data": {
      "text/plain": [
       "'오늘의 강의 노트'"
      ]
     },
     "execution_count": 59,
     "metadata": {},
     "output_type": "execute_result"
    }
   ],
   "source": [
    "my_notebook.title"
   ]
  },
  {
   "cell_type": "code",
   "execution_count": 58,
   "metadata": {},
   "outputs": [
    {
     "name": "stdout",
     "output_type": "stream",
     "text": [
      "노트에 적힌 내용입니다 : 오늘도 파이썬 공부\n"
     ]
    }
   ],
   "source": [
    "# '오늘도 파이썬 공부'라는 새로운 노트 객체 생성\n",
    "new_note = Note(\"오늘도 파이썬 공부\")\n",
    "print(new_note)"
   ]
  },
  {
   "cell_type": "code",
   "execution_count": 61,
   "metadata": {},
   "outputs": [
    {
     "name": "stdout",
     "output_type": "stream",
     "text": [
      "노트에 적힌 내용입니다 : 파이썬 강의\n"
     ]
    }
   ],
   "source": [
    "# '파이썬 강의'라는 새로운 노트 객체 생성\n",
    "new_note2 = Note(\"파이썬 강의\")\n",
    "print(new_note2)"
   ]
  },
  {
   "cell_type": "code",
   "execution_count": 65,
   "metadata": {},
   "outputs": [],
   "source": [
    "# 노트북에 2개의 노트 추가\n",
    "my_notebook.add_note(new_note)\n",
    "my_notebook.add_note(new_note2)"
   ]
  },
  {
   "cell_type": "code",
   "execution_count": 66,
   "metadata": {},
   "outputs": [
    {
     "data": {
      "text/plain": [
       "3"
      ]
     },
     "execution_count": 66,
     "metadata": {},
     "output_type": "execute_result"
    }
   ],
   "source": [
    "# 추가한 노트북의 총 페이지수 확인\n",
    "my_notebook.get_number_of_pages()"
   ]
  },
  {
   "cell_type": "code",
   "execution_count": 68,
   "metadata": {},
   "outputs": [
    {
     "name": "stdout",
     "output_type": "stream",
     "text": [
      "노트에 적힌 내용입니다 : 오늘도 파이썬 공부\n"
     ]
    }
   ],
   "source": [
    "# 1페이지의 노트 내용 확인\n",
    "print(my_notebook.notes[1])"
   ]
  },
  {
   "cell_type": "code",
   "execution_count": 70,
   "metadata": {},
   "outputs": [
    {
     "name": "stdout",
     "output_type": "stream",
     "text": [
      "노트에 적힌 내용입니다 : 안녕\n"
     ]
    }
   ],
   "source": [
    "# 2페이지에 안녕이라는 노트 내용 등록\n",
    "my_notebook.notes[2] = Note('안녕')\n",
    "print(my_notebook.notes[2])"
   ]
  },
  {
   "cell_type": "markdown",
   "metadata": {},
   "source": [
    "# 객체 지향 언어의 특징\n",
    "\n",
    "## 상속\n",
    "- 부모 클래스로부터 속성과 method를 물려받은 자식 클래스를 생성하는 것"
   ]
  },
  {
   "cell_type": "code",
   "execution_count": 71,
   "metadata": {},
   "outputs": [
    {
     "name": "stdout",
     "output_type": "stream",
     "text": [
      "Sun\n"
     ]
    }
   ],
   "source": [
    "# 이름과 나이가 들어간 class 생성\n",
    "class Person(object) :\n",
    "    def __init__(self, name, age) :\n",
    "        self.name = name\n",
    "        self.age = age\n",
    "        \n",
    "# Person을 상속 받았기 때문에 Person의 속성을 상속받아 사용이 가능함.\n",
    "class Korean(Person) :\n",
    "    pass\n",
    "\n",
    "first_korean = Korean('Sun', 26)\n",
    "print(first_korean.name)"
   ]
  },
  {
   "cell_type": "code",
   "execution_count": 110,
   "metadata": {},
   "outputs": [],
   "source": [
    "# 이름과 나이가 들어간 class 생성\n",
    "class Person(object) :\n",
    "    def __init__(self, name, age, gender) :\n",
    "        self.name = name\n",
    "        self.age = age\n",
    "        self.gender = gender\n",
    "\n",
    "    def about_me(self) :\n",
    "        print(f'이름 : {self.name}, 나이 : {self.age}, 성별 : {self.gender}')\n",
    "    \n",
    "    def __str__(self) : \n",
    "        return f'이름 : {self.name}, 나이 : {self.age}, 성별 : {self.gender}'"
   ]
  },
  {
   "cell_type": "code",
   "execution_count": 111,
   "metadata": {},
   "outputs": [],
   "source": [
    "class Employee(Person) :\n",
    "    def __init__(self, name, age, gender, salary, hire_date) :\n",
    "        super().__init__(name, age, gender) # 부모 객체를 불러내서 사용 가능\n",
    "        self.salary = salary\n",
    "        self.hire_date = hire_date # 속성값 추가\n",
    "        \n",
    "    def do_work(self) : # 새로운 메서드 추가\n",
    "        print(\"열심히 일을 합니다.\")\n",
    "    \n",
    "    def about_me(self) : # 부모 클래스 함수 재정의\n",
    "        super().about_me() # 부모 클래스의 함수도 사용이 가능하다.\n",
    "        print(f'제 급여는 {self.salary}원 이고, 입사일은 {self.hire_date}입니다.')"
   ]
  },
  {
   "cell_type": "code",
   "execution_count": 112,
   "metadata": {},
   "outputs": [
    {
     "name": "stdout",
     "output_type": "stream",
     "text": [
      "이름 : sun, 나이 : 26, 성별 : M\n"
     ]
    }
   ],
   "source": [
    "sun = Person('sun',26,'M')\n",
    "print(sun)"
   ]
  },
  {
   "cell_type": "code",
   "execution_count": 113,
   "metadata": {},
   "outputs": [
    {
     "name": "stdout",
     "output_type": "stream",
     "text": [
      "이름 : sun, 나이 : 26, 성별 : M\n",
      "제 급여는 2222원 이고, 입사일은 2021/10/27입니다.\n"
     ]
    }
   ],
   "source": [
    "myemp = Employee('sun', 26, 'M',2222,'2021/10/27')\n",
    "myemp.about_me()"
   ]
  },
  {
   "cell_type": "markdown",
   "metadata": {},
   "source": [
    "## 다형성\n",
    "\n",
    "- 같은 이름 메소드의 내부 로직을 다르게 작성\n",
    "\n",
    "- Dynamic Typing 특성으로 인해 파이썬에서는 같은 부모클래스의 상속에서 주로 발생함\n",
    "\n",
    "- 중요한 OOP의 개념 그러나 너무 깊이 알 필요 x"
   ]
  },
  {
   "cell_type": "code",
   "execution_count": 114,
   "metadata": {},
   "outputs": [],
   "source": [
    "class Animal : # 클래스 생성\n",
    "    def __init__(self, name) : # 동물 이름 속성\n",
    "        self.name = name\n",
    "    \n",
    "    def talk(self) : # 아직 생성되지 않았다는 에러 지정\n",
    "        raise NotImplementedError('Subclass must implement abstract method')"
   ]
  },
  {
   "cell_type": "markdown",
   "metadata": {},
   "source": [
    "#### talk라는 같은 이름을 쓰되, 내부 구조를 약간 다르게함으로써 결론이 달라진다."
   ]
  },
  {
   "cell_type": "code",
   "execution_count": 115,
   "metadata": {},
   "outputs": [],
   "source": [
    "class Cat(Animal) :\n",
    "    def talk(self) :\n",
    "        return 'Meow!'\n",
    "\n",
    "class Dog(Animal) :\n",
    "    def talk(self) :\n",
    "        return 'Woof! Woof!'"
   ]
  },
  {
   "cell_type": "code",
   "execution_count": 117,
   "metadata": {},
   "outputs": [
    {
     "name": "stdout",
     "output_type": "stream",
     "text": [
      "news: Meow!\n",
      "solana: Meow!\n",
      "leee: Woof! Woof!\n"
     ]
    }
   ],
   "source": [
    "animals = [Cat('news'),\n",
    "          Cat('solana'),\n",
    "          Dog('leee')]\n",
    "\n",
    "for animal in animals :\n",
    "    print(animal.name + ': ' + animal.talk())"
   ]
  },
  {
   "cell_type": "markdown",
   "metadata": {},
   "source": [
    "## 가시성\n",
    "\n",
    "- 객체의 정보를 볼 수 있는 레벨을 조절하는 것\n",
    "- 누구나 객체 안에 모든 변수를 볼 필요가 없음\n",
    "\n",
    "> 1) 객체를 사용하는 사용자가 임의로 정보 수정<br>\n",
    "> 2) 필요없는 정보에는 접근할 필요가 없음<br>\n",
    "> 3) 만약 제품으로 판단한다면? 소스의 보호<br>\n",
    "\n",
    "### Encapsulation\n",
    "\n",
    "- 캡슐화 또는 정보 은닉\n",
    "\n",
    "- Class를 설계할 때, 클래스 간 간섭/정보공유의 최소화\n",
    "\n",
    "- 심판 클래스가 축구선수 클래스 가족 정보를 알아야하나?\n",
    "\n",
    "->  캡슐을 던지듯, 인터페이스만 알아서 써야함"
   ]
  },
  {
   "cell_type": "code",
   "execution_count": 118,
   "metadata": {},
   "outputs": [],
   "source": [
    "class Product(object) :\n",
    "    pass"
   ]
  },
  {
   "cell_type": "code",
   "execution_count": 119,
   "metadata": {},
   "outputs": [],
   "source": [
    "class inventory(object) :\n",
    "    def __init__(self) :\n",
    "        self.items = []\n",
    "        self.test = 'abc'\n",
    "        \n",
    "    def add_new_item(self, product) :\n",
    "        if type(product) == Product :\n",
    "            self.items.append(product)\n",
    "            print('new item added')\n",
    "        else :\n",
    "            raise ValueError('invalid Item')\n",
    "            \n",
    "    def get_number_of_items(self) :\n",
    "        return len(self.items)"
   ]
  },
  {
   "cell_type": "code",
   "execution_count": 124,
   "metadata": {},
   "outputs": [
    {
     "name": "stdout",
     "output_type": "stream",
     "text": [
      "new item added\n",
      "new item added\n"
     ]
    }
   ],
   "source": [
    "my_inventory = inventory()\n",
    "my_inventory.add_new_item(Product())\n",
    "my_inventory.add_new_item(Product())\n",
    "my_inventory.items.append('abc')\n",
    "my_inventory.items.append('bbc')"
   ]
  },
  {
   "cell_type": "code",
   "execution_count": 127,
   "metadata": {},
   "outputs": [
    {
     "data": {
      "text/plain": [
       "[<__main__.Product at 0x2197e912160>,\n",
       " <__main__.Product at 0x2197e912340>,\n",
       " 'abc',\n",
       " 'bbc']"
      ]
     },
     "execution_count": 127,
     "metadata": {},
     "output_type": "execute_result"
    }
   ],
   "source": [
    "# 기존의 클래스는 아무나 접근, 추가가 가능하다.\n",
    "my_inventory.items"
   ]
  },
  {
   "cell_type": "code",
   "execution_count": 146,
   "metadata": {},
   "outputs": [],
   "source": [
    "class inventory(object) :\n",
    "    def __init__(self) :\n",
    "        self.__items = [] # __를 앞에 추가하면 접근이 불가능하다.\n",
    "        self.test = 'abc'\n",
    "        \n",
    "    def add_new_item(self, product) :\n",
    "        if type(product) == Product :\n",
    "            self.__items.append(product)\n",
    "            print('new item added')\n",
    "        else :\n",
    "            raise ValueError('invalid Item')\n",
    "            \n",
    "    def get_number_of_items(self) :\n",
    "        return len(self.__items)"
   ]
  },
  {
   "cell_type": "code",
   "execution_count": 147,
   "metadata": {},
   "outputs": [
    {
     "name": "stdout",
     "output_type": "stream",
     "text": [
      "new item added\n",
      "new item added\n"
     ]
    },
    {
     "ename": "AttributeError",
     "evalue": "'inventory' object has no attribute '__items'",
     "output_type": "error",
     "traceback": [
      "\u001b[1;31m---------------------------------------------------------------------------\u001b[0m",
      "\u001b[1;31mAttributeError\u001b[0m                            Traceback (most recent call last)",
      "\u001b[1;32m~\\AppData\\Local\\Temp/ipykernel_16976/3632137477.py\u001b[0m in \u001b[0;36m<module>\u001b[1;34m\u001b[0m\n\u001b[0;32m      3\u001b[0m \u001b[0mmy_inventory\u001b[0m\u001b[1;33m.\u001b[0m\u001b[0madd_new_item\u001b[0m\u001b[1;33m(\u001b[0m\u001b[0mProduct\u001b[0m\u001b[1;33m(\u001b[0m\u001b[1;33m)\u001b[0m\u001b[1;33m)\u001b[0m\u001b[1;33m\u001b[0m\u001b[1;33m\u001b[0m\u001b[0m\n\u001b[0;32m      4\u001b[0m \u001b[0mmy_inventory\u001b[0m\u001b[1;33m.\u001b[0m\u001b[0madd_new_item\u001b[0m\u001b[1;33m(\u001b[0m\u001b[0mProduct\u001b[0m\u001b[1;33m(\u001b[0m\u001b[1;33m)\u001b[0m\u001b[1;33m)\u001b[0m\u001b[1;33m\u001b[0m\u001b[1;33m\u001b[0m\u001b[0m\n\u001b[1;32m----> 5\u001b[1;33m \u001b[0mmy_inventory\u001b[0m\u001b[1;33m.\u001b[0m\u001b[0m__items\u001b[0m\u001b[1;33m.\u001b[0m\u001b[0mappend\u001b[0m\u001b[1;33m(\u001b[0m\u001b[1;34m'abc'\u001b[0m\u001b[1;33m)\u001b[0m\u001b[1;33m\u001b[0m\u001b[1;33m\u001b[0m\u001b[0m\n\u001b[0m\u001b[0;32m      6\u001b[0m \u001b[0mmy_inventory\u001b[0m\u001b[1;33m.\u001b[0m\u001b[0mitems\u001b[0m\u001b[1;33m.\u001b[0m\u001b[0mappend\u001b[0m\u001b[1;33m(\u001b[0m\u001b[1;34m'bbc'\u001b[0m\u001b[1;33m)\u001b[0m\u001b[1;33m\u001b[0m\u001b[1;33m\u001b[0m\u001b[0m\n",
      "\u001b[1;31mAttributeError\u001b[0m: 'inventory' object has no attribute '__items'"
     ]
    }
   ],
   "source": [
    "# 접근, 추가하려니 오류가 뜬다.\n",
    "my_inventory = inventory()\n",
    "my_inventory.add_new_item(Product())\n",
    "my_inventory.add_new_item(Product())\n",
    "my_inventory.__items.append('abc')\n",
    "my_inventory.items.append('bbc')"
   ]
  },
  {
   "cell_type": "code",
   "execution_count": 148,
   "metadata": {},
   "outputs": [],
   "source": [
    "# items에 접근 허용도 가능하다.\n",
    "class inventory(object) :\n",
    "    def __init__(self) :\n",
    "        self.__items = [] # __를 앞에 추가하면 접근이 불가능하다.\n",
    "    \n",
    "    def add_new_item(self, product) :\n",
    "        if type(product) == Product :\n",
    "            self.__items.append(product)\n",
    "            print('new item added')\n",
    "        else :\n",
    "            raise ValueError('invalid Item')\n",
    "            \n",
    "    def get_number_of_items(self) :\n",
    "        return len(self.__items)\n",
    "    \n",
    "    @property # decorator 숨겨진 변수를 반환하게 해줌'\n",
    "    def items(self) :\n",
    "        return self.__items"
   ]
  },
  {
   "cell_type": "code",
   "execution_count": 149,
   "metadata": {},
   "outputs": [
    {
     "name": "stdout",
     "output_type": "stream",
     "text": [
      "1\n"
     ]
    }
   ],
   "source": [
    "my_inventory = inventory()\n",
    "\n",
    "items = my_inventory.items\n",
    "items.append(Product())\n",
    "print(my_inventory.get_number_of_items())"
   ]
  },
  {
   "cell_type": "markdown",
   "metadata": {},
   "source": [
    "### 그렇다면 @property같은건 어떻게 만들어지는가?"
   ]
  },
  {
   "cell_type": "markdown",
   "metadata": {},
   "source": [
    "## 1. First-Class Object\n",
    "\n",
    "- 일등함수 또는 일급 객체\n",
    "\n",
    "- 변수나 데이터 구조에 할당이 가능한 객체\n",
    "\n",
    "- 파라메터로 전달이 가능 + 리턴 값으로 사용\n",
    "\n",
    "**파이썬의 함수는 일급함수**"
   ]
  },
  {
   "cell_type": "code",
   "execution_count": 150,
   "metadata": {},
   "outputs": [],
   "source": [
    "def square(x) :\n",
    "    return x * x\n",
    "\n",
    "def cube(x) :\n",
    "    return x*x*x"
   ]
  },
  {
   "cell_type": "code",
   "execution_count": 151,
   "metadata": {},
   "outputs": [],
   "source": [
    "def formula(method, argument_list) :\n",
    "    return [method(value) for value in argument_list]"
   ]
  },
  {
   "cell_type": "markdown",
   "metadata": {},
   "source": [
    "- 함수 내에 또 다른 함수가 존재"
   ]
  },
  {
   "cell_type": "code",
   "execution_count": 152,
   "metadata": {},
   "outputs": [
    {
     "name": "stdout",
     "output_type": "stream",
     "text": [
      "Hello, Python\n"
     ]
    }
   ],
   "source": [
    "def print_msg(msg) :\n",
    "    def printer() :\n",
    "        print(msg)\n",
    "    printer()\n",
    "    \n",
    "print_msg(\"Hello, Python\")"
   ]
  },
  {
   "cell_type": "markdown",
   "metadata": {},
   "source": [
    "- **closures : inner function을 return값으로 변환**\n"
   ]
  },
  {
   "cell_type": "code",
   "execution_count": 154,
   "metadata": {},
   "outputs": [
    {
     "name": "stdout",
     "output_type": "stream",
     "text": [
      "Hello, Python\n"
     ]
    }
   ],
   "source": [
    "def print_msg(msg) :\n",
    "    def printer() :\n",
    "        print(msg)\n",
    "    return printer\n",
    "    \n",
    "another = print_msg(\"Hello, Python\")\n",
    "another()"
   ]
  },
  {
   "cell_type": "code",
   "execution_count": 155,
   "metadata": {},
   "outputs": [],
   "source": [
    "def tag_func(tag,text) :\n",
    "    text = text\n",
    "    tag = tag\n",
    "    \n",
    "    def inner_func() :\n",
    "        return '<{0}>{1}<{0}>'.format(tag,text)\n",
    "    \n",
    "    return inner_func\n",
    "\n",
    "h1_func = tag_func('title', 'This is Python Class')\n",
    "p_func = tag_func('p', 'Data Academy')"
   ]
  },
  {
   "cell_type": "markdown",
   "metadata": {},
   "source": [
    "### decorator\n",
    "- **복잡한 클로져 함수를 간단하게**"
   ]
  },
  {
   "cell_type": "code",
   "execution_count": 158,
   "metadata": {},
   "outputs": [
    {
     "name": "stdout",
     "output_type": "stream",
     "text": [
      "******************************\n",
      "Hello\n",
      "******************************\n"
     ]
    }
   ],
   "source": [
    "def star(func) :\n",
    "    def inner(*args, **kwargs) :\n",
    "        print(\"*\" * 30)\n",
    "        func(*args, **kwargs)\n",
    "        print('*'*30)\n",
    "    return inner\n",
    "\n",
    "\n",
    "@star # decorator로 *표시\n",
    "def printer(msg): \n",
    "    print(msg)\n",
    "printer(\"Hello\")"
   ]
  },
  {
   "cell_type": "code",
   "execution_count": 161,
   "metadata": {},
   "outputs": [
    {
     "name": "stdout",
     "output_type": "stream",
     "text": [
      "DDDDDDDDDDDDDDDDDDDDDDDDDDDDDD\n",
      "Hello\n",
      "DDDDDDDDDDDDDDDDDDDDDDDDDDDDDD\n"
     ]
    }
   ],
   "source": [
    "def star(func) :\n",
    "    def inner(*args, **kwargs) :\n",
    "        print(args[1] * 30)\n",
    "        func(*args, **kwargs)\n",
    "        print(args[1]*30)\n",
    "    return inner\n",
    "\n",
    "@star\n",
    "def printer(msg, mark): \n",
    "    print(msg)\n",
    "printer(\"Hello\",'D')"
   ]
  }
 ],
 "metadata": {
  "kernelspec": {
   "display_name": "Python 3 (ipykernel)",
   "language": "python",
   "name": "python3"
  },
  "language_info": {
   "codemirror_mode": {
    "name": "ipython",
    "version": 3
   },
   "file_extension": ".py",
   "mimetype": "text/x-python",
   "name": "python",
   "nbconvert_exporter": "python",
   "pygments_lexer": "ipython3",
   "version": "3.8.5"
  }
 },
 "nbformat": 4,
 "nbformat_minor": 4
}
