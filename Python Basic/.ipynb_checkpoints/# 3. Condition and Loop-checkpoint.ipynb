{
 "cells": [
  {
   "cell_type": "markdown",
   "metadata": {},
   "source": [
    "# IF 조건문"
   ]
  },
  {
   "cell_type": "code",
   "execution_count": 7,
   "metadata": {},
   "outputs": [],
   "source": [
    "def if_else_exam() :\n",
    "    print(\"Tell me your age?\")\n",
    "    myage = input()\n",
    "    \n",
    "    if int(myage) > 25 :\n",
    "        print(\"He is Sun\")\n",
    "        print(\"He Live in Gwangmyeong\")\n",
    "    else :\n",
    "        print(\"He is Mr.Choi\")\n",
    "        print(\"Mr.Choi in Neo Guro\")"
   ]
  },
  {
   "cell_type": "code",
   "execution_count": 8,
   "metadata": {},
   "outputs": [
    {
     "name": "stdout",
     "output_type": "stream",
     "text": [
      "Tell me your age?\n",
      "25\n",
      "He is Mr.Choi\n",
      "Mr.Choi in Neo Guro\n"
     ]
    }
   ],
   "source": [
    "if_else_exam()"
   ]
  },
  {
   "cell_type": "code",
   "execution_count": 9,
   "metadata": {},
   "outputs": [
    {
     "data": {
      "text/plain": [
       "True"
      ]
     },
     "execution_count": 9,
     "metadata": {},
     "output_type": "execute_result"
    }
   ],
   "source": [
    "a= 100\n",
    "b = 100\n",
    "a == b"
   ]
  },
  {
   "cell_type": "code",
   "execution_count": 10,
   "metadata": {},
   "outputs": [
    {
     "data": {
      "text/plain": [
       "True"
      ]
     },
     "execution_count": 10,
     "metadata": {},
     "output_type": "execute_result"
    }
   ],
   "source": [
    "a is b"
   ]
  },
  {
   "cell_type": "code",
   "execution_count": 11,
   "metadata": {},
   "outputs": [],
   "source": [
    "a = [1,2,3,4,5]"
   ]
  },
  {
   "cell_type": "code",
   "execution_count": 12,
   "metadata": {},
   "outputs": [],
   "source": [
    "b = a"
   ]
  },
  {
   "cell_type": "code",
   "execution_count": 14,
   "metadata": {},
   "outputs": [
    {
     "data": {
      "text/plain": [
       "True"
      ]
     },
     "execution_count": 14,
     "metadata": {},
     "output_type": "execute_result"
    }
   ],
   "source": [
    "a = True\n",
    "b = True\n",
    "a and b"
   ]
  },
  {
   "cell_type": "code",
   "execution_count": 15,
   "metadata": {},
   "outputs": [
    {
     "data": {
      "text/plain": [
       "False"
      ]
     },
     "execution_count": 15,
     "metadata": {},
     "output_type": "execute_result"
    }
   ],
   "source": [
    "a = True\n",
    "b = False\n",
    "a and b"
   ]
  },
  {
   "cell_type": "markdown",
   "metadata": {},
   "source": [
    "#### # 무슨 학교 다니세요?\n",
    "- 태어난 연도를 계산하여 학교 종류를 맞추는 프로그램\n",
    "\n",
    "***\n",
    "~~~python\n",
    "당신이 태어난 년도를 입력하세요\n",
    "1994\n",
    "대학생\n",
    "~~~"
   ]
  },
  {
   "cell_type": "code",
   "execution_count": 18,
   "metadata": {},
   "outputs": [],
   "source": [
    "def if_exam() :\n",
    "    age = input(\"당신이 태어난 년도를 입력하세요  \")\n",
    "    age = 2021 - (int(age) + 1)\n",
    "    if 20 <= age & age <= 26 :\n",
    "        print(\"대학생\")\n",
    "    elif 17 <= age & age < 20 :\n",
    "        print(\"고등학생\")\n",
    "    elif 14 <= age & age < 17 :\n",
    "        print(\"중학생\")\n",
    "    elif 8 <= age & age < 14 :\n",
    "        print(\"초등학생\")\n",
    "    else :\n",
    "        print(\"학생이 아닙니다\")"
   ]
  },
  {
   "cell_type": "code",
   "execution_count": 20,
   "metadata": {},
   "outputs": [
    {
     "name": "stdout",
     "output_type": "stream",
     "text": [
      "당신이 태어난 년도를 입력하세요  2001\n",
      "고등학생\n"
     ]
    }
   ],
   "source": [
    "if_exam()"
   ]
  },
  {
   "cell_type": "markdown",
   "metadata": {},
   "source": [
    "# Loop"
   ]
  },
  {
   "cell_type": "code",
   "execution_count": 22,
   "metadata": {},
   "outputs": [
    {
     "name": "stdout",
     "output_type": "stream",
     "text": [
      "hello : 1\n",
      "hello : 2\n",
      "hello : 3\n",
      "hello : 4\n",
      "hello : 5\n"
     ]
    }
   ],
   "source": [
    "for looper in [1,2,3,4,5] :\n",
    "    print(f\"hello : {looper}\")"
   ]
  },
  {
   "cell_type": "code",
   "execution_count": 24,
   "metadata": {},
   "outputs": [
    {
     "name": "stdout",
     "output_type": "stream",
     "text": [
      "0 : hello\n",
      "1 : hello\n",
      "2 : hello\n",
      "3 : hello\n",
      "4 : hello\n"
     ]
    }
   ],
   "source": [
    "for looper in range(0,5) :\n",
    "    print(f\"{looper} : hello\")"
   ]
  },
  {
   "cell_type": "markdown",
   "metadata": {},
   "source": [
    "#### # 구구단 계산기\n",
    "\n",
    "- 아래와 같이 출력되는 프로그램을 만드시오\n",
    "~~~python\n",
    "구구단 몇단을 계산할까요?\n",
    "5\n",
    "구구단 5단을 계산합니다\n",
    "5 x 1 = 5\n",
    ".\n",
    ".\n",
    ".\n",
    "5 x 9 = 45\n",
    "~~~"
   ]
  },
  {
   "cell_type": "code",
   "execution_count": 27,
   "metadata": {},
   "outputs": [],
   "source": [
    "def make_gugudan() :\n",
    "    dan = int(input(\"구구단 몇단을 계산할까요? \\n\"))\n",
    "    print(f\"구구단 {dan}단을 계산합니다.\")\n",
    "    for i in range(1,10) :\n",
    "        print(f\"{dan} x {i} = {dan*i}\")"
   ]
  },
  {
   "cell_type": "code",
   "execution_count": 28,
   "metadata": {},
   "outputs": [
    {
     "name": "stdout",
     "output_type": "stream",
     "text": [
      "구구단 몇단을 계산할까요? \n",
      "5\n",
      "구구단 5단을 계산합니다.\n",
      "5 x 1 = 5\n",
      "5 x 2 = 10\n",
      "5 x 3 = 15\n",
      "5 x 4 = 20\n",
      "5 x 5 = 25\n",
      "5 x 6 = 30\n",
      "5 x 7 = 35\n",
      "5 x 8 = 40\n",
      "5 x 9 = 45\n"
     ]
    }
   ],
   "source": [
    "make_gugudan()"
   ]
  },
  {
   "cell_type": "markdown",
   "metadata": {},
   "source": [
    "## Debugging Loop\n"
   ]
  },
  {
   "cell_type": "code",
   "execution_count": 30,
   "metadata": {},
   "outputs": [
    {
     "name": "stdout",
     "output_type": "stream",
     "text": [
      "input decimal number :\n",
      "11\n",
      "--------- 0 loop value check ---------\n",
      "initial decimal : 11 remainder: 1 initial result \n",
      "output decimal: 5 output result: 1\n",
      "--------------------------------------------\n",
      "\n",
      "--------- 1 loop value check ---------\n",
      "initial decimal : 5 remainder: 1 initial result 1\n",
      "output decimal: 2 output result: 11\n",
      "--------------------------------------------\n",
      "\n",
      "--------- 2 loop value check ---------\n",
      "initial decimal : 2 remainder: 0 initial result 11\n",
      "output decimal: 1 output result: 011\n",
      "--------------------------------------------\n",
      "\n",
      "--------- 3 loop value check ---------\n",
      "initial decimal : 1 remainder: 1 initial result 011\n",
      "output decimal: 0 output result: 1011\n",
      "--------------------------------------------\n",
      "\n",
      "Binary number is 1011\n"
     ]
    }
   ],
   "source": [
    "print(\"input decimal number :\",)\n",
    "decimal = int(input())\n",
    "result = \"\"\n",
    "loop_counter = 0\n",
    "while(decimal > 0) :\n",
    "    temp_decimal_input = decimal\n",
    "    temp_result_input = result\n",
    "    \n",
    "    remainder = decimal % 2\n",
    "    decimal = decimal//2\n",
    "    result = str(remainder) + result\n",
    "    \n",
    "    print(\"---------\",loop_counter,'loop value check ---------')\n",
    "    print('initial decimal :', temp_decimal_input,\n",
    "         'remainder:',remainder,\n",
    "         'initial result', temp_result_input)\n",
    "    print('output decimal:', decimal,\n",
    "         'output result:',result)\n",
    "    print(\"--------------------------------------------\")\n",
    "    print(\"\")\n",
    "    loop_counter += 1\n",
    "    \n",
    "print('Binary number is', result)\n",
    "    "
   ]
  },
  {
   "cell_type": "markdown",
   "metadata": {},
   "source": [
    "#### # 숫자 찾기 게임\n",
    "\n",
    "- 1~100 임의의 숫자를 맞추시오"
   ]
  },
  {
   "cell_type": "code",
   "execution_count": 40,
   "metadata": {},
   "outputs": [],
   "source": [
    "import random \n",
    "def find_number() :\n",
    "    result = random.randint(1,100)\n",
    "    \n",
    "    print(\"숫자를 맞춰보세요(1 ~ 100)\")\n",
    "    while 1 :\n",
    "        nums = int(input())\n",
    "        if nums > result :\n",
    "            print(\"숫자가 너무 큽니다.\")\n",
    "        elif nums < result :\n",
    "            print(\"숫자가 너무 작습니다.\")\n",
    "        else :\n",
    "            print(f\"정답입니다. 입력한 숫자는 {nums}입니다\")\n",
    "            break"
   ]
  },
  {
   "cell_type": "code",
   "execution_count": 42,
   "metadata": {},
   "outputs": [
    {
     "name": "stdout",
     "output_type": "stream",
     "text": [
      "숫자를 맞춰보세요(1 ~ 100)\n",
      "12\n",
      "숫자가 너무 작습니다.\n",
      "13\n",
      "숫자가 너무 작습니다.\n",
      "20\n",
      "숫자가 너무 작습니다.\n",
      "50\n",
      "숫자가 너무 큽니다.\n",
      "49\n",
      "숫자가 너무 큽니다.\n",
      "38\n",
      "숫자가 너무 큽니다.\n",
      "25\n",
      "숫자가 너무 큽니다.\n",
      "17\n",
      "숫자가 너무 작습니다.\n",
      "20\n",
      "숫자가 너무 작습니다.\n",
      "22\n",
      "숫자가 너무 작습니다.\n",
      "25\n",
      "숫자가 너무 큽니다.\n",
      "24\n",
      "정답입니다. 입력한 숫자는 24입니다\n"
     ]
    }
   ],
   "source": [
    "find_number()"
   ]
  },
  {
   "cell_type": "markdown",
   "metadata": {},
   "source": [
    "#### # 연속적인 구구단 입력\n",
    "-  1~9 구구단을 입력 받아 구구단을 출력, 0을 입력 시 종료"
   ]
  },
  {
   "cell_type": "code",
   "execution_count": 64,
   "metadata": {},
   "outputs": [],
   "source": [
    "def gugudan_ver2() :\n",
    "    while 1 :\n",
    "        print(\"구구단 몇 단을 계산할까요(1~9)?\")\n",
    "        dan = int(input())\n",
    "        print('-'*20)\n",
    "        if dan < 1 or dan > 9 :\n",
    "            print('계산 범위를 벗어났습니다.')\n",
    "            print('구구단 게임을 종료합니다.')\n",
    "            break\n",
    "        else :\n",
    "            print(f'구구단 {dan}단을 계산합니다.')\n",
    "            for i in range(1,10) :\n",
    "                print(f'{dan} x {i} = {dan * i}')\n",
    "        print('-'*20)\n",
    "        "
   ]
  },
  {
   "cell_type": "code",
   "execution_count": 65,
   "metadata": {},
   "outputs": [
    {
     "name": "stdout",
     "output_type": "stream",
     "text": [
      "구구단 몇 단을 계산할까요(1~9)?\n",
      "2\n",
      "--------------------\n",
      "구구단 2단을 계산합니다.\n",
      "2 x 1 = 2\n",
      "2 x 2 = 4\n",
      "2 x 3 = 6\n",
      "2 x 4 = 8\n",
      "2 x 5 = 10\n",
      "2 x 6 = 12\n",
      "2 x 7 = 14\n",
      "2 x 8 = 16\n",
      "2 x 9 = 18\n",
      "--------------------\n",
      "구구단 몇 단을 계산할까요(1~9)?\n",
      "3\n",
      "--------------------\n",
      "구구단 3단을 계산합니다.\n",
      "3 x 1 = 3\n",
      "3 x 2 = 6\n",
      "3 x 3 = 9\n",
      "3 x 4 = 12\n",
      "3 x 5 = 15\n",
      "3 x 6 = 18\n",
      "3 x 7 = 21\n",
      "3 x 8 = 24\n",
      "3 x 9 = 27\n",
      "--------------------\n",
      "구구단 몇 단을 계산할까요(1~9)?\n",
      "8\n",
      "--------------------\n",
      "구구단 8단을 계산합니다.\n",
      "8 x 1 = 8\n",
      "8 x 2 = 16\n",
      "8 x 3 = 24\n",
      "8 x 4 = 32\n",
      "8 x 5 = 40\n",
      "8 x 6 = 48\n",
      "8 x 7 = 56\n",
      "8 x 8 = 64\n",
      "8 x 9 = 72\n",
      "--------------------\n",
      "구구단 몇 단을 계산할까요(1~9)?\n",
      "10\n",
      "--------------------\n",
      "계산 범위를 벗어났습니다.\n",
      "구구단 게임을 종료합니다.\n"
     ]
    }
   ],
   "source": [
    "gugudan_ver2()"
   ]
  },
  {
   "cell_type": "code",
   "execution_count": 4,
   "metadata": {},
   "outputs": [
    {
     "name": "stdout",
     "output_type": "stream",
     "text": [
      "True\n",
      "15\n"
     ]
    }
   ],
   "source": [
    "def main() : \n",
    "    print(15 == multiply(3,5))\n",
    "    print(multiply(3,5))\n",
    "\n",
    "# 파이썬 환경에서 시작이 해당 코드를 제일 먼저 호출\n",
    "# if__name__으로 묶어둘시 파이썬에서 바로 실행하지 않음\n",
    "# main()만 남겨둘 경우 코드를 불러내면 바로 실행시킨다.\n",
    "if __name__ == \"__main__\" :\n",
    "    main()"
   ]
  },
  {
   "cell_type": "markdown",
   "metadata": {},
   "source": [
    "# Debugging\n",
    "\n",
    "- 잘못된 오류를 발견하고 수정하는 과정\n",
    "\n",
    "- **문법적 에러**를 찾기 위한 에러 메시지 분석\n",
    "\n",
    "- **논리적 에러**를 찾기 위한 테스트도 중요"
   ]
  }
 ],
 "metadata": {
  "kernelspec": {
   "display_name": "Python 3 (ipykernel)",
   "language": "python",
   "name": "python3"
  },
  "language_info": {
   "codemirror_mode": {
    "name": "ipython",
    "version": 3
   },
   "file_extension": ".py",
   "mimetype": "text/x-python",
   "name": "python",
   "nbconvert_exporter": "python",
   "pygments_lexer": "ipython3",
   "version": "3.8.5"
  }
 },
 "nbformat": 4,
 "nbformat_minor": 4
}
