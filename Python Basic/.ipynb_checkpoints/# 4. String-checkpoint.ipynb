{
 "cells": [
  {
   "cell_type": "markdown",
   "metadata": {},
   "source": [
    "# indexing\n",
    "\n",
    "- 문자열의 각 문자는 개별 주소(offset)을 가짐\n",
    "\n",
    "\n",
    "- 이 주소를 사용해 할당된 값을 가져오는 것이 **인덱싱**"
   ]
  },
  {
   "cell_type": "code",
   "execution_count": 2,
   "metadata": {},
   "outputs": [
    {
     "data": {
      "text/plain": [
       "'a'"
      ]
     },
     "execution_count": 2,
     "metadata": {},
     "output_type": "execute_result"
    }
   ],
   "source": [
    "a = 'abcde'\n",
    "a[0]"
   ]
  },
  {
   "cell_type": "markdown",
   "metadata": {},
   "source": [
    "## Slicing\n",
    "\n",
    "- 문자열의 주소값을 기반으로 문자열의 부분값을 반환"
   ]
  },
  {
   "cell_type": "code",
   "execution_count": 5,
   "metadata": {},
   "outputs": [
    {
     "data": {
      "text/plain": [
       "'Artificai'"
      ]
     },
     "execution_count": 5,
     "metadata": {},
     "output_type": "execute_result"
    }
   ],
   "source": [
    "text = 'Artificaial Intelligence and Machine Learning'\n",
    "text[0:9]"
   ]
  },
  {
   "cell_type": "code",
   "execution_count": 6,
   "metadata": {},
   "outputs": [
    {
     "data": {
      "text/plain": [
       "'AtfcilItliec n ahn erig'"
      ]
     },
     "execution_count": 6,
     "metadata": {},
     "output_type": "execute_result"
    }
   ],
   "source": [
    "# 2글자 간격으로 출력\n",
    "text[::2]"
   ]
  },
  {
   "cell_type": "markdown",
   "metadata": {},
   "source": [
    "## String 연산"
   ]
  },
  {
   "cell_type": "code",
   "execution_count": 7,
   "metadata": {},
   "outputs": [
    {
     "data": {
      "text/plain": [
       "'TeamLab'"
      ]
     },
     "execution_count": 7,
     "metadata": {},
     "output_type": "execute_result"
    }
   ],
   "source": [
    "a = 'Team'\n",
    "b = 'Lab'\n",
    "\n",
    "a + b"
   ]
  },
  {
   "cell_type": "code",
   "execution_count": 10,
   "metadata": {},
   "outputs": [
    {
     "data": {
      "text/plain": [
       "'Team'"
      ]
     },
     "execution_count": 10,
     "metadata": {},
     "output_type": "execute_result"
    }
   ],
   "source": [
    "a.lower().capitalize() # 텍스트 a를 소문자로 만들었다가 대문자로"
   ]
  },
  {
   "cell_type": "code",
   "execution_count": 11,
   "metadata": {},
   "outputs": [],
   "source": [
    "title = a + ' ' + b"
   ]
  },
  {
   "cell_type": "code",
   "execution_count": 12,
   "metadata": {},
   "outputs": [
    {
     "data": {
      "text/plain": [
       "['Team', 'Lab']"
      ]
     },
     "execution_count": 12,
     "metadata": {},
     "output_type": "execute_result"
    }
   ],
   "source": [
    "# 텍스트 분리 \n",
    "title.split()"
   ]
  },
  {
   "cell_type": "code",
   "execution_count": 13,
   "metadata": {},
   "outputs": [
    {
     "data": {
      "text/plain": [
       "2"
      ]
     },
     "execution_count": 13,
     "metadata": {},
     "output_type": "execute_result"
    }
   ],
   "source": [
    "# 'a' count\n",
    "title.count('a')"
   ]
  },
  {
   "cell_type": "code",
   "execution_count": 15,
   "metadata": {},
   "outputs": [
    {
     "data": {
      "text/plain": [
       "False"
      ]
     },
     "execution_count": 15,
     "metadata": {},
     "output_type": "execute_result"
    }
   ],
   "source": [
    "# 텍스트가 t로 시작하는지\n",
    "title.startswith('t')"
   ]
  },
  {
   "cell_type": "code",
   "execution_count": 16,
   "metadata": {},
   "outputs": [
    {
     "data": {
      "text/plain": [
       "True"
      ]
     },
     "execution_count": 16,
     "metadata": {},
     "output_type": "execute_result"
    }
   ],
   "source": [
    "# 소문자로 바꾼뒤 t로 시작하는지\n",
    "title.lower().startswith('t')"
   ]
  },
  {
   "cell_type": "code",
   "execution_count": 22,
   "metadata": {},
   "outputs": [],
   "source": [
    "a = '''Happy new year this is a class'''"
   ]
  },
  {
   "cell_type": "code",
   "execution_count": 23,
   "metadata": {},
   "outputs": [
    {
     "data": {
      "text/plain": [
       "'Happy new year this is a class'"
      ]
     },
     "execution_count": 23,
     "metadata": {},
     "output_type": "execute_result"
    }
   ],
   "source": [
    "a"
   ]
  },
  {
   "cell_type": "markdown",
   "metadata": {},
   "source": [
    "#### # yesterday 노래엔 yesterday라는 말이 몇번 나올까?"
   ]
  },
  {
   "cell_type": "code",
   "execution_count": 43,
   "metadata": {},
   "outputs": [
    {
     "name": "stdout",
     "output_type": "stream",
     "text": [
      "Yesterday, all my troubles seemed so far away\n",
      "Now it looks as though they're here to stay\n",
      "Oh, I believe in yesterday\n",
      "Suddenly I'm not half the man I used to be\n",
      "There's a shadow hanging over me\n",
      "Oh, yesterday came suddenly\n",
      "Why she had to go\n",
      "I don't know, she wouldn't say\n",
      "I said something wrong\n",
      "Now I long for yesterday\n",
      "Yesterday love was such an easy game to play\n",
      "Now I need a place to hide away\n",
      "Oh, I believe in yesterday\n",
      "Why? d she have to go?\n",
      "I don't know, she wouldn't say\n",
      "I said something wrong\n",
      "Now I long for yesterday\n",
      "Yesterday love was such an easy game to play\n",
      "Now I need a place to hide away\n",
      "Oh, I believe in yesterday\n",
      "\n"
     ]
    }
   ],
   "source": [
    "f = open('yesterday.txt', 'r')\n",
    "yesterday_lyric = \"\"\n",
    "\n",
    "while 1 :\n",
    "    line = f.readline()\n",
    "    if not line :\n",
    "        break\n",
    "        \n",
    "    yesterday_lyric = yesterday_lyric + line.strip() + \"\\n\"\n",
    "f.close()\n",
    "\n",
    "print(yesterday_lyric)"
   ]
  },
  {
   "cell_type": "code",
   "execution_count": 44,
   "metadata": {},
   "outputs": [
    {
     "name": "stdout",
     "output_type": "stream",
     "text": [
      "number_of_YESTERDAY : 9\n"
     ]
    }
   ],
   "source": [
    "n_of_yesterday = yesterday_lyric.upper().count('YESTERDAY')\n",
    "print(f'number_of_YESTERDAY : {n_of_yesterday}')"
   ]
  },
  {
   "cell_type": "markdown",
   "metadata": {},
   "source": [
    "# Call by object reference"
   ]
  },
  {
   "cell_type": "markdown",
   "metadata": {},
   "source": [
    "## 함수 호출 방식 개요\n",
    "\n",
    "### 1) 값에 의한 호출(Call by Value)\n",
    "- 함수에 인자를 넘길 때 값만 넘김\n",
    "- 함수 내에 인자 값 변경 시, 호출자에게 영향을 주지 않음.\n",
    "- ex) f(5)\n",
    "\n",
    "### 2) 참조의 의한 호출(Call by Reference) \n",
    "- 함수에 인자를 넘길 때 메모리 주소를 넘김.\n",
    "- 함수 내에 인자 값 변경 시, 호출자의 값도 변경 됨\n",
    "- ex) f(x)\n",
    "\n",
    "### 3) 객체 참조에 의한 호출(Call by Object Reference)\n",
    "- 파이썬은 객체의 주소가 함수로 전달되는 방식\n",
    "- 전달된 객체를 참조하여 변경 시 호출자에게 영향을 주나, 새로운 객체를 만들 경우 호출자에게 영향을 주지 않음.\n"
   ]
  },
  {
   "cell_type": "code",
   "execution_count": 47,
   "metadata": {},
   "outputs": [
    {
     "name": "stdout",
     "output_type": "stream",
     "text": [
      "[2, 3]\n",
      "[0, 1]\n"
     ]
    }
   ],
   "source": [
    "def spam(eggs) :\n",
    "    eggs.append(1) # 기존 객체의 주소값에 [1] 추가\n",
    "    eggs = [2,3] # 새로운 객체 생성\n",
    "    print(eggs)\n",
    "    \n",
    "ham = [0]\n",
    "spam(ham)\n",
    "print(ham) # [0 , 1]"
   ]
  },
  {
   "cell_type": "markdown",
   "metadata": {},
   "source": [
    "# swap\n",
    "\n",
    "- 함수를 통해 변수 간의 값을 교환하는 함수"
   ]
  },
  {
   "cell_type": "code",
   "execution_count": 59,
   "metadata": {},
   "outputs": [],
   "source": [
    "def swap_value(x, y) :\n",
    "    temp = x\n",
    "    x = y\n",
    "    y = temp\n",
    "    \n",
    "def swap_offset(offset_x,offset_y)  :\n",
    "    temp = ex[offset_x]\n",
    "    ex[offset_x] = ex[offset_y]\n",
    "    ex[offset_y] = temp\n",
    "    \n",
    "def swap_reference(list_ex, offset_x, offset_y) :\n",
    "    temp = list_ex[offset_x]\n",
    "    list_ex[offset_x] = list_ex[offset_y]\n",
    "    list_ex[offset_y] = temp"
   ]
  },
  {
   "cell_type": "code",
   "execution_count": 60,
   "metadata": {},
   "outputs": [
    {
     "name": "stdout",
     "output_type": "stream",
     "text": [
      "[1, 2, 3, 4, 5]\n"
     ]
    }
   ],
   "source": [
    "# 그냥 값만 바뀌므로 list에 영향 없음\n",
    "ex = [1,2,3,4,5]\n",
    "swap_value(1,4)\n",
    "print(ex)"
   ]
  },
  {
   "cell_type": "code",
   "execution_count": 61,
   "metadata": {},
   "outputs": [
    {
     "name": "stdout",
     "output_type": "stream",
     "text": [
      "[1, 5, 3, 4, 2]\n"
     ]
    }
   ],
   "source": [
    "# 리스트의 값이 변하는 swap이 발생함\n",
    "# 함수 내부에서 변환\n",
    "ex = [1,2,3,4,5]\n",
    "swap_offset(1,4)\n",
    "print(ex)"
   ]
  },
  {
   "cell_type": "code",
   "execution_count": 62,
   "metadata": {},
   "outputs": [
    {
     "name": "stdout",
     "output_type": "stream",
     "text": [
      "[1, 5, 3, 4, 2]\n"
     ]
    }
   ],
   "source": [
    "# 함수 외부에서 list를 불러와 변환\n",
    "ex = [1,2,3,4,5]\n",
    "swap_reference(ex,1,4)\n",
    "print(ex)"
   ]
  },
  {
   "cell_type": "markdown",
   "metadata": {},
   "source": [
    "# function - scoping Rule\n",
    "\n",
    "- 변수가 사용되는 범위\n",
    "\n",
    "### 지역변수(local variable) \n",
    "\n",
    "- 함수내에서만 사용\n",
    "\n",
    "### 전역변수(global variable) \n",
    "\n",
    "- 프로그램전체에서 사용"
   ]
  },
  {
   "cell_type": "code",
   "execution_count": 64,
   "metadata": {},
   "outputs": [
    {
     "name": "stdout",
     "output_type": "stream",
     "text": [
      "10\n",
      "in function :  20\n"
     ]
    },
    {
     "ename": "NameError",
     "evalue": "name 't' is not defined",
     "output_type": "error",
     "traceback": [
      "\u001b[1;31m---------------------------------------------------------------------------\u001b[0m",
      "\u001b[1;31mNameError\u001b[0m                                 Traceback (most recent call last)",
      "\u001b[1;32m~\\AppData\\Local\\Temp/ipykernel_20356/2250795848.py\u001b[0m in \u001b[0;36m<module>\u001b[1;34m\u001b[0m\n\u001b[0;32m      6\u001b[0m \u001b[0mx\u001b[0m \u001b[1;33m=\u001b[0m \u001b[1;36m10\u001b[0m\u001b[1;33m\u001b[0m\u001b[1;33m\u001b[0m\u001b[0m\n\u001b[0;32m      7\u001b[0m \u001b[0mtest\u001b[0m\u001b[1;33m(\u001b[0m\u001b[0mx\u001b[0m\u001b[1;33m)\u001b[0m\u001b[1;33m\u001b[0m\u001b[1;33m\u001b[0m\u001b[0m\n\u001b[1;32m----> 8\u001b[1;33m \u001b[0mprint\u001b[0m\u001b[1;33m(\u001b[0m\u001b[0mt\u001b[0m\u001b[1;33m)\u001b[0m\u001b[1;33m\u001b[0m\u001b[1;33m\u001b[0m\u001b[0m\n\u001b[0m",
      "\u001b[1;31mNameError\u001b[0m: name 't' is not defined"
     ]
    }
   ],
   "source": [
    "# t는 함수내에서만 사용하므로 지역변수\n",
    "# x는 함수밖에서 사용하므로 전역변수\n",
    "def test(t) :\n",
    "    print(x)\n",
    "    t = 20\n",
    "    print('in function : ', t)\n",
    "    \n",
    "x = 10\n",
    "test(x)\n",
    "print(t)"
   ]
  },
  {
   "cell_type": "code",
   "execution_count": 65,
   "metadata": {},
   "outputs": [
    {
     "name": "stdout",
     "output_type": "stream",
     "text": [
      "Before : 10\n",
      "In function : 20\n",
      "after : 10\n"
     ]
    }
   ],
   "source": [
    "def test(t) :\n",
    "    t = 20\n",
    "    print(\"In function :\", t)\n",
    "\n",
    "x = 10\n",
    "print(\"Before :\", x)\n",
    "test(x) # 함수 호출\n",
    "print(\"after :\", x) # 함수 내부의 t는 새로운 주소값을 가짐"
   ]
  },
  {
   "cell_type": "markdown",
   "metadata": {},
   "source": [
    "- 전역변수는 함수에서 사용가능\n",
    "- 그러나 같은 변수 이름을 가진다고 해서 같은 값을 가지는건 아님."
   ]
  },
  {
   "cell_type": "code",
   "execution_count": 66,
   "metadata": {},
   "outputs": [
    {
     "name": "stdout",
     "output_type": "stream",
     "text": [
      "I love london\n",
      "i love paris\n"
     ]
    }
   ],
   "source": [
    "def f() :\n",
    "    s = \"I love london\"\n",
    "    print(s)\n",
    "s = 'i love paris'\n",
    "f()\n",
    "print(s)"
   ]
  },
  {
   "cell_type": "markdown",
   "metadata": {},
   "source": [
    "## 함수 내에서 전역변수 사용 시 global 키워드 사용"
   ]
  },
  {
   "cell_type": "code",
   "execution_count": 67,
   "metadata": {},
   "outputs": [
    {
     "name": "stdout",
     "output_type": "stream",
     "text": [
      "i love london\n",
      "i love london\n"
     ]
    }
   ],
   "source": [
    "def f() :\n",
    "    global s\n",
    "    s = \"i love london\"\n",
    "    print(s)\n",
    "s = \"i love paris!\"\n",
    "f()\n",
    "print(s)"
   ]
  },
  {
   "cell_type": "code",
   "execution_count": 71,
   "metadata": {},
   "outputs": [
    {
     "name": "stdout",
     "output_type": "stream",
     "text": [
      "in program - 1\n",
      "a  : 5, b : 7, a+b : 12\n",
      "in function\n",
      "a  : 5, b : 7, a+b : 12, total : 12\n",
      "after calculation\n",
      "total : 0, sum : 12\n"
     ]
    }
   ],
   "source": [
    "def calculate(x,y) :\n",
    "    total = x + y\n",
    "    print(\"in function\")\n",
    "    print(f\"a  : {str(a)}, b : {str(b)}, a+b : {str(a+b)}, total : {str(total)}\")\n",
    "    return total\n",
    "\n",
    "a = 5\n",
    "b = 7\n",
    "total = 0\n",
    "print(\"in program - 1\")\n",
    "print(f\"a  : {str(a)}, b : {str(b)}, a+b : {str(a+b)}\")\n",
    "\n",
    "sum1 = calculate(a,b)\n",
    "print('after calculation')\n",
    "print(f\"total : {str(total)}, sum : {str(sum1)}\")"
   ]
  },
  {
   "cell_type": "markdown",
   "metadata": {},
   "source": [
    "# 재귀함수 (recursive Function)\n",
    "\n",
    "- 자기자신을 호출하는 함수\n",
    "- 점화식과 같은 재귀적 수학 모형을 표현할 때 사용\n",
    "- 재귀 종료 조건 존재, 종료 조건까지 함수호출 반복"
   ]
  },
  {
   "cell_type": "code",
   "execution_count": 73,
   "metadata": {},
   "outputs": [
    {
     "name": "stdout",
     "output_type": "stream",
     "text": [
      "input number for factorial calculation : 5\n",
      "120\n"
     ]
    }
   ],
   "source": [
    "def factorial(n) :\n",
    "    if n == 1 :\n",
    "        return 1\n",
    "    \n",
    "    else :\n",
    "        return n * factorial(n-1)\n",
    "    \n",
    "print(factorial(int(input(\"input number for factorial calculation : \"))))"
   ]
  },
  {
   "cell_type": "markdown",
   "metadata": {},
   "source": [
    "# function type hints\n",
    "\n",
    "- 파이썬의 가장 큰 특징 - dynamic typing\n",
    "\n",
    "### Type hints의 장점\n",
    "- 사용자에게 인터페이스를 명확히 알려줄 수 있다.\n",
    "- 함수의 문서화시 parameter에 대한 정보를 명확히 알 수 있다."
   ]
  },
  {
   "cell_type": "code",
   "execution_count": 77,
   "metadata": {},
   "outputs": [],
   "source": [
    "def type_hint_example(name : str) -> str :\n",
    "    return f\"Hello, {name}\""
   ]
  },
  {
   "cell_type": "markdown",
   "metadata": {},
   "source": [
    "### 함수는 가능하면 짧게 작성할 것\n",
    "\n",
    "### 함수 이름에 함수의 역할, 의도가 명확히 들어낼 것"
   ]
  },
  {
   "cell_type": "code",
   "execution_count": 79,
   "metadata": {},
   "outputs": [
    {
     "data": {
      "text/plain": [
       "'Hello World'"
      ]
     },
     "execution_count": 79,
     "metadata": {},
     "output_type": "execute_result"
    }
   ],
   "source": [
    "def get_hello_world() :\n",
    "    return 'Hello World'\n",
    "\n",
    "get_hello_world()"
   ]
  },
  {
   "cell_type": "markdown",
   "metadata": {},
   "source": [
    "### 하나의 함수에는 유사한 역할을 하는 코드만 포함\n"
   ]
  }
 ],
 "metadata": {
  "kernelspec": {
   "display_name": "Python 3 (ipykernel)",
   "language": "python",
   "name": "python3"
  },
  "language_info": {
   "codemirror_mode": {
    "name": "ipython",
    "version": 3
   },
   "file_extension": ".py",
   "mimetype": "text/x-python",
   "name": "python",
   "nbconvert_exporter": "python",
   "pygments_lexer": "ipython3",
   "version": "3.8.5"
  }
 },
 "nbformat": 4,
 "nbformat_minor": 4
}
