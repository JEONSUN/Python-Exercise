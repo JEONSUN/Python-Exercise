{
 "cells": [
  {
   "cell_type": "markdown",
   "metadata": {},
   "source": [
    "# 데이터 구조 생각해보기\n",
    "\n",
    "***\n",
    "- 스택과 큐(Stack & queue with list)\n",
    "\n",
    "- 튜플과 집합(tuple & set)\n",
    "\n",
    "- 사전(dictionary)\n",
    "\n",
    "- collection 모듈"
   ]
  },
  {
   "cell_type": "markdown",
   "metadata": {},
   "source": [
    "***\n",
    "## Stack\n",
    "\n",
    "- 나중에 넣은 데이터를 먼저 반환하도록 설계된 메모리 구조\n",
    "\n",
    "- Last in First Out(LIFO)"
   ]
  },
  {
   "cell_type": "markdown",
   "metadata": {},
   "source": [
    "- 리스트를 사용하여 스택 구조를 구현 가능\n",
    "- **push를 append()**, **pop을 pop()**를 사용"
   ]
  },
  {
   "cell_type": "code",
   "execution_count": 46,
   "metadata": {},
   "outputs": [
    {
     "name": "stdout",
     "output_type": "stream",
     "text": [
      "before [1, 2, 3, 4, 5]\n",
      "append after [1, 2, 3, 4, 5, 10, 20]\n",
      "20\n",
      "10\n",
      "after [1, 2, 3, 4, 5]\n"
     ]
    }
   ],
   "source": [
    "a = [1,2,3,4,5]\n",
    "print(f'before {a}')\n",
    "a.append(10)\n",
    "a.append(20)\n",
    "print(f'append after {a}')\n",
    "print(a.pop()) # 20 pop : 출력 return이 존재하면서 a가 변환\n",
    "print(a.pop()) \n",
    "print(f'after {a}')"
   ]
  },
  {
   "cell_type": "markdown",
   "metadata": {},
   "source": [
    "#### # stack example\n",
    "- 스택 구조를 활용, 입력된 글자를 역순으로 출력"
   ]
  },
  {
   "cell_type": "code",
   "execution_count": 50,
   "metadata": {},
   "outputs": [
    {
     "name": "stdout",
     "output_type": "stream",
     "text": [
      "Input a word : naver\n",
      "r\n",
      "['n', 'a', 'v', 'e']\n",
      "e\n",
      "['n', 'a', 'v']\n",
      "v\n",
      "['n', 'a']\n",
      "a\n",
      "['n']\n",
      "n\n",
      "[]\n"
     ]
    }
   ],
   "source": [
    "word = input(\"Input a word : \")\n",
    "\n",
    "word_list = list(word)\n",
    "for _ in range(len(word_list)) :\n",
    "    print(word_list.pop())\n",
    "    print(word_list)"
   ]
  },
  {
   "cell_type": "markdown",
   "metadata": {},
   "source": [
    "***\n",
    "## 큐(Queue)\n",
    "\n",
    "- 먼저 넣은 데이터를 먼저 반환하도록 설계된 메모리 구조\n",
    "\n",
    "- First In First Out(FIFO)\n",
    "\n",
    "- Stack과 반대되는 개념"
   ]
  },
  {
   "cell_type": "markdown",
   "metadata": {},
   "source": [
    "- 파이썬은 리스트를 사용하여 큐 구조를 활용\n",
    "\n",
    "- **put를 append(), get을 pop(0)**을 사용\n"
   ]
  },
  {
   "cell_type": "code",
   "execution_count": 51,
   "metadata": {},
   "outputs": [
    {
     "name": "stdout",
     "output_type": "stream",
     "text": [
      "before [1, 2, 3, 4, 5]\n",
      "append after [1, 2, 3, 4, 5, 10, 20]\n",
      "pop after [3, 4, 5, 10, 20]\n"
     ]
    }
   ],
   "source": [
    "a = [1,2,3,4,5]\n",
    "print(f'before {a}')\n",
    "a.append(10)\n",
    "a.append(20)\n",
    "print(f'append after {a}')\n",
    "a.pop(0) # 1 출력\n",
    "a.pop(0) # 2 출력\n",
    "print(f'pop after {a}')"
   ]
  },
  {
   "cell_type": "markdown",
   "metadata": {},
   "source": [
    "## 튜플(Tuple)\n",
    "\n",
    "- 값의 변경이 불가능한 리스트\n",
    "- 선언 시 '[]'가 아닌 '()'를 사용\n",
    "- 리스트의 연산, 인덱싱, 슬라이싱 등을 동일하게 사용"
   ]
  },
  {
   "cell_type": "code",
   "execution_count": 53,
   "metadata": {},
   "outputs": [
    {
     "data": {
      "text/plain": [
       "tuple"
      ]
     },
     "execution_count": 53,
     "metadata": {},
     "output_type": "execute_result"
    }
   ],
   "source": [
    "t = (1,2,3)\n",
    "type(t)"
   ]
  },
  {
   "cell_type": "code",
   "execution_count": 56,
   "metadata": {},
   "outputs": [
    {
     "data": {
      "text/plain": [
       "(1, 2, 3)"
      ]
     },
     "execution_count": 56,
     "metadata": {},
     "output_type": "execute_result"
    }
   ],
   "source": [
    "t"
   ]
  },
  {
   "cell_type": "code",
   "execution_count": 55,
   "metadata": {},
   "outputs": [
    {
     "name": "stdout",
     "output_type": "stream",
     "text": [
      "(1, 2, 3, 1, 2, 3) (1, 2, 3, 1, 2, 3)\n"
     ]
    }
   ],
   "source": [
    "# 연산은 가능하다.\n",
    "print(t+t, t*2)"
   ]
  },
  {
   "cell_type": "code",
   "execution_count": 57,
   "metadata": {},
   "outputs": [
    {
     "data": {
      "text/plain": [
       "3"
      ]
     },
     "execution_count": 57,
     "metadata": {},
     "output_type": "execute_result"
    }
   ],
   "source": [
    "len(t)"
   ]
  },
  {
   "cell_type": "markdown",
   "metadata": {},
   "source": [
    "#### 값을 변경할 수 없다."
   ]
  },
  {
   "cell_type": "code",
   "execution_count": 58,
   "metadata": {},
   "outputs": [
    {
     "ename": "TypeError",
     "evalue": "'tuple' object does not support item assignment",
     "output_type": "error",
     "traceback": [
      "\u001b[1;31m---------------------------------------------------------------------------\u001b[0m",
      "\u001b[1;31mTypeError\u001b[0m                                 Traceback (most recent call last)",
      "\u001b[1;32m~\\AppData\\Local\\Temp/ipykernel_10296/4226112467.py\u001b[0m in \u001b[0;36m<module>\u001b[1;34m\u001b[0m\n\u001b[1;32m----> 1\u001b[1;33m \u001b[0mt\u001b[0m\u001b[1;33m[\u001b[0m\u001b[1;36m1\u001b[0m\u001b[1;33m]\u001b[0m \u001b[1;33m=\u001b[0m \u001b[1;36m5\u001b[0m\u001b[1;33m\u001b[0m\u001b[1;33m\u001b[0m\u001b[0m\n\u001b[0m",
      "\u001b[1;31mTypeError\u001b[0m: 'tuple' object does not support item assignment"
     ]
    }
   ],
   "source": [
    "t[1] = 5"
   ]
  },
  {
   "cell_type": "markdown",
   "metadata": {},
   "source": [
    "### 튜플 왜쓸까?\n",
    "\n",
    "- 프로그램을 작동하는 동안 변경되지 않은 데이터의 저장\n",
    "Ex) 학번, 이름, 우편번호 등등\n",
    "- 함수의 반환 값등 사용자의 실수에 의한 에러를 사전에 방지"
   ]
  },
  {
   "cell_type": "code",
   "execution_count": 64,
   "metadata": {},
   "outputs": [
    {
     "data": {
      "text/plain": [
       "(1,)"
      ]
     },
     "execution_count": 64,
     "metadata": {},
     "output_type": "execute_result"
    }
   ],
   "source": [
    "t = (1) # 일반 정수로 인식\n",
    "t = (1,) # 값이 하나인 tuple은 반드시 ','를 붙여야 함\n",
    "t"
   ]
  },
  {
   "cell_type": "markdown",
   "metadata": {},
   "source": [
    "## 집합 (set)\n",
    "\n",
    "- 값을 순서없이 저장, 중복 불허 하는 자료형\n",
    "- set 객체 선언을 이용하여 객체 생성"
   ]
  },
  {
   "cell_type": "code",
   "execution_count": 66,
   "metadata": {},
   "outputs": [
    {
     "name": "stdout",
     "output_type": "stream",
     "text": [
      "{1, 2, 3}\n",
      "{1, 2, 3}\n",
      "{2, 3}\n"
     ]
    }
   ],
   "source": [
    "s = set([1,2,3,1,2,3]) # set 함수를 사용 1,2,3을 집합 객체 생성, a = {1,2,3,4,5}도 가능\n",
    "print(s)\n",
    "s.add(1) # 한 원소 1만 추가, -> 중복 불허로 추가 x\n",
    "print(s)\n",
    "s.remove(1) # 1 삭제\n",
    "print(s)"
   ]
  },
  {
   "cell_type": "code",
   "execution_count": 68,
   "metadata": {},
   "outputs": [
    {
     "name": "stdout",
     "output_type": "stream",
     "text": [
      "{1, 2, 4, 5, 6, 7}\n",
      "{1, 2, 4, 5, 6, 7}\n",
      "set()\n"
     ]
    }
   ],
   "source": [
    "s.update([1,4,5,6,7]) # [1,4,5,6,7] 추가\n",
    "print(s)\n",
    "s.discard(3) # 3삭제\n",
    "print(s)\n",
    "s.clear() # s 원소 제거\n",
    "print(s)"
   ]
  },
  {
   "cell_type": "markdown",
   "metadata": {},
   "source": [
    "### 집합의 연산"
   ]
  },
  {
   "cell_type": "code",
   "execution_count": 69,
   "metadata": {},
   "outputs": [
    {
     "data": {
      "text/plain": [
       "{1, 2, 3, 4, 5, 6, 7}"
      ]
     },
     "execution_count": 69,
     "metadata": {},
     "output_type": "execute_result"
    }
   ],
   "source": [
    "# 합집합\n",
    "s1 = set([1,2,3,4,5])\n",
    "s2 = set([3,4,5,6,7])\n",
    "s1.union(s2)"
   ]
  },
  {
   "cell_type": "code",
   "execution_count": 70,
   "metadata": {},
   "outputs": [
    {
     "data": {
      "text/plain": [
       "{1, 2, 3, 4, 5, 6, 7}"
      ]
     },
     "execution_count": 70,
     "metadata": {},
     "output_type": "execute_result"
    }
   ],
   "source": [
    "# 합집합\n",
    "s1|s2"
   ]
  },
  {
   "cell_type": "code",
   "execution_count": 71,
   "metadata": {},
   "outputs": [
    {
     "data": {
      "text/plain": [
       "{3, 4, 5}"
      ]
     },
     "execution_count": 71,
     "metadata": {},
     "output_type": "execute_result"
    }
   ],
   "source": [
    "# 교집합\n",
    "s1.intersection(s2)"
   ]
  },
  {
   "cell_type": "code",
   "execution_count": 72,
   "metadata": {},
   "outputs": [
    {
     "data": {
      "text/plain": [
       "{3, 4, 5}"
      ]
     },
     "execution_count": 72,
     "metadata": {},
     "output_type": "execute_result"
    }
   ],
   "source": [
    "s1 & s2 # 교집합"
   ]
  },
  {
   "cell_type": "code",
   "execution_count": 73,
   "metadata": {},
   "outputs": [
    {
     "data": {
      "text/plain": [
       "{1, 2}"
      ]
     },
     "execution_count": 73,
     "metadata": {},
     "output_type": "execute_result"
    }
   ],
   "source": [
    "s1.difference(s2) # s1과 s2의 차집합"
   ]
  },
  {
   "cell_type": "code",
   "execution_count": 74,
   "metadata": {},
   "outputs": [
    {
     "data": {
      "text/plain": [
       "{1, 2}"
      ]
     },
     "execution_count": 74,
     "metadata": {},
     "output_type": "execute_result"
    }
   ],
   "source": [
    "s1 - s2"
   ]
  },
  {
   "cell_type": "markdown",
   "metadata": {},
   "source": [
    "## 사전(Dictionary)"
   ]
  },
  {
   "cell_type": "markdown",
   "metadata": {},
   "source": [
    "- **데이터를 저장 할 때는 구분 지을 수 있는 값을 함께 저장**<br>\n",
    "ex) 주민등록 번호, 제품 모델 번호\n",
    "\n",
    "- 구분을 위한 데이터 고유 값을 **Identifier** 또는 **Key**라고함\n",
    "\n",
    "- Key 값을 활용하여, **데이터 값(Value)**를 관리함\n",
    "\n",
    "***\n",
    "- key와 value를 매칭하여 key로 value를 검색\n",
    "- 다른 언어에서는 Hash Table이라는 용어를 사용\n",
    "- {key1 : value1, key2: value2, key3 : value3. ..} 형태"
   ]
  },
  {
   "cell_type": "code",
   "execution_count": 76,
   "metadata": {},
   "outputs": [
    {
     "data": {
      "text/plain": [
       "{201552043: '태양', 201552001: '승우'}"
      ]
     },
     "execution_count": 76,
     "metadata": {},
     "output_type": "execute_result"
    }
   ],
   "source": [
    "student_info = {201552043 : '태양', \n",
    "               201552001 : '승우'}\n",
    "student_info"
   ]
  },
  {
   "cell_type": "code",
   "execution_count": 77,
   "metadata": {},
   "outputs": [
    {
     "data": {
      "text/plain": [
       "dict_items([(201552043, '태양'), (201552001, '승우')])"
      ]
     },
     "execution_count": 77,
     "metadata": {},
     "output_type": "execute_result"
    }
   ],
   "source": [
    "student_info.items() # dict 데이터 출력"
   ]
  },
  {
   "cell_type": "code",
   "execution_count": 78,
   "metadata": {},
   "outputs": [
    {
     "data": {
      "text/plain": [
       "dict_keys([201552043, 201552001])"
      ]
     },
     "execution_count": 78,
     "metadata": {},
     "output_type": "execute_result"
    }
   ],
   "source": [
    "student_info.keys() # dict 키만 출력"
   ]
  },
  {
   "cell_type": "code",
   "execution_count": 79,
   "metadata": {},
   "outputs": [
    {
     "data": {
      "text/plain": [
       "dict_values(['태양', '승우'])"
      ]
     },
     "execution_count": 79,
     "metadata": {},
     "output_type": "execute_result"
    }
   ],
   "source": [
    "student_info.values() # value만 출력"
   ]
  },
  {
   "cell_type": "code",
   "execution_count": 81,
   "metadata": {},
   "outputs": [
    {
     "data": {
      "text/plain": [
       "{201552043: '태양', 201552001: '승우', '201422222': '다른 학번 학생'}"
      ]
     },
     "execution_count": 81,
     "metadata": {},
     "output_type": "execute_result"
    }
   ],
   "source": [
    "# 새로운 키값\n",
    "student_info['201422222'] = '다른 학번 학생'\n",
    "student_info"
   ]
  },
  {
   "cell_type": "code",
   "execution_count": 82,
   "metadata": {},
   "outputs": [
    {
     "name": "stdout",
     "output_type": "stream",
     "text": [
      "key : 201552043\n",
      "value : 태양\n",
      "key : 201552001\n",
      "value : 승우\n",
      "key : 201422222\n",
      "value : 다른 학번 학생\n"
     ]
    }
   ],
   "source": [
    "for k,v in student_info.items() :\n",
    "    print(\"key :\", k)\n",
    "    print(\"value :\",v)"
   ]
  },
  {
   "cell_type": "code",
   "execution_count": 83,
   "metadata": {},
   "outputs": [
    {
     "data": {
      "text/plain": [
       "True"
      ]
     },
     "execution_count": 83,
     "metadata": {},
     "output_type": "execute_result"
    }
   ],
   "source": [
    "# 특정값이 key값에 있는지 확인\n",
    "201552043 in student_info.keys()"
   ]
  },
  {
   "cell_type": "markdown",
   "metadata": {},
   "source": [
    "## Lab - Dict"
   ]
  },
  {
   "cell_type": "code",
   "execution_count": 84,
   "metadata": {},
   "outputs": [
    {
     "name": "stdout",
     "output_type": "stream",
     "text": [
      "[['id', 1], ['source', 1], ['tiana', 167], ['white_rabbit', 237], ['flo', 324], ['chum', 311], ['rocket_raccoon', 473], ['faline', 3115], ['kristoff', 4934], ['tinker_bell', 696], ['crush', 231], ['flik', 424], ['claire_wheeler', 2777], ['meg', 3098], ['fillmore', 7394], ['tarzan', 4193], ['bomb_voyage', 337], ['prince_naveen', 425], ['disgust', 305], ['bo_peep', 407], ['francis', 5978], ['aladdin', 402], ['eve', 239], ['bookworm', 8500], ['cheshire_cat', 200], ['anna', 304], ['emperor_zurg', 4470], ['the_dodo', 1364], ['finn_mcmissile', 319], ['barricade', 5], ['fear', 2968], ['marlon_the_alligator', 3203], ['don_carlton', 2773], ['alice', 123], ['carrie_williams', 223], ['boo', 304], ['bing_bong', 311], ['charlie', 363], ['snow_white', 115], ['elsa', 7500], ['emile', 168], ['django', 371], ['fred', 244], ['bambi', 275], ['fa_zhou', 299], ['fritz', 94], ['duke_of_weselton', 264], ['nani_pelekai', 319], ['the_magic_mirror', 116], ['mulan', 188], ['thor', 98], ['flynn_rider', 1996], ['lilo_pelekai', 190], ['anton_ego', 5819], ['queen_grimhilde', 5000], ['tiger_lily', 1846], ['mungo', 237], ['tigger', 884], ['guido', 2541], ['stitch', 3742], ['mama_odie', 1883], ['shell_history', 60], ['flora', 247], ['chick_hicks', 1678], ['francesco_bernoulli', 292], ['darla_sherman', 1861], ['brent_mustangburger', 4838], ['charlotte_la_bouff', 472], ['riley_anderson', 330], ['joy', 258], ['sadness', 133], ['prince_hans', 275], ['chatter_telephone', 372], ['rapunzel', 219], ['peter_pig', 500], ['dory', 410], ['jane_porter', 852], ['chunk', 126], ['louis_the_alligator', 1374], ['brock_pearson', 242], ['coral', 186], ['darrell_cartrip', 146], ['maximus', 172], ['ray_the_firefly', 998], ['bumblebee', 260], ['kocoum', 438], ['al_mcwhiggin', 777], ['auguste_gusteau', 153], ['auto', 458], ['roo', 2782], ['roger_rabbit', 211], ['captain_hook', 403], ['collette_tatou', 206], ['eudora', 191], ['storm', 19], ['dim', 240], ['dolly', 254], ['aurora', 267], ['pocahontas', 312], ['genie', 61], ['splunk_teamlab', 115], ['pascal', 224], ['peter_pan', 463], ['merryweather', 219], ['wendy_darling', 218], ['nakoma', 133], ['hadoop_teamlab', 53], ['abominable_snowman', 1], ['silver_surfer', 1], ['sven', 1], ['clayton', 1], ['tootles', 1], ['bullseye', 1], ['acer', 1], ['oaken', 1], ['alfredo_linguini', 1]]\n",
      "[['bookworm', 8500], ['elsa', 7500], ['fillmore', 7394], ['francis', 5978], ['anton_ego', 5819], ['queen_grimhilde', 5000], ['kristoff', 4934], ['brent_mustangburger', 4838], ['emperor_zurg', 4470], ['tarzan', 4193], ['stitch', 3742], ['marlon_the_alligator', 3203], ['faline', 3115], ['meg', 3098], ['fear', 2968], ['roo', 2782], ['claire_wheeler', 2777], ['don_carlton', 2773], ['guido', 2541], ['flynn_rider', 1996], ['mama_odie', 1883], ['darla_sherman', 1861], ['tiger_lily', 1846], ['chick_hicks', 1678], ['louis_the_alligator', 1374], ['the_dodo', 1364], ['ray_the_firefly', 998], ['tigger', 884], ['jane_porter', 852], ['al_mcwhiggin', 777], ['tinker_bell', 696], ['peter_pig', 500], ['rocket_raccoon', 473], ['charlotte_la_bouff', 472], ['peter_pan', 463], ['auto', 458], ['kocoum', 438], ['prince_naveen', 425], ['flik', 424], ['dory', 410], ['bo_peep', 407], ['captain_hook', 403], ['aladdin', 402], ['chatter_telephone', 372], ['django', 371], ['charlie', 363], ['bomb_voyage', 337], ['riley_anderson', 330], ['flo', 324], ['finn_mcmissile', 319], ['nani_pelekai', 319], ['pocahontas', 312], ['chum', 311], ['bing_bong', 311], ['disgust', 305], ['anna', 304], ['boo', 304], ['fa_zhou', 299], ['francesco_bernoulli', 292], ['bambi', 275], ['prince_hans', 275], ['aurora', 267], ['duke_of_weselton', 264], ['bumblebee', 260], ['joy', 258], ['dolly', 254], ['flora', 247], ['fred', 244], ['brock_pearson', 242], ['dim', 240], ['eve', 239], ['white_rabbit', 237], ['mungo', 237], ['crush', 231], ['pascal', 224], ['carrie_williams', 223], ['rapunzel', 219], ['merryweather', 219], ['wendy_darling', 218], ['roger_rabbit', 211], ['collette_tatou', 206], ['cheshire_cat', 200], ['eudora', 191], ['lilo_pelekai', 190], ['mulan', 188], ['coral', 186], ['maximus', 172], ['emile', 168], ['tiana', 167], ['auguste_gusteau', 153], ['darrell_cartrip', 146], ['sadness', 133], ['nakoma', 133], ['chunk', 126], ['alice', 123], ['the_magic_mirror', 116], ['snow_white', 115], ['splunk_teamlab', 115], ['thor', 98], ['fritz', 94]]\n"
     ]
    }
   ],
   "source": [
    "import csv\n",
    "\n",
    "def getKey(item) : # 정렬을 위한 함수\n",
    "    return item[1]\n",
    "\n",
    "command_data = [] # 파일 읽어오기\n",
    "with open('D:\\Portfolio\\Python Exercise\\Python Basic\\command_data.csv','r', encoding = 'utf8') as csvfile :\n",
    "    spamreader = csv.reader(csvfile, delimiter = ',', quotechar = '\"')\n",
    "    for row in spamreader :\n",
    "        command_data.append(row)\n",
    "\n",
    "command_counter = {} # dict 생성\n",
    "for data in command_data : # list 데이터를 dict로 변경\n",
    "    if data[1] in command_counter.keys() :\n",
    "        command_counter[data[1]] += 1 # 기존 출현한 아이디\n",
    "    else :\n",
    "        command_counter[data[1]] = 1 # 처음 출현한 아이디\n",
    "\n",
    "dictlist = [] # dict를 리스트로 변경\n",
    "for key, value in command_counter.items() :\n",
    "    temp = [key, value]\n",
    "    dictlist.append(temp)\n",
    "\n",
    "print(dictlist)\n",
    "sorted_dict = sorted(dictlist, key = getKey, reverse = True) # 위에서 정의한 getkey 함수를 사용 # list를 입력 줄 수로 정렬\n",
    "print(sorted_dict[:100]) # list의 상위 100개의 값만 출력"
   ]
  },
  {
   "cell_type": "markdown",
   "metadata": {},
   "source": [
    "***\n",
    "# Collections\n",
    "\n",
    "- List, Tuple, Dict에 대한 Python Built-in 확장 자료 구조\n",
    "\n",
    "- 편의성, 실행 효율 등을 사용자에게 제공\n"
   ]
  },
  {
   "cell_type": "markdown",
   "metadata": {},
   "source": [
    "## deque\n",
    "\n",
    "- Stack과 Queue를 지원하는 모듈\n",
    "\n",
    "- List에 비해 효율적인 = 빠른 자료 저장 방식을 지원"
   ]
  },
  {
   "cell_type": "code",
   "execution_count": 92,
   "metadata": {},
   "outputs": [
    {
     "name": "stdout",
     "output_type": "stream",
     "text": [
      "deque([0, 1, 2, 3, 4])\n",
      "deque([10, 0, 1, 2, 3, 4])\n"
     ]
    }
   ],
   "source": [
    "from collections import deque\n",
    "\n",
    "deque_list = deque()\n",
    "for i in range(5) :\n",
    "    deque_list.append(i)\n",
    "print(deque_list)\n",
    "deque_list.appendleft(10) # 리스트 왼쪽에 10 append\n",
    "print(deque_list)"
   ]
  },
  {
   "cell_type": "markdown",
   "metadata": {},
   "source": [
    "- rotate, reverse 등 Linked List의 특성을 지원함"
   ]
  },
  {
   "cell_type": "code",
   "execution_count": 93,
   "metadata": {},
   "outputs": [
    {
     "data": {
      "text/plain": [
       "deque([10, 0, 1, 2, 3, 4, 5, 6, 7])"
      ]
     },
     "execution_count": 93,
     "metadata": {},
     "output_type": "execute_result"
    }
   ],
   "source": [
    "deque_list.extend([5,6,7])\n",
    "deque_list"
   ]
  },
  {
   "cell_type": "code",
   "execution_count": 95,
   "metadata": {},
   "outputs": [
    {
     "data": {
      "text/plain": [
       "deque([5, 6, 7, 10, 0, 1, 2, 3, 4])"
      ]
     },
     "execution_count": 95,
     "metadata": {},
     "output_type": "execute_result"
    }
   ],
   "source": [
    "# rotate\n",
    "deque_list.rotate(2)\n",
    "deque_list"
   ]
  },
  {
   "cell_type": "markdown",
   "metadata": {},
   "source": [
    "#### deque의 속도가 더 빠름"
   ]
  },
  {
   "cell_type": "code",
   "execution_count": 96,
   "metadata": {},
   "outputs": [
    {
     "name": "stdout",
     "output_type": "stream",
     "text": [
      "3.81 ms ± 197 µs per loop (mean ± std. dev. of 7 runs, 100 loops each)\n"
     ]
    }
   ],
   "source": [
    "def general_list() :\n",
    "    just_list= []\n",
    "    for i in range(100) :\n",
    "        for j in range(100) :\n",
    "            just_list.append(i)\n",
    "            just_list.pop()\n",
    "            \n",
    "%timeit general_list()"
   ]
  },
  {
   "cell_type": "code",
   "execution_count": 97,
   "metadata": {},
   "outputs": [
    {
     "name": "stdout",
     "output_type": "stream",
     "text": [
      "1.47 ms ± 167 µs per loop (mean ± std. dev. of 7 runs, 1000 loops each)\n"
     ]
    }
   ],
   "source": [
    "def deque_list() :\n",
    "    deque_list = deque()\n",
    "    \n",
    "    for i in range(100) :\n",
    "        for i in range(100) :\n",
    "            deque_list.append(i)\n",
    "            deque_list.pop()\n",
    "%timeit deque_list()"
   ]
  },
  {
   "cell_type": "markdown",
   "metadata": {},
   "source": [
    "## defaultdict\n",
    "\n",
    "- Dict type의 값에 기본 값을 지정, 신규값 생성시 사용하는 방법"
   ]
  },
  {
   "cell_type": "code",
   "execution_count": 98,
   "metadata": {},
   "outputs": [
    {
     "ename": "KeyError",
     "evalue": "'first'",
     "output_type": "error",
     "traceback": [
      "\u001b[1;31m---------------------------------------------------------------------------\u001b[0m",
      "\u001b[1;31mKeyError\u001b[0m                                  Traceback (most recent call last)",
      "\u001b[1;32m~\\AppData\\Local\\Temp/ipykernel_10296/3753088446.py\u001b[0m in \u001b[0;36m<module>\u001b[1;34m\u001b[0m\n\u001b[0;32m      1\u001b[0m \u001b[0md\u001b[0m \u001b[1;33m=\u001b[0m \u001b[0mdict\u001b[0m\u001b[1;33m(\u001b[0m\u001b[1;33m)\u001b[0m\u001b[1;33m\u001b[0m\u001b[1;33m\u001b[0m\u001b[0m\n\u001b[1;32m----> 2\u001b[1;33m \u001b[0mprint\u001b[0m\u001b[1;33m(\u001b[0m\u001b[0md\u001b[0m\u001b[1;33m[\u001b[0m\u001b[1;34m'first'\u001b[0m\u001b[1;33m]\u001b[0m\u001b[1;33m)\u001b[0m\u001b[1;33m\u001b[0m\u001b[1;33m\u001b[0m\u001b[0m\n\u001b[0m",
      "\u001b[1;31mKeyError\u001b[0m: 'first'"
     ]
    }
   ],
   "source": [
    "# 키 에러 발생\n",
    "d = dict()\n",
    "print(d['first'])"
   ]
  },
  {
   "cell_type": "code",
   "execution_count": 99,
   "metadata": {},
   "outputs": [],
   "source": [
    "# default dict에 들어갈 value\n",
    "def default_value() :\n",
    "    return 10"
   ]
  },
  {
   "cell_type": "code",
   "execution_count": 102,
   "metadata": {},
   "outputs": [
    {
     "data": {
      "text/plain": [
       "10"
      ]
     },
     "execution_count": 102,
     "metadata": {},
     "output_type": "execute_result"
    }
   ],
   "source": [
    "from collections import defaultdict\n",
    "d = defaultdict(object) # defaultdict 생성\n",
    "d = defaultdict(default_value) # 초기값 입력\n",
    "\n",
    "# 아무 키나 입력해도 값이 나온다!\n",
    "d['first']"
   ]
  },
  {
   "cell_type": "markdown",
   "metadata": {},
   "source": [
    "defaultdict는 단어 개수를 셀 때 유용하게 쓸 수 있다."
   ]
  },
  {
   "cell_type": "code",
   "execution_count": 107,
   "metadata": {},
   "outputs": [],
   "source": [
    "text = \"\"\"Yesterday, all my troubles seemed so far away\n",
    "Now it looks as though they're here to stay\n",
    "Oh, I believe in yesterday\n",
    "Suddenly I'm not half the man I used to be\n",
    "There's a shadow hanging over me\n",
    "Oh, yesterday came suddenly\n",
    "Why she had to go\n",
    "I don't know, she wouldn't say\n",
    "I said something wrong\n",
    "Now I long for yesterday\n",
    "Yesterday love was such an easy game to play\n",
    "Now I need a place to hide away\n",
    "Oh, I believe in yesterday\n",
    "Why? d she have to go?\n",
    "I don't know, she wouldn't say\n",
    "I said something wrong\n",
    "Now I long for yesterday\n",
    "Yesterday love was such an easy game to play\n",
    "Now I need a place to hide away\n",
    "Oh, I believe in yesterday\"\"\""
   ]
  },
  {
   "cell_type": "code",
   "execution_count": 108,
   "metadata": {},
   "outputs": [],
   "source": [
    "# 텍스트 분리하여 count\n",
    "for word in text.split() :\n",
    "    d[word] += 1"
   ]
  },
  {
   "cell_type": "code",
   "execution_count": 109,
   "metadata": {},
   "outputs": [
    {
     "data": {
      "text/plain": [
       "defaultdict(<function __main__.default_value()>,\n",
       "            {'first': 10,\n",
       "             'Yesterday,': 11,\n",
       "             'all': 11,\n",
       "             'my': 11,\n",
       "             'troubles': 11,\n",
       "             'seemed': 11,\n",
       "             'so': 11,\n",
       "             'far': 11,\n",
       "             'away': 13,\n",
       "             'Now': 15,\n",
       "             'it': 11,\n",
       "             'looks': 11,\n",
       "             'as': 11,\n",
       "             'though': 11,\n",
       "             \"they're\": 11,\n",
       "             'here': 11,\n",
       "             'to': 18,\n",
       "             'stay': 11,\n",
       "             'Oh,': 14,\n",
       "             'I': 22,\n",
       "             'believe': 13,\n",
       "             'in': 13,\n",
       "             'yesterday': 16,\n",
       "             'Suddenly': 11,\n",
       "             \"I'm\": 11,\n",
       "             'not': 11,\n",
       "             'half': 11,\n",
       "             'the': 11,\n",
       "             'man': 11,\n",
       "             'used': 11,\n",
       "             'be': 11,\n",
       "             \"There's\": 11,\n",
       "             'a': 13,\n",
       "             'shadow': 11,\n",
       "             'hanging': 11,\n",
       "             'over': 11,\n",
       "             'me': 11,\n",
       "             'came': 11,\n",
       "             'suddenly': 11,\n",
       "             'Why': 11,\n",
       "             'she': 14,\n",
       "             'had': 11,\n",
       "             'go': 11,\n",
       "             \"don't\": 12,\n",
       "             'know,': 12,\n",
       "             \"wouldn't\": 12,\n",
       "             'say': 12,\n",
       "             'said': 12,\n",
       "             'something': 12,\n",
       "             'wrong': 12,\n",
       "             'long': 12,\n",
       "             'for': 12,\n",
       "             'Yesterday': 12,\n",
       "             'love': 12,\n",
       "             'was': 12,\n",
       "             'such': 12,\n",
       "             'an': 12,\n",
       "             'easy': 12,\n",
       "             'game': 12,\n",
       "             'play': 12,\n",
       "             'need': 12,\n",
       "             'place': 12,\n",
       "             'hide': 12,\n",
       "             'Why?': 11,\n",
       "             'd': 11,\n",
       "             'have': 11,\n",
       "             'go?': 11})"
      ]
     },
     "execution_count": 109,
     "metadata": {},
     "output_type": "execute_result"
    }
   ],
   "source": [
    "d"
   ]
  },
  {
   "cell_type": "markdown",
   "metadata": {},
   "source": [
    "## Counter\n",
    "\n",
    "- sequence type의 data element들의 갯수를 dict 형태로 반환"
   ]
  },
  {
   "cell_type": "code",
   "execution_count": 112,
   "metadata": {},
   "outputs": [
    {
     "name": "stdout",
     "output_type": "stream",
     "text": [
      "Counter({'b': 3, 's': 3})\n"
     ]
    }
   ],
   "source": [
    "from collections import Counter\n",
    "\n",
    "ball_or_strike = ['b','b','s','s','b','s']\n",
    "c = Counter() # 빈 카운터\n",
    "c = Counter(ball_or_strike) # 개수 세기\n",
    "print(c)"
   ]
  },
  {
   "cell_type": "markdown",
   "metadata": {},
   "source": [
    "#### set의 연산을 지원함"
   ]
  },
  {
   "cell_type": "code",
   "execution_count": 118,
   "metadata": {},
   "outputs": [
    {
     "name": "stdout",
     "output_type": "stream",
     "text": [
      "Counter({'a': 4, 'b': 2, 'c': 0, 'd': -2})\n",
      "Counter({'d': 4, 'c': 3, 'b': 2, 'a': 1})\n"
     ]
    }
   ],
   "source": [
    "c = Counter(a = 4, b= 2 ,c = 0, d = -2)\n",
    "d = Counter(a = 1, b = 2, c= 3, d= 4)\n",
    "print(c)\n",
    "print(d)"
   ]
  },
  {
   "cell_type": "code",
   "execution_count": 119,
   "metadata": {},
   "outputs": [
    {
     "name": "stdout",
     "output_type": "stream",
     "text": [
      "Counter({'a': 5, 'b': 4, 'c': 3, 'd': 2})\n",
      "Counter({'b': 2, 'a': 1})\n",
      "Counter({'a': 4, 'd': 4, 'c': 3, 'b': 2})\n"
     ]
    }
   ],
   "source": [
    "print(c + d)\n",
    "print(c & d)\n",
    "print(c | d)"
   ]
  }
 ],
 "metadata": {
  "kernelspec": {
   "display_name": "Python 3 (ipykernel)",
   "language": "python",
   "name": "python3"
  },
  "language_info": {
   "codemirror_mode": {
    "name": "ipython",
    "version": 3
   },
   "file_extension": ".py",
   "mimetype": "text/x-python",
   "name": "python",
   "nbconvert_exporter": "python",
   "pygments_lexer": "ipython3",
   "version": "3.8.5"
  }
 },
 "nbformat": 4,
 "nbformat_minor": 4
}
