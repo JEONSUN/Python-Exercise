{
 "cells": [
  {
   "cell_type": "markdown",
   "metadata": {},
   "source": [
    "## selenium"
   ]
  },
  {
   "cell_type": "code",
   "execution_count": 7,
   "metadata": {},
   "outputs": [],
   "source": [
    "from selenium import webdriver\n",
    "from selenium.common.exceptions import NoSuchElementException\n",
    "import pandas as pd"
   ]
  },
  {
   "cell_type": "code",
   "execution_count": 2,
   "metadata": {},
   "outputs": [],
   "source": [
    "chrome_options = webdriver.ChromeOptions()\n",
    "chrome_options.add_argument('--headless')\n",
    "chrome_options.add_argument('--no-sandbox')\n",
    "chrome_options.add_argument('--disable-dev-shm-usage')\n"
   ]
  },
  {
   "cell_type": "markdown",
   "metadata": {},
   "source": [
    "## news_scraping"
   ]
  },
  {
   "cell_type": "code",
   "execution_count": 3,
   "metadata": {},
   "outputs": [],
   "source": [
    "def news_scraping(news_url, wd) :\n",
    "    press = wd.find_element_by_xpath('//*[@id=\"main_content\"]/div[1]/div[1]/a/img').get_attribute('title')\n",
    "    title = wd.find_element_by_id('articleTitle').text\n",
    "    date = wd.find_element_by_class_name('t11').text\n",
    "    article = wd.find_element_by_id('articleBodyContents').text\n",
    "    article = article.replace('// flash 오류를 우회하기 위한 함수 추가',\"\")\n",
    "    article = article.replace('function _flash_removeCallback() {}',\"\")\n",
    "    good = wd.find_element_by_xpath('//*[@id=\"spiLayer\"]/div[1]/ul/li[1]/a/span[2]').text\n",
    "    warm = wd.find_element_by_xpath('//*[@id=\"spiLayer\"]/div[1]/ul/li[2]/a/span[2]').text\n",
    "    sad = wd.find_element_by_xpath('//*[@id=\"spiLayer\"]/div[1]/ul/li[3]/a/span[2]').text\n",
    "    angry = wd.find_element_by_xpath('//*[@id=\"spiLayer\"]/div[1]/ul/li[4]/a/span[2]').text\n",
    "    want = wd.find_element_by_xpath('//*[@id=\"spiLayer\"]/div[1]/ul/li[5]/a/span[2]').text\n",
    "    print(\"뉴스 :\",[title, press, date, article, good,warm,sad,angry,want])\n",
    "    return[title, press, date, article, good,warm,sad,angry,want]"
   ]
  },
  {
   "cell_type": "code",
   "execution_count": 4,
   "metadata": {},
   "outputs": [],
   "source": [
    "def scraping(url) :\n",
    "    wd = webdriver.Chrome('chromedriver', options = chrome_options)\n",
    "    wd.implicitly_wait(3)\n",
    "    news_idx = 0\n",
    "    news_df = pd.DataFrame(columns = (\"Title\",'Press','date','article','good','warm','sad','angry','want'))\n",
    "    \n",
    "    news_url = url\n",
    "    wd.get(news_url)\n",
    "    news_df.loc[news_idx] =  news_scraping(news_url,wd)\n",
    "    news_idx += 1\n",
    "    \n",
    "    wd.close()\n",
    "    \n",
    "    return news_df"
   ]
  },
  {
   "cell_type": "code",
   "execution_count": 8,
   "metadata": {},
   "outputs": [
    {
     "name": "stdout",
     "output_type": "stream",
     "text": [
      "뉴스 : ['버스 타면 공짜데이터 콸콸콸…정부, 전국 버스에 와이파이 구축(종합)', '뉴스1', '2020.12.14. 오후 1:55', '최기영 장관 \"디지털 시대에 어디서나 인터넷 이용하는 게 중요\"\\n조정식 의원 \"여당 1호 공약…국회 차원 지원 아끼지 않을 것\"\\n14일 오전 서울 영등포구 여의도버스환승센터에서 열린 \\'버스 와이파이 전국 구축 성과보고회\\' 에 참석한 (왼쪽부터) 최기영 과학기술정보통신부 장관, 조정식 국회의원, 조승래 국회의원 (과학기술정보통신부 제공) 2020.12.14/뉴스1\\n\\n(서울=뉴스1) 김승준 기자 = 앞으로 전국 어느 시내버스에서나 무료 와이파이를 이용할 수 있게 됐다. 정부가 지난 2018년 서울 시범사업을 필두로 이날까지 전국 시내버스 전체 노선 총 3만5006대에 공공와이파이 구축을 완료한 덕이다.\\n\\n14일 오전 서울 영등포구 여의도환승센터 4번 승강장에서 \\'버스 Wi-Fi(와이파이) 전국 구축 성과 보고회\\'가 열렸다.\\n\\n2018년부터 추진된 전국 시내버스 공공와이파이 구축이 완료된 것을 기념한 이날 행사에는 과학기술정보방송통신위원회 소속 조승래 더불어민주당 간사, 조정식 더불어민주당 위원, 최기영 과학기술정보통신부 장관, 문용식 한국지능정보화사회진흥원(NIA) 원장 등이 참석했다.\\n\\n최 장관은 \"고가 요금제를 사용하기 어려운 국민들의 통신비 부담을 덜게 돼서 기쁘게 생각한다\"며 \"디지털 시대에 어디서나 언제나 인터넷에 연결해서 이용하는 게 중요하다. 무료 와이파이 시내버스 구축으로 버스로 이동하면서도 비용 걱정 없이 와이파이 사용할 수 있게 돼 기쁘다\"고 말했다.\\n\\n이날 참가자들은 서울 시내버스 7612번에서 유튜브와 네이버 TV를 통해 행사가 생중계 되는 것을 보는 방식으로 공공와이파이를 체험했다.\\n\\n이날 행사에 국민체험단으로 참가한 신정원 씨는 \"마트나 백화점 갈 때 버스를 많이 타지만 버스 안에서는 데이터 요금이 부담돼 스마트폰을 이용하지 않았었다\"며 \"오늘 공공와이파이를 알게 돼서 버스 안에서도 좋아하는 드라마를 볼 수 있어 버스 타는 게 더 즐거울 것 같다\"고 기대했다.\\n\\n더불어민주당은 21대 국회를 선출하는 총선에서 1호 공약으로 공공와이파이 확대를 내건 바 있다.\\n\\n조정식 의원은 \"공공와이파이 구축은 지난 총선 때 여당의 제1호 공약으로 발표했던 것이어서 의미깊다\"며 \"비대면 시대에 공공와이파이 구축 사업은 국민의 가계 통신비 절감하는 데 중요하다. 이번 공공 버스 와이파이 구축을 계기로 앞으로 더 많은 장소에 공공와이파이 구축위해 국회에서 필요 예산과 법적 제도적 지원 아낌없이 지원하겠다\"고 밝혔다.\\n\\n조승래 과방위 간사는 \"서민들이 통신비 부담 데이터 부담으로부터 공공와이파이가 구축돼 통신비 부담을 줄일 기회가 마련됐다. 신종 코로나바이러스 감염증(코로나19)으로 어려운 시민들에게 시내버스 공공와이파이 구축으로 작은 기쁨됐으면 좋겠다\"며 \"(제가 발의한 공공와이파이 법으로) 공공와이파이로 양적 측면 뿐 아니라 품질관리 할 수 있도록 했다. 곧 국회에서 논의 될 것\"이라고 소개했다.\\n\\n조승래 간사는 9월 \\'공공와이파이 제공과 이용 활성화에 관한 법\\'을 대표 발의했다. 이 법안은 공공와이파이위원회 등을 통해 관리 체계와 적정 품질을 마련하기 위한 내용으로 구성됐다.\\n\\n버스 공공와이파이 보안 접속 방법 2020.12.14 © 뉴스1 김승준 기자\\n\\n\\nseungjun241@news1.kr\\n\\n▶ 네이버 메인에서 [뉴스1] 구독하기!\\n▶ 뉴스1 바로가기 ▶ 코로나19 뉴스\\n\\n© 뉴스1코리아(news1.kr), 무단 전재 및 재배포 금지', '', '', '', '', '0']\n"
     ]
    }
   ],
   "source": [
    "news_df = scraping(\"https://news.naver.com/main/read.naver?mode=LSD&mid=sec&sid1=105&oid=421&aid=0005049338\")"
   ]
  },
  {
   "cell_type": "code",
   "execution_count": 9,
   "metadata": {},
   "outputs": [
    {
     "name": "stdout",
     "output_type": "stream",
     "text": [
      "뉴스 : ['버스 타면 공짜데이터 콸콸콸…정부, 전국 버스에 와이파이 구축(종합)', '뉴스1', '2020.12.14. 오후 1:55', '최기영 장관 \"디지털 시대에 어디서나 인터넷 이용하는 게 중요\"\\n조정식 의원 \"여당 1호 공약…국회 차원 지원 아끼지 않을 것\"\\n14일 오전 서울 영등포구 여의도버스환승센터에서 열린 \\'버스 와이파이 전국 구축 성과보고회\\' 에 참석한 (왼쪽부터) 최기영 과학기술정보통신부 장관, 조정식 국회의원, 조승래 국회의원 (과학기술정보통신부 제공) 2020.12.14/뉴스1\\n\\n(서울=뉴스1) 김승준 기자 = 앞으로 전국 어느 시내버스에서나 무료 와이파이를 이용할 수 있게 됐다. 정부가 지난 2018년 서울 시범사업을 필두로 이날까지 전국 시내버스 전체 노선 총 3만5006대에 공공와이파이 구축을 완료한 덕이다.\\n\\n14일 오전 서울 영등포구 여의도환승센터 4번 승강장에서 \\'버스 Wi-Fi(와이파이) 전국 구축 성과 보고회\\'가 열렸다.\\n\\n2018년부터 추진된 전국 시내버스 공공와이파이 구축이 완료된 것을 기념한 이날 행사에는 과학기술정보방송통신위원회 소속 조승래 더불어민주당 간사, 조정식 더불어민주당 위원, 최기영 과학기술정보통신부 장관, 문용식 한국지능정보화사회진흥원(NIA) 원장 등이 참석했다.\\n\\n최 장관은 \"고가 요금제를 사용하기 어려운 국민들의 통신비 부담을 덜게 돼서 기쁘게 생각한다\"며 \"디지털 시대에 어디서나 언제나 인터넷에 연결해서 이용하는 게 중요하다. 무료 와이파이 시내버스 구축으로 버스로 이동하면서도 비용 걱정 없이 와이파이 사용할 수 있게 돼 기쁘다\"고 말했다.\\n\\n이날 참가자들은 서울 시내버스 7612번에서 유튜브와 네이버 TV를 통해 행사가 생중계 되는 것을 보는 방식으로 공공와이파이를 체험했다.\\n\\n이날 행사에 국민체험단으로 참가한 신정원 씨는 \"마트나 백화점 갈 때 버스를 많이 타지만 버스 안에서는 데이터 요금이 부담돼 스마트폰을 이용하지 않았었다\"며 \"오늘 공공와이파이를 알게 돼서 버스 안에서도 좋아하는 드라마를 볼 수 있어 버스 타는 게 더 즐거울 것 같다\"고 기대했다.\\n\\n더불어민주당은 21대 국회를 선출하는 총선에서 1호 공약으로 공공와이파이 확대를 내건 바 있다.\\n\\n조정식 의원은 \"공공와이파이 구축은 지난 총선 때 여당의 제1호 공약으로 발표했던 것이어서 의미깊다\"며 \"비대면 시대에 공공와이파이 구축 사업은 국민의 가계 통신비 절감하는 데 중요하다. 이번 공공 버스 와이파이 구축을 계기로 앞으로 더 많은 장소에 공공와이파이 구축위해 국회에서 필요 예산과 법적 제도적 지원 아낌없이 지원하겠다\"고 밝혔다.\\n\\n조승래 과방위 간사는 \"서민들이 통신비 부담 데이터 부담으로부터 공공와이파이가 구축돼 통신비 부담을 줄일 기회가 마련됐다. 신종 코로나바이러스 감염증(코로나19)으로 어려운 시민들에게 시내버스 공공와이파이 구축으로 작은 기쁨됐으면 좋겠다\"며 \"(제가 발의한 공공와이파이 법으로) 공공와이파이로 양적 측면 뿐 아니라 품질관리 할 수 있도록 했다. 곧 국회에서 논의 될 것\"이라고 소개했다.\\n\\n조승래 간사는 9월 \\'공공와이파이 제공과 이용 활성화에 관한 법\\'을 대표 발의했다. 이 법안은 공공와이파이위원회 등을 통해 관리 체계와 적정 품질을 마련하기 위한 내용으로 구성됐다.\\n\\n버스 공공와이파이 보안 접속 방법 2020.12.14 © 뉴스1 김승준 기자\\n\\n\\nseungjun241@news1.kr\\n\\n▶ 네이버 메인에서 [뉴스1] 구독하기!\\n▶ 뉴스1 바로가기 ▶ 코로나19 뉴스\\n\\n© 뉴스1코리아(news1.kr), 무단 전재 및 재배포 금지', '0', '0', '0', '0', '0']\n"
     ]
    }
   ],
   "source": [
    "## selenium\n",
    "\n",
    "from selenium import webdriver\n",
    "from selenium.common.exceptions import NoSuchElementException\n",
    "\n",
    "chrome_options = webdriver.ChromeOptions()\n",
    "chrome_options.add_argument('--headless')\n",
    "chrome_options.add_argument('--no-sandbox')\n",
    "chrome_options.add_argument('--disable-dev-shm-usage')\n",
    "\n",
    "\n",
    "## news_scraping\n",
    "\n",
    "def news_scraping(news_url, wd) :\n",
    "    press = wd.find_element_by_xpath('//*[@id=\"main_content\"]/div[1]/div[1]/a/img').get_attribute('title')\n",
    "    title = wd.find_element_by_id('articleTitle').text\n",
    "    date = wd.find_element_by_class_name('t11').text\n",
    "    article = wd.find_element_by_id('articleBodyContents').text\n",
    "    article = article.replace('// flash 오류를 우회하기 위한 함수 추가',\"\")\n",
    "    article = article.replace('function _flash_removeCallback() {}',\"\")\n",
    "    good = wd.find_element_by_xpath('//*[@id=\"spiLayer\"]/div[1]/ul/li[1]/a/span[2]').text\n",
    "    warm = wd.find_element_by_xpath('//*[@id=\"spiLayer\"]/div[1]/ul/li[2]/a/span[2]').text\n",
    "    sad = wd.find_element_by_xpath('//*[@id=\"spiLayer\"]/div[1]/ul/li[3]/a/span[2]').text\n",
    "    angry = wd.find_element_by_xpath('//*[@id=\"spiLayer\"]/div[1]/ul/li[4]/a/span[2]').text\n",
    "    want = wd.find_element_by_xpath('//*[@id=\"spiLayer\"]/div[1]/ul/li[5]/a/span[2]').text\n",
    "    print(\"뉴스 :\",[title, press, date, article, good,warm,sad,angry,want])\n",
    "    return[title, press, date, article, good,warm,sad,angry,want]\n",
    "\n",
    "def scraping(url) :\n",
    "    wd = webdriver.Chrome('chromedriver', options = chrome_options)\n",
    "    wd.implicitly_wait(3)\n",
    "    news_idx = 0\n",
    "    news_df = pd.DataFrame(columns = (\"Title\",'Press','date','article','good','warm','sad','angry','want'))\n",
    "    \n",
    "    news_url = url\n",
    "    wd.get(news_url)\n",
    "    news_df.loc[news_idx] =  news_scraping(news_url,wd)\n",
    "    news_idx += 1\n",
    "    \n",
    "    wd.close()\n",
    "    \n",
    "    return news_df\n",
    "\n",
    "news_df = scraping(\"https://news.naver.com/main/read.naver?mode=LSD&mid=sec&sid1=105&oid=421&aid=0005049338\")"
   ]
  }
 ],
 "metadata": {
  "kernelspec": {
   "display_name": "Python 3",
   "language": "python",
   "name": "python3"
  },
  "language_info": {
   "codemirror_mode": {
    "name": "ipython",
    "version": 3
   },
   "file_extension": ".py",
   "mimetype": "text/x-python",
   "name": "python",
   "nbconvert_exporter": "python",
   "pygments_lexer": "ipython3",
   "version": "3.8.5"
  }
 },
 "nbformat": 4,
 "nbformat_minor": 4
}
