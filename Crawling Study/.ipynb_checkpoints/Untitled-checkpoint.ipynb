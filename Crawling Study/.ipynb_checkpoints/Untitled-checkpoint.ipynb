{
 "cells": [
  {
   "cell_type": "code",
   "execution_count": 16,
   "metadata": {},
   "outputs": [],
   "source": [
    "from selenium.webdriver import Chrome\n",
    "import time\n",
    "import os\n",
    "import pandas as pd\n",
    "from selenium import webdriver\n",
    "from urllib.parse import quote\n",
    "from bs4 import BeautifulSoup\n",
    "# 크롬 웹브라우저 실행\n",
    "path = \"chromedriver.exe\""
   ]
  },
  {
   "cell_type": "code",
   "execution_count": 3,
   "metadata": {},
   "outputs": [],
   "source": [
    "import pandas as pd\n",
    "from tqdm import tqdm\n",
    "import math\n",
    "# 빈창 만들기\n",
    "options = webdriver.ChromeOptions()\n",
    "options.add_argument('--start-maximized')\n",
    "options.add_argument('Mozilla/5.0 (Windows NT 10.0; Win64; x64) AppleWebKit/537.36 (KHTML, like Gecko) Chrome/92.0.4515.107 Safari/537.36')\n",
    "\n",
    "driver = webdriver.Chrome('chromedriver', options = options)"
   ]
  },
  {
   "cell_type": "code",
   "execution_count": 34,
   "metadata": {},
   "outputs": [],
   "source": [
    "url = 'https://cafe.naver.com/cafeclip?iframe_url=/cafecliphttps://cafe.naver.com/ArticleList.nhn%3Fsearch.clubid=16598058%26search.menuid=1033%26search.boardtype=L'\n",
    "driver.get(url)\n",
    "r = driver.page_source\n",
    "page_soup = BeautifulSoup(r, \"html.parser\")"
   ]
  },
  {
   "cell_type": "code",
   "execution_count": null,
   "metadata": {},
   "outputs": [],
   "source": [
    "# 내가 검색하려는 카페 주소 입력하기\n",
    "baseurl = 'https://cafe.naver.com/카페이름/'\n",
    "driver.get(baseurl)\n",
    "\n",
    "# &search.menuid = : 게시판 번호\n",
    "# &search.page = : 데이터 수집 할 페이지 번호 \n",
    "# &userDisplay = 50 : 한 페이지에 보여질 게시글 수\n",
    "\n",
    "clubid = 16598058\n",
    "menuid = 1033\n",
    "pageNum = 1\n",
    "userDisplay = 50\n",
    "\n",
    "driver.get(baseurl + 'ArticleList.nhn?search.clubid=' + str(clubid) + '&search.menuid=' + str(menuid) +'&search.page='+ str(pageNum) +'&userDisplay=' + str(userDisplay))\n",
    "driver.switch_to.frame('cafe_main') #iframe으로 접근\n",
    "\n",
    "soup = bs(driver.page_source ,'html.parser')\n",
    "soup = soup.find_all(class_ = 'article-board m-tcol-c')[1]# 네이버 카페 구조 확인후 게시글 내용만 가저오기\n",
    "#datas = soup.find_all('td', class_ = 'td_article')\n",
    "\n",
    "datas = soup.find_all(class_ = 'td_article')\n",
    "for data in datas:\n",
    "    article_title = data.find(class_ = 'article')\n",
    "    link = article_title.get('href')\n",
    "    article_title = article_title.get_text().strip()\n",
    "    print(article_title)\n",
    "    print(baseurl + link)\n",
    "\n",
    "    f = open('craw.csv', 'a+', newline='', encoding = \"euc-kr\")# 문자 인코딩 -> euc-kr 형태로 변경하여 사용. 안되면 utf-8로 변경 후 진행\n",
    "    wr = csv.writer(f)\n",
    "    wr.writerow([article_title, baseurl + link])\n",
    "    f.close()        \n",
    "    \n",
    "print('종료')\n",
    "#driver.close()"
   ]
  }
 ],
 "metadata": {
  "kernelspec": {
   "display_name": "Python 3",
   "language": "python",
   "name": "python3"
  },
  "language_info": {
   "codemirror_mode": {
    "name": "ipython",
    "version": 3
   },
   "file_extension": ".py",
   "mimetype": "text/x-python",
   "name": "python",
   "nbconvert_exporter": "python",
   "pygments_lexer": "ipython3",
   "version": "3.8.5"
  }
 },
 "nbformat": 4,
 "nbformat_minor": 4
}
