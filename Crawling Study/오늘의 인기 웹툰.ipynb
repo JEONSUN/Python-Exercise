{
 "cells": [
  {
   "cell_type": "code",
   "execution_count": 1,
   "metadata": {},
   "outputs": [],
   "source": [
    "import requests\n",
    "from bs4 import BeautifulSoup"
   ]
  },
  {
   "cell_type": "code",
   "execution_count": 2,
   "metadata": {},
   "outputs": [],
   "source": [
    "url = \"https://comic.naver.com/webtoon/weekday\""
   ]
  },
  {
   "cell_type": "code",
   "execution_count": 4,
   "metadata": {},
   "outputs": [],
   "source": [
    "res = requests.get(url)\n",
    "res.raise_for_status()\n",
    "soup = BeautifulSoup(res.text,'lxml')"
   ]
  },
  {
   "cell_type": "code",
   "execution_count": 8,
   "metadata": {},
   "outputs": [
    {
     "name": "stdout",
     "output_type": "stream",
     "text": [
      "<a href=\"/webtoon/detail?titleId=758037&amp;no=46\" onclick=\"nclk_v2(event,'rnk*p.cont','758037','1')\" title=\"참교육-46화\">참교육-46화</a>\n",
      "<a href=\"/webtoon/detail?titleId=654774&amp;no=284\" onclick=\"nclk_v2(event,'rnk*p.cont','654774','2')\" title=\"소녀의 세계-2부 67화\">소녀의 세계-2부 67화</a>\n",
      "<a href=\"/webtoon/detail?titleId=733074&amp;no=92\" onclick=\"nclk_v2(event,'rnk*p.cont','733074','3')\" title=\"백수세끼-92화 전기구이 통닭\">백수세끼-92화 전기구이 통닭</a>\n",
      "<a href=\"/webtoon/detail?titleId=183559&amp;no=505\" onclick=\"nclk_v2(event,'rnk*p.cont','183559','4')\" title=\"신의 탑-3부 86화\">신의 탑-3부 86화</a>\n",
      "<a href=\"/webtoon/detail?titleId=774863&amp;no=9\" onclick=\"nclk_v2(event,'rnk*p.cont','774863','5')\" title=\"팔이피플-9화 - 오후의 담판\">팔이피플-9화 - 오후의 담판</a>\n",
      "<a href=\"/webtoon/detail?titleId=648419&amp;no=312\" onclick=\"nclk_v2(event,'rnk*p.cont','648419','6')\" title=\"뷰티풀 군바리-307화_국희와 정민\">뷰티풀 군바리-307화_국희와 정민</a>\n",
      "<a href=\"/webtoon/detail?titleId=769317&amp;no=24\" onclick=\"nclk_v2(event,'rnk*p.cont','769317','7')\" title=\"삼매경-24화\">삼매경-24화</a>\n",
      "<a href=\"/webtoon/detail?titleId=709731&amp;no=155\" onclick=\"nclk_v2(event,'rnk*p.cont','709731','8')\" title=\"유일무이 로맨스-155화\">유일무이 로맨스-155화</a>\n",
      "<a href=\"/webtoon/detail?titleId=703849&amp;no=152\" onclick=\"nclk_v2(event,'rnk*p.cont','703849','9')\" title=\"요리GO-시즌3. 45화 호슐랭\">요리GO-시즌3. 45화 호슐랭</a>\n",
      "<a href=\"/webtoon/detail?titleId=772725&amp;no=15\" onclick=\"nclk_v2(event,'rnk*p.cont','772725','10')\" title=\"물어보는 사이-15화\">물어보는 사이-15화</a>\n"
     ]
    }
   ],
   "source": [
    "for v,i in enumerate(range(1,11)) :\n",
    "    if i == 10 :\n",
    "        v = soup.find('li', attrs = {\"class\":\"rank{0}\".format(i)})\n",
    "        print(v.a)\n",
    "    else :\n",
    "        v = soup.find(\"li\", attrs = {\"class\":\"rank0{0}\".format(i)})\n",
    "        print(v.a)"
   ]
  }
 ],
 "metadata": {
  "kernelspec": {
   "display_name": "Python 3 (ipykernel)",
   "language": "python",
   "name": "python3"
  },
  "language_info": {
   "codemirror_mode": {
    "name": "ipython",
    "version": 3
   },
   "file_extension": ".py",
   "mimetype": "text/x-python",
   "name": "python",
   "nbconvert_exporter": "python",
   "pygments_lexer": "ipython3",
   "version": "3.8.5"
  }
 },
 "nbformat": 4,
 "nbformat_minor": 4
}
