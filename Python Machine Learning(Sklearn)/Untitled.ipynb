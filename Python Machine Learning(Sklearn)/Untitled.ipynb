{
 "cells": [
  {
   "cell_type": "code",
   "execution_count": 28,
   "metadata": {},
   "outputs": [],
   "source": [
    "import numpy as np\n",
    "import pandas as pd\n",
    "import matplotlib.pyplot as plt"
   ]
  },
  {
   "cell_type": "code",
   "execution_count": 29,
   "metadata": {},
   "outputs": [],
   "source": [
    "data = [[2,81],[4,93],[6,91],[8,97]]"
   ]
  },
  {
   "cell_type": "code",
   "execution_count": 39,
   "metadata": {},
   "outputs": [
    {
     "name": "stdout",
     "output_type": "stream",
     "text": [
      "[2, 4, 6, 8] [81, 93, 91, 97]\n"
     ]
    }
   ],
   "source": [
    "x = [i[0] for i in data]\n",
    "y = [i[1] for i in data]\n",
    "print(x,y)"
   ]
  },
  {
   "cell_type": "code",
   "execution_count": 38,
   "metadata": {},
   "outputs": [
    {
     "data": {
      "image/png": "[encoded data removed]",
      "text/plain": [
       "<Figure size 576x360 with 1 Axes>"
      ]
     },
     "metadata": {
      "needs_background": "light"
     },
     "output_type": "display_data"
    }
   ],
   "source": [
    "plt.figure(figsize =(8,5))\n",
    "plt.scatter(x,y)\n",
    "plt.show()"
   ]
  },
  {
   "cell_type": "code",
   "execution_count": 40,
   "metadata": {},
   "outputs": [],
   "source": [
    "x_data = np.array(x)\n",
    "y_data = np.array(y)"
   ]
  },
  {
   "cell_type": "code",
   "execution_count": 41,
   "metadata": {},
   "outputs": [],
   "source": [
    "a= 0 \n",
    "b= 0"
   ]
  },
  {
   "cell_type": "code",
   "execution_count": 42,
   "metadata": {},
   "outputs": [],
   "source": [
    "lr = 0.03\n",
    "epochs = 2001"
   ]
  },
  {
   "cell_type": "code",
   "execution_count": 43,
   "metadata": {},
   "outputs": [
    {
     "name": "stdout",
     "output_type": "stream",
     "text": [
      "epoch =0, 기울기=28, 절편=5\n",
      "epoch =100, 기울기=7, 절편=51\n",
      "epoch =200, 기울기=4, 절편=68\n",
      "epoch =300, 기울기=3, 절편=75\n",
      "epoch =400, 기울기=3, 절편=77\n",
      "epoch =500, 기울기=2, 절편=78\n",
      "epoch =600, 기울기=2, 절편=79\n",
      "epoch =700, 기울기=2, 절편=79\n",
      "epoch =800, 기울기=2, 절편=79\n",
      "epoch =900, 기울기=2, 절편=79\n",
      "epoch =1000, 기울기=2, 절편=79\n",
      "epoch =1100, 기울기=2, 절편=79\n",
      "epoch =1200, 기울기=2, 절편=79\n",
      "epoch =1300, 기울기=2, 절편=79\n",
      "epoch =1400, 기울기=2, 절편=79\n",
      "epoch =1500, 기울기=2, 절편=79\n",
      "epoch =1600, 기울기=2, 절편=79\n",
      "epoch =1700, 기울기=2, 절편=79\n",
      "epoch =1800, 기울기=2, 절편=79\n",
      "epoch =1900, 기울기=2, 절편=79\n",
      "epoch =2000, 기울기=2, 절편=79\n"
     ]
    }
   ],
   "source": [
    "for i in range(epochs) :\n",
    "    y_pred = a * x_data + b\n",
    "    error = y_data - y_pred\n",
    "    a_diff = -(2/len(x_data)) * sum(x_data * (error))\n",
    "    b_diff = -(2/len(x_data)) * sum(error)\n",
    "    \n",
    "    a = a  - lr * a_diff\n",
    "    b = b - lr * b_diff\n",
    "    if i % 100 == 0 :\n",
    "        print(\"epoch =%.f, 기울기=%.f, 절편=%.f\" % (i,a,b))"
   ]
  },
  {
   "cell_type": "code",
   "execution_count": 45,
   "metadata": {},
   "outputs": [
    {
     "data": {
      "image/png": "[encoded data removed]",
      "text/plain": [
       "<Figure size 432x288 with 1 Axes>"
      ]
     },
     "metadata": {
      "needs_background": "light"
     },
     "output_type": "display_data"
    }
   ],
   "source": [
    "y_pred = a * x_data + b\n",
    "plt.scatter(x,y)\n",
    "plt.plot([min(x_data), max(x_data)],[min(y_pred), max(y_pred)])\n",
    "plt.show()"
   ]
  },
  {
   "cell_type": "code",
   "execution_count": null,
   "metadata": {},
   "outputs": [],
   "source": []
  },
  {
   "cell_type": "code",
   "execution_count": null,
   "metadata": {},
   "outputs": [],
   "source": []
  },
  {
   "cell_type": "code",
   "execution_count": null,
   "metadata": {},
   "outputs": [],
   "source": []
  },
  {
   "cell_type": "code",
   "execution_count": null,
   "metadata": {},
   "outputs": [],
   "source": []
  },
  {
   "cell_type": "code",
   "execution_count": null,
   "metadata": {},
   "outputs": [],
   "source": []
  },
  {
   "cell_type": "code",
   "execution_count": null,
   "metadata": {},
   "outputs": [],
   "source": []
  },
  {
   "cell_type": "code",
   "execution_count": null,
   "metadata": {},
   "outputs": [],
   "source": []
  },
  {
   "cell_type": "code",
   "execution_count": null,
   "metadata": {},
   "outputs": [],
   "source": []
  },
  {
   "cell_type": "code",
   "execution_count": null,
   "metadata": {},
   "outputs": [],
   "source": []
  },
  {
   "cell_type": "code",
   "execution_count": null,
   "metadata": {},
   "outputs": [],
   "source": []
  },
  {
   "cell_type": "code",
   "execution_count": null,
   "metadata": {},
   "outputs": [],
   "source": []
  },
  {
   "cell_type": "code",
   "execution_count": null,
   "metadata": {},
   "outputs": [],
   "source": []
  },
  {
   "cell_type": "code",
   "execution_count": null,
   "metadata": {},
   "outputs": [],
   "source": []
  }
 ],
 "metadata": {
  "kernelspec": {
   "display_name": "Python 3",
   "language": "python",
   "name": "python3"
  },
  "language_info": {
   "codemirror_mode": {
    "name": "ipython",
    "version": 3
   },
   "file_extension": ".py",
   "mimetype": "text/x-python",
   "name": "python",
   "nbconvert_exporter": "python",
   "pygments_lexer": "ipython3",
   "version": "3.7.3"
  }
 },
 "nbformat": 4,
 "nbformat_minor": 2
}
