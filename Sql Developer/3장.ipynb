{
 "cells": [
  {
   "cell_type": "markdown",
   "metadata": {},
   "source": [
    "### 데이터 제어어 DCL(Data Control Language) : 데이터베이스에 접근하고 객체들을 사용할 수 있도록 권한을 부여하거나 회수하는 명령어\n",
    "\n",
    "- GRANT, REVOKE\n",
    "\n",
    "### 데이터 정의어 DDL(Data Definition Language) : 데이터의 구조를 정의하는 명령어\n",
    "\n",
    "- CREATE, ALTER, DROP, RENAME\n",
    "\n",
    "\n",
    "### 데이터 조작어 DML(Data Manipulation Language) : 데이터베이스에 들어 있는 데이터를 조회하거나 검색, 데이터에 변형을 할 때 사용한다.\n",
    "\n",
    "\n",
    "### 트랜젝션 제어어 TCL(Transaction Control Language) : 논리적인 작업의 단위를 묶어서 DML에 의해 조작된 결과를 작업단위 별로 제어하는 명령어\n",
    "\n",
    "\n",
    "***\n",
    "### As-Is : 비절차적 데이터 조작어는 사용자가 무슨(What) 데이터를 원하는 지만을 명세함\n",
    "\n",
    "### To-Be : 비절차적 데이터 조작어와 달리 절차적 데이터 조작어는 어떻게(How) 데이터를 접근해야 하는지 명세 한다."
   ]
  },
  {
   "cell_type": "markdown",
   "metadata": {},
   "source": [
    "<br>"
   ]
  },
  {
   "cell_type": "markdown",
   "metadata": {},
   "source": [
    "<br>"
   ]
  },
  {
   "cell_type": "markdown",
   "metadata": {},
   "source": [
    "## 단일행 NULL 관련 함수\n",
    "\n",
    "#### nvl(표현식1, 표현식2)\n",
    "- 표현식1의 결과값이 NULL이면 표현식2의 값을 출력한다.\n",
    "\n",
    "#### NULLIF(표현식1, 표현식2)\n",
    "- 표현식1이 표현식2와 같으면 NULL을, 같지 않으면 표현식1을 리턴한다.\n",
    "\n",
    "#### COALESCE(표현식1, 표현식2)\n",
    "- 임의의 개수 표현식에서 NULL이 아닌 최초의 표현식을 나타낸다. 이때, 모든 표현식이 NULL이라면 NULL을 리턴한다."
   ]
  },
  {
   "cell_type": "markdown",
   "metadata": {},
   "source": [
    "***\n",
    "## JOIN 함수\n",
    "\n",
    "\n",
    "#### LEFT, LIGHT JOIN\n",
    "\n",
    "#### FULL JOIN\n",
    "\n",
    "#### INNER, OUTER JOIN\n",
    "> **INNER JOIN**\n",
    "> - 기준 테이블과 조인 테이블 모두 데이터가 존재해야 조회됨\n",
    ">\n",
    "> **OUTER JOIN**\n",
    "> - 기준 테이블에만 데이터가 존재하면 조회됨\n",
    "\n",
    "#### SELF JOIN"
   ]
  },
  {
   "cell_type": "markdown",
   "metadata": {},
   "source": [
    "***\n",
    "\n",
    "## 집합 연산자 종류\n",
    "\n",
    "#### UNION\n",
    "\n",
    "#### UNION ALL\n",
    "\n",
    "#### INTERSECT\n",
    "\n",
    "#### EXCEPT"
   ]
  },
  {
   "cell_type": "markdown",
   "metadata": {},
   "source": [
    "***\n",
    "\n",
    "## 서브쿼리\n",
    "-  하나의 sql문에 들어가는 또다른 sql문\n"
   ]
  },
  {
   "cell_type": "markdown",
   "metadata": {},
   "source": [
    ">**Single Row 서브쿼리(단일 행 서브쿼리)**\n",
    ">- 서브쿼리의 실행 결과가 항상 1건 이하인 서브쿼리, 단일 행 비교 연산자와 같이 쓰임(<,>,=,<=,>=...)\n",
    ">\n",
    ">**Multi Row 서브쿼리(다중 행 서브쿼리)**\n",
    ">- 서브쿼리의 실행 결과가 여러 건인 서브쿼리, 다중 행 비교 연산자와 같이 쓰임(IN, ALL, ANY, SUM....)\n",
    ">\n",
    ">**Multi Column 서브쿼리(다중 컬럼 서브쿼리)**\n",
    ">- 서브쿼리의 실행 결과로 여러 컬럼을 반환, 메인 쿼리의 조건절에 여러 컬럼을 동시 비교 할 수 있다.<br>\n",
    "> 단, 비교하고자 하는 컬럼 개수와 컬럼의 위치가 동일해야 한다.\n",
    "\n",
    "- 단일 행 서브쿼리의 비교연산자는 다중 행 서브쿼리의 비교연산자로 사용할 수 없지만, 반대의 경우는 가능하다."
   ]
  },
  {
   "cell_type": "markdown",
   "metadata": {},
   "source": [
    "## GROUPING 함수\n",
    "\n",
    "> **ROLL UP, CUBE**\n",
    "> - 가질 수 있는 모든 경우에 대하여 SUBTOTAL을 생성하는 경우에 CUBE를 사용\n",
    ">\n",
    ">**ROLL UP**\n",
    "> - 계층 구조를 가진 SUBTOTAL을 생성하는 함수, 나열된 컬럼의 순서가 변경되면 수행 결과도 변경된다.\n",
    ">\n",
    "> **CUBE**\n",
    "> - 결합 가능한 모든 값에 대항 다차원 집계를 생성\n",
    "> - ROLL UP에 비해 시스템에 많은 부담을 주기에 사용에 주의\n",
    "> * GROUP BY CUBE((A), (B), (A,B)) => A 소계, B소계, (A,B)소계, A&B 소계, A&(A,B)소계, B&(A,B)소계, A&B&(A,B) 소계\n",
    "> \n",
    "> **GROUPING SETS**\n",
    ">  - 다양한 소계 집합을 만들어 낼 수 있으며, GROUPING SETS에 표시된 인수들에 대한 개별 집계를 구할 수 있다.\n",
    "> 이때, 표시된 인수들 간에는 계층 구조인 ROLLUP과 달리 평등한 관계이므로 인수의 순서가 바뀌어도 결과는 같다.\n",
    "> * CUBE(A,B) = GROUPING SETS(A,B,()) \n",
    "\n"
   ]
  },
  {
   "cell_type": "markdown",
   "metadata": {},
   "source": [
    "## WINDOW 함수\n",
    "\n",
    "- 윈도우 함수는 행과 행 간의 관계를 정의하기 위해서 제공되는 함수\n",
    "- GROUP BY 함수와 병행하여 사용이 불가능하다.\n",
    "- 윈도우 함수 처리로 인해 결과 건수가 줄어들지 않는다.\n",
    "- 윈도우 함수 적용 범위는 PARTICION을 넘을 수 없다.\n",
    "- PARTITION과 GROUP BY 구문은 의미적으로 유사\n",
    "\n",
    "#### PARTITION BY : 전체 집합을 기준에 의해 소그룹으로 나눈다\n",
    "***\n",
    "### 순위를 나타내는 함수\n",
    "> **RANK**\n",
    "> - ORDER BY를 포함한 쿼리문에서 특정 항목에 대한 순위를 구하는 함수\n",
    "> - 동일한 값에 대하여 동일한 순위를 매긴다. 이때, **중간 순위는 비워둔다.**\n",
    ">\n",
    "> **DENSE RANK**\n",
    "> - RANK와 달리 **중간 순위를 비워두지 않는다.**"
   ]
  },
  {
   "cell_type": "markdown",
   "metadata": {},
   "source": [
    "## DCL\n",
    "\n",
    "> **GRAND**\n",
    "> - DBMS에서 권한을 부여하는 명령어\n",
    ">\n",
    "> **REVOKE**\n",
    "> - 부여된 권한을 회수\n",
    "\n",
    "## ROLE\n",
    "- 많은 DBMS 사용자에게 개별적으로 많은 권한을 부여하는 번거로움과 어려움을 해소하기 위해 다양한 권한을 하나의 그룹으로 묶어놓은 논리적인 권한의 그룹을 의미한다."
   ]
  },
  {
   "cell_type": "markdown",
   "metadata": {},
   "source": [
    "## TRIGGER\n",
    "\n",
    "-  특정 테이블에 INSERT,DELETE, UPDATE와 같은 DML문이 수행되었을때 데이터베이스에서 자동으로 동작하도록 작성된 프로그램을 의미한다."
   ]
  }
 ],
 "metadata": {
  "kernelspec": {
   "display_name": "Python 3 (ipykernel)",
   "language": "python",
   "name": "python3"
  },
  "language_info": {
   "codemirror_mode": {
    "name": "ipython",
    "version": 3
   },
   "file_extension": ".py",
   "mimetype": "text/x-python",
   "name": "python",
   "nbconvert_exporter": "python",
   "pygments_lexer": "ipython3",
   "version": "3.8.5"
  }
 },
 "nbformat": 4,
 "nbformat_minor": 4
}
