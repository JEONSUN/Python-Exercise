{
 "cells": [
  {
   "cell_type": "code",
   "execution_count": 1,
   "metadata": {},
   "outputs": [],
   "source": [
    "import pandas as pd"
   ]
  },
  {
   "cell_type": "code",
   "execution_count": 2,
   "metadata": {},
   "outputs": [],
   "source": [
    "n = [] \n",
    "a = []"
   ]
  },
  {
   "cell_type": "code",
   "execution_count": 3,
   "metadata": {
    "scrolled": true
   },
   "outputs": [
    {
     "name": "stdout",
     "output_type": "stream",
     "text": [
      "1 반정규화 4 1 3 1 2 3 1 1 2 3 3 1 2 파티셔닝 2 4 4 3 13 2\n",
      "1 반정규화 4 1 3 3 4 1 1 1 4 3 3 1 3 파티셔닝 2 4 4 2 24 4\n"
     ]
    }
   ],
   "source": [
    "n = lㅈ2ㅁㅂ1`ㅑㅑㅍㅊist(input().split())\n",
    "a = list(input().split())"
   ]
  },
  {
   "cell_type": "code",
   "execution_count": 4,
   "metadata": {},
   "outputs": [
    {
     "name": "stdout",
     "output_type": "stream",
     "text": [
      "정답률은 63.6%입니다.\n",
      "틀린 문제: 5      6번\n",
      "6      7번\n",
      "7      8번\n",
      "10    11번\n",
      "14    15번\n",
      "19    20번\n",
      "20    21번\n",
      "21    22번\n",
      "Name: 문제, dtype: object\n"
     ]
    }
   ],
   "source": [
    "idx = 0\n",
    "idx_list = []\n",
    "df = pd.DataFrame()\n",
    "for i in range(len(n)) :\n",
    "    play = n[i]\n",
    "    answer = a[i]\n",
    "    if play == answer :\n",
    "        yes_no = \"정답\"\n",
    "    else :\n",
    "        yes_no = \"오답\"\n",
    "    idx = str(i+1) + '번'\n",
    "    idx_list.append(idx)\n",
    "    \n",
    "    mydict = {\"문제\" : idx,\"제출\" : play, \"정답\" : answer, \"정답 유무\" : yes_no}\n",
    "    df = df.append(mydict, ignore_index = True)\n",
    "print(\"정답률은 {:.1f}%입니다.\".format(sum(df['정답 유무'] == '정답')/len(df)*100))\n",
    "print(\"틀린 문제: {}\".format(df[df['정답 유무'] == '오답']['문제']))"
   ]
  },
  {
   "cell_type": "markdown",
   "metadata": {},
   "source": [
    "#### 자격검정 실전문제 답\n",
    "\n",
    "#### 1장\n",
    "2 3 3 2 1 2 4 4 2 3 1 1 1 속성 3 3 1 4 3 34 2 2 3 4 4 4 2 2 4 2\n",
    "\n",
    "#### 2장\n",
    "1 반정규화 4 1 3 3 4 1 1 1 4 3 3 1 3 파티셔닝 2 4 4 2 24 4"
   ]
  },
  {
   "cell_type": "code",
   "execution_count": 5,
   "metadata": {},
   "outputs": [
    {
     "name": "stdout",
     "output_type": "stream",
     "text": [
      "정답률은 63.6%입니다.\n",
      "틀린 문제: 5     36번\n",
      "6     37번\n",
      "7     38번\n",
      "10    41번\n",
      "14    45번\n",
      "19    50번\n",
      "20    51번\n",
      "21    52번\n",
      "Name: 문제, dtype: object\n"
     ]
    }
   ],
   "source": [
    "idx = 0\n",
    "idx_list = []\n",
    "df = pd.DataFrame()\n",
    "for i in range(len(n)) :\n",
    "    play = n[i]\n",
    "    answer = a[i]\n",
    "    if play == answer :\n",
    "        yes_no = \"정답\"\n",
    "    else :\n",
    "        yes_no = \"오답\"\n",
    "    idx = str(i+31) + '번'\n",
    "    idx_list.append(idx)i\n",
    "    \n",
    "    mydict = {\"문제\" : idx,\"제출\" : play, \"정답\" : answer, \"정답 유무\" : yes_no}\n",
    "    df = df.append(mydict, ignore_index = True)\n",
    "print(\"정답률은 {:.1f}%입니다.\".format(sum(df['정답 유무'] == '정답')/len(df)*100))\n",
    "print(\"틀린 문제: {}\".format(df[df['정답 유무'] == '오답']['문제']))"
   ]
  }
 ],
 "metadata": {
  "kernelspec": {
   "display_name": "Python 3 (ipykernel)",
   "language": "python",
   "name": "python3"
  },
  "language_info": {
   "codemirror_mode": {
    "name": "ipython",
    "version": 3
   },
   "file_extension": ".py",
   "mimetype": "text/x-python",
   "name": "python",
   "nbconvert_exporter": "python",
   "pygments_lexer": "ipython3",
   "version": "3.8.5"
  }
 },
 "nbformat": 4,
 "nbformat_minor": 4
}
