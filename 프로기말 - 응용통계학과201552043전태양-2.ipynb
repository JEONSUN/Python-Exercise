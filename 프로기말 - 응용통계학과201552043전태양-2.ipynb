{
 "cells": [
  {
   "cell_type": "code",
   "execution_count": 2,
   "metadata": {},
   "outputs": [
    {
     "name": "stdout",
     "output_type": "stream",
     "text": [
      "국어점수를 입력해주세요 : 80\n",
      "수학점수를 입력해주세요 : 90\n",
      "영어점수를 입력해주세요 : 97\n",
      "당신의 평균점수는 89이고 학점은 B입니다\n"
     ]
    }
   ],
   "source": [
    "num1 = int(input(\"국어점수를 입력해주세요 : \"))\n",
    "num2 = int(input(\"수학점수를 입력해주세요 : \"))\n",
    "num3 = int(input(\"영어점수를 입력해주세요 : \"))\n",
    "\n",
    " \n",
    "result = (num1+num2+num3)/3\n",
    "if result >= 90 :\n",
    "    grade = \"A\"\n",
    "elif result >= 80 :\n",
    "    grade = \"B\"\n",
    "else :\n",
    "    grade = \"F\"\n",
    "print(\"당신의 평균점수는 %d이고 학점은 %s입니다\"% (result,grade))\n"
   ]
  }
 ],
 "metadata": {
  "kernelspec": {
   "display_name": "Python 3",
   "language": "python",
   "name": "python3"
  },
  "language_info": {
   "codemirror_mode": {
    "name": "ipython",
    "version": 3
   },
   "file_extension": ".py",
   "mimetype": "text/x-python",
   "name": "python",
   "nbconvert_exporter": "python",
   "pygments_lexer": "ipython3",
   "version": "3.7.3"
  }
 },
 "nbformat": 4,
 "nbformat_minor": 2
}
