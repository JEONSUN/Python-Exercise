{
 "cells": [
  {
   "cell_type": "code",
   "execution_count": 1,
   "metadata": {},
   "outputs": [
    {
     "name": "stderr",
     "output_type": "stream",
     "text": [
      "Using TensorFlow backend.\n"
     ]
    }
   ],
   "source": [
    "import numpy as np\n",
    "from keras.models import Model, Sequential\n",
    "from keras.layers import *"
   ]
  },
  {
   "cell_type": "markdown",
   "metadata": {},
   "source": [
    "RNN은 순차형 데이터를 모델링하는데 최적화된 구조이다.\n",
    "\n",
    "데이터가 입력되는 순서가 중요한 역할을 하는 순차형 정보를 수월하게 처리하기 위해 RNN은 이전 상태를 기록하고 이를 다음 셀에서 활용할 수 있는 독특한 구조를 가지고 있다.\n",
    "\n",
    "RNN을 효과적으로 활용하기 위해서는 이러한 상태(state)들 간의 순서(sequence)라는 컨셉을 이해하는 것이 필수적이다."
   ]
  },
  {
   "cell_type": "markdown",
   "metadata": {},
   "source": [
    "### rnn 모델 입력 데이터\n",
    "\n",
    "가장 기본적인 형태의 RNN셀에 입력되는 텐서의 모양은 **(batch_size , timesteps,input_dim)**과 같다\n",
    "\n",
    "- batch_size : 경사하강법으로 학습될 때 한 번에 고려되는 데이터 인스턴스의 갯수, RNN 셀을 생성할 때는 설정되지 않고 주로 모델을 fitting하는 과정에서 설정된다.\n",
    "\n",
    "\n",
    "- timesteps : 인풋시퀀스의 갯수\n",
    "\n",
    "\n",
    "- input_dim : 각 인풋 시퀀스의 차원"
   ]
  },
  {
   "cell_type": "code",
   "execution_count": 2,
   "metadata": {},
   "outputs": [],
   "source": [
    "x = np.array([[\n",
    "             [1,    # => input_dim 1\n",
    "              2,    # => input_dim 2 \n",
    "              3],   # => input_dim 3     # => timestep 1                            \n",
    "             [4, 5, 6]                   # => timestep 2\n",
    "             ],                                  # => batch 1\n",
    "             [[7, 8, 9], [10, 11, 12]],          # => batch 2\n",
    "             [[13, 14, 15], [16, 17, 18]]        # => batch 3\n",
    "             ])"
   ]
  },
  {
   "cell_type": "code",
   "execution_count": 3,
   "metadata": {},
   "outputs": [
    {
     "data": {
      "text/plain": [
       "array([[[ 1,  2,  3],\n",
       "        [ 4,  5,  6]],\n",
       "\n",
       "       [[ 7,  8,  9],\n",
       "        [10, 11, 12]],\n",
       "\n",
       "       [[13, 14, 15],\n",
       "        [16, 17, 18]]])"
      ]
     },
     "execution_count": 3,
     "metadata": {},
     "output_type": "execute_result"
    }
   ],
   "source": [
    "x"
   ]
  },
  {
   "cell_type": "code",
   "execution_count": 4,
   "metadata": {},
   "outputs": [
    {
     "name": "stdout",
     "output_type": "stream",
     "text": [
      "(Batch size, timesteps, input_dim) =  (3, 2, 3)\n"
     ]
    }
   ],
   "source": [
    "print('(Batch size, timesteps, input_dim) = ',x.shape)"
   ]
  },
  {
   "cell_type": "code",
   "execution_count": null,
   "metadata": {},
   "outputs": [],
   "source": []
  },
  {
   "cell_type": "code",
   "execution_count": null,
   "metadata": {},
   "outputs": [],
   "source": []
  }
 ],
 "metadata": {
  "kernelspec": {
   "display_name": "Python 3",
   "language": "python",
   "name": "python3"
  },
  "language_info": {
   "codemirror_mode": {
    "name": "ipython",
    "version": 3
   },
   "file_extension": ".py",
   "mimetype": "text/x-python",
   "name": "python",
   "nbconvert_exporter": "python",
   "pygments_lexer": "ipython3",
   "version": "3.7.3"
  }
 },
 "nbformat": 4,
 "nbformat_minor": 2
}
