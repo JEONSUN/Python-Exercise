{
 "cells": [
  {
   "cell_type": "code",
   "execution_count": 1,
   "metadata": {},
   "outputs": [],
   "source": [
    "import numpy as np\n",
    "import matplotlib.pyplot as plt"
   ]
  },
  {
   "cell_type": "markdown",
   "metadata": {},
   "source": [
    "## 벡터\n",
    "\n",
    "- 벡터는 숫자를 원소로 가지는 **리스트(list)** 또는 **배열(array)**이다.\n",
    "- 벡터는 공간에서 한 점을 나타낸다.\n",
    "***\n",
    "- **1차원 공간** : 수직선\n",
    "- **2차원 공간** : 좌표평면\n",
    "- **3차원 공간** : n차원 공간\n",
    "***"
   ]
  },
  {
   "cell_type": "code",
   "execution_count": 14,
   "metadata": {},
   "outputs": [
    {
     "data": {
      "image/png": "[encoded data removed]",
      "text/plain": [
       "<Figure size 432x288 with 1 Axes>"
      ]
     },
     "metadata": {
      "needs_background": "light"
     },
     "output_type": "display_data"
    }
   ],
   "source": [
    "x = np.array([1,0])\n",
    "plt.scatter(x = x[0], y = x[1], c = 'r', label = '1dimension')\n",
    "plt.ylim([0,1])\n",
    "plt.legend()\n",
    "plt.show()"
   ]
  },
  {
   "cell_type": "markdown",
   "metadata": {},
   "source": [
    "## 스칼라곱\n",
    "\n",
    "- 벡터는 원점으로부터 상대적 위치를 표현하며, **벡터에 숫자를 곱해주면 길이만 변한다**\n",
    "\n",
    "- 주어진 벡터의 길이를 변환시키는 것으로 **숫자의 크기가 1보다 크면** 원래 벡터의 길이보다 더 늘리고, **1보다 작으면** 원래 벡터의 길이보다 더 줄이는 연산을 **스칼라 곱**이라 의미한다.\n",
    "\n",
    "$ax = [ax1, ax2, ax3]$\n",
    "\n",
    "***\n",
    "### 벡터끼리 같은 모양을 가지면 덧셈, 뺄셈을 계산할 수 있다.\n",
    "\n",
    "- 두 벡터의 덧셈은 다른 벡터로부터 **상대적 위치이동**을 표현한다.<br>\n",
    "$x + y = [x1 + y1, x2 + y2, x_d + y_d]$"
   ]
  },
  {
   "cell_type": "code",
   "execution_count": 15,
   "metadata": {},
   "outputs": [],
   "source": [
    "x = np.array([1,2,3,4]).reshape(-1,1)\n",
    "y = np.array([5,6,7,8]).reshape(-1,1)"
   ]
  },
  {
   "cell_type": "code",
   "execution_count": 23,
   "metadata": {},
   "outputs": [
    {
     "name": "stdout",
     "output_type": "stream",
     "text": [
      "x+y : \n",
      " [[ 6]\n",
      " [ 8]\n",
      " [10]\n",
      " [12]]\n"
     ]
    }
   ],
   "source": [
    "print(\"x+y : \\n\", x+y)"
   ]
  },
  {
   "cell_type": "code",
   "execution_count": 30,
   "metadata": {},
   "outputs": [
    {
     "data": {
      "image/png": "[encoded data removed]",
      "text/plain": [
       "<Figure size 432x288 with 1 Axes>"
      ]
     },
     "metadata": {
      "needs_background": "light"
     },
     "output_type": "display_data"
    }
   ],
   "source": [
    "# 벡터의 덧셈과 뺄셈(상대적 위치이동)\n",
    "x1 = np.array([0,1])\n",
    "y1 = np.array([1,0])\n",
    "plt.plot(x1,y1, c = 'r')\n",
    "plt.plot(x1+y1, c = 'b')\n",
    "plt.plot(x1-y1, c = 'g')\n",
    "plt.show()"
   ]
  },
  {
   "cell_type": "markdown",
   "metadata": {},
   "source": [
    "#### 마찬가지로 같은 모양을 가지면 성분곱(Hadamard product)을 계산할 수 있다.\n",
    "\n",
    "$x * y = [x1y1, x2y2, x_dy_d]$"
   ]
  },
  {
   "cell_type": "code",
   "execution_count": 25,
   "metadata": {},
   "outputs": [
    {
     "name": "stdout",
     "output_type": "stream",
     "text": [
      "x*y : \n",
      " [[ 5]\n",
      " [12]\n",
      " [21]\n",
      " [32]]\n"
     ]
    }
   ],
   "source": [
    "print(\"x*y : \\n\",x * y)"
   ]
  },
  {
   "cell_type": "markdown",
   "metadata": {},
   "source": [
    "## 벡터의 노름(Norm)\n",
    "\n",
    "- 벡터의 노름은 **원점에서부터의 거리**를 말한다.\n",
    "\n",
    "$||x||_1  = $"
   ]
  },
  {
   "cell_type": "code",
   "execution_count": 64,
   "metadata": {},
   "outputs": [],
   "source": [
    "x = np.array([2,3])\n",
    "y = np.array([4,4])\n"
   ]
  },
  {
   "cell_type": "code",
   "execution_count": 70,
   "metadata": {},
   "outputs": [
    {
     "data": {
      "image/png": "[encoded data removed]",
      "text/plain": [
       "<Figure size 432x288 with 1 Axes>"
      ]
     },
     "metadata": {
      "needs_background": "light"
     },
     "output_type": "display_data"
    }
   ],
   "source": [
    "plt.scatter(x[0],x[1])\n",
    "plt.scatter(y[0],y[1])\n",
    "plt.show()"
   ]
  },
  {
   "cell_type": "code",
   "execution_count": 63,
   "metadata": {},
   "outputs": [
    {
     "data": {
      "text/plain": [
       "array([[ 4,  4],\n",
       "       [12, 12]])"
      ]
     },
     "execution_count": 63,
     "metadata": {},
     "output_type": "execute_result"
    }
   ],
   "source": [
    "np.inner(x,y)"
   ]
  },
  {
   "cell_type": "code",
   "execution_count": null,
   "metadata": {},
   "outputs": [],
   "source": []
  },
  {
   "cell_type": "code",
   "execution_count": null,
   "metadata": {},
   "outputs": [],
   "source": []
  },
  {
   "cell_type": "code",
   "execution_count": null,
   "metadata": {},
   "outputs": [],
   "source": []
  },
  {
   "cell_type": "code",
   "execution_count": null,
   "metadata": {},
   "outputs": [],
   "source": []
  },
  {
   "cell_type": "code",
   "execution_count": null,
   "metadata": {},
   "outputs": [],
   "source": []
  }
 ],
 "metadata": {
  "kernelspec": {
   "display_name": "Python 3 (ipykernel)",
   "language": "python",
   "name": "python3"
  },
  "language_info": {
   "codemirror_mode": {
    "name": "ipython",
    "version": 3
   },
   "file_extension": ".py",
   "mimetype": "text/x-python",
   "name": "python",
   "nbconvert_exporter": "python",
   "pygments_lexer": "ipython3",
   "version": "3.8.5"
  }
 },
 "nbformat": 4,
 "nbformat_minor": 4
}
