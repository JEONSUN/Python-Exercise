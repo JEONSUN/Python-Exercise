{
 "cells": [
  {
   "cell_type": "code",
   "execution_count": 1,
   "metadata": {},
   "outputs": [
    {
     "name": "stdout",
     "output_type": "stream",
     "text": [
      "아니다 코디만 했다\n",
      "주찬이는 메이플 10년 했다.\n",
      "아니다 코디만 했다\n",
      "주찬이는 메이플 10년 했다.\n"
     ]
    }
   ],
   "source": [
    "주찬 = [\"메이플\",\"10년\",\"했다\"]\n",
    "maple = [\"코디\", \"10년\",\"유니온\",\"메이플\"]\n",
    "for i in maple :\n",
    "    if i in 주찬:\n",
    "        print(\"주찬이는 메이플 10년 했다.\")\n",
    "    else :\n",
    "        print(\"아니다 코디만 했다\")"
   ]
  },
  {
   "cell_type": "code",
   "execution_count": 2,
   "metadata": {},
   "outputs": [
    {
     "name": "stdout",
     "output_type": "stream",
     "text": [
      "10\n",
      "주찬이가 뺀 몸무게는 10이다.\n",
      "주찬이가 다이어트 전 몸무게는 132이다.\n",
      "주찬이의 다이어트 후 몸무게는 122이다.\n"
     ]
    }
   ],
   "source": [
    "before_weight = 132\n",
    "weight = int(input())\n",
    "after_weight = before_weight - weight\n",
    "print(\"주찬이가 뺀 몸무게는 %d이다.\" % weight)\n",
    "print(\"주찬이가 다이어트 전 몸무게는 %d이다.\" % before_weight )\n",
    "print(\"주찬이의 다이어트 후 몸무게는 %d이다.\" % after_weight)\n"
   ]
  },
  {
   "cell_type": "code",
   "execution_count": 3,
   "metadata": {},
   "outputs": [
    {
     "name": "stdout",
     "output_type": "stream",
     "text": [
      "67\n",
      "주찬이가 67킬로가 되려면 65만큼 빼야한다.\n"
     ]
    }
   ],
   "source": [
    "after_weight = int(input(\"주찬이가 원하는 몸무게 :\"))\n",
    "weight =132 - after_weight\n",
    "\n",
    "print(\"주찬이가 %d킬로가 되려면 %d만큼 빼야한다.\" % (after_weight,weight))"
   ]
  },
  {
   "cell_type": "code",
   "execution_count": 4,
   "metadata": {},
   "outputs": [
    {
     "name": "stdout",
     "output_type": "stream",
     "text": [
      "주찬이가 내일 점심에 먹을 음식은? : 된장\n"
     ]
    }
   ],
   "source": [
    "import random \n",
    "\n",
    "food = {\"된장\" : \"된장국\",\n",
    "       \"고추장\" : \"고추장찌개\",\n",
    "       \"단식\" : \"다이어트\"}\n",
    "\n",
    "food1 = random.choice(list(food.keys()))\n",
    "print(\"주찬이가 내일 점심에 먹을 음식은? : %s\" % food1)"
   ]
  }
 ],
 "metadata": {
  "kernelspec": {
   "display_name": "Python 3",
   "language": "python",
   "name": "python3"
  },
  "language_info": {
   "codemirror_mode": {
    "name": "ipython",
    "version": 3
   },
   "file_extension": ".py",
   "mimetype": "text/x-python",
   "name": "python",
   "nbconvert_exporter": "python",
   "pygments_lexer": "ipython3",
   "version": "3.7.3"
  }
 },
 "nbformat": 4,
 "nbformat_minor": 2
}
